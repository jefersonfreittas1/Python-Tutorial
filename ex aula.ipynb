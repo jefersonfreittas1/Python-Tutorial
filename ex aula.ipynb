{
  "nbformat": 4,
  "nbformat_minor": 0,
  "metadata": {
    "colab": {
      "provenance": [],
      "include_colab_link": true
    },
    "kernelspec": {
      "name": "python3",
      "display_name": "Python 3"
    },
    "language_info": {
      "name": "python"
    }
  },
  "cells": [
    {
      "cell_type": "markdown",
      "metadata": {
        "id": "view-in-github",
        "colab_type": "text"
      },
      "source": [
        "<a href=\"https://colab.research.google.com/github/jefersonfreittas1/Python-Tutorial/blob/main/ex%20aula.ipynb\" target=\"_parent\"><img src=\"https://colab.research.google.com/assets/colab-badge.svg\" alt=\"Open In Colab\"/></a>"
      ]
    },
    {
      "cell_type": "markdown",
      "metadata": {
        "id": "8ab0f59f"
      },
      "source": [
        "# UFSM00171 - Métodos Numéricos para Engenharia Química\n",
        "\n",
        "## Aula 04 - Algoritmos: Exercícios\n",
        "\n"
      ]
    },
    {
      "cell_type": "markdown",
      "source": [
        "## 1. Soma de números naturais\n",
        "Escreva um programa que peça um número `n` do usuário e compute a soma de todos os números naturais até `n` usando um laço `for`.\n"
      ],
      "metadata": {
        "id": "7ymzO9YLUpJp"
      }
    },
    {
      "cell_type": "code",
      "source": [
        "n = int(input('Insira um número:'))\n",
        "\n",
        "soma = 0\n",
        "for i in range(n+1):\n",
        "  soma = soma + i\n",
        "\n",
        "print(f'A soma dos números naturais até {n} é {soma}.')"
      ],
      "metadata": {
        "id": "vHJSx4InPbMe",
        "colab": {
          "base_uri": "https://localhost:8080/"
        },
        "outputId": "2fbde81e-f70b-4762-8fe2-5441431c79e4"
      },
      "execution_count": null,
      "outputs": [
        {
          "output_type": "stream",
          "name": "stdout",
          "text": [
            "Insira um número:5\n",
            "A soma dos números naturais até 5 é 15.\n"
          ]
        }
      ]
    },
    {
      "cell_type": "markdown",
      "source": [
        "## 2. Sequência Fibonacci\n",
        "Escreva um programa que imprima na tela os primeiros `n` números de uma sequência Fibonacci usando um laço `while`."
      ],
      "metadata": {
        "id": "-bMiClo4VFU5"
      }
    },
    {
      "cell_type": "code",
      "source": [
        "n = int(input('Insira um número:'))\n",
        "a, b = 0, 1\n",
        "contador = 0\n",
        "while contador < n:\n",
        "    print(a, end=' ')\n",
        "    a, b = b, a+b\n",
        "    contador += 1"
      ],
      "metadata": {
        "id": "niDVXAJnWLEZ",
        "colab": {
          "base_uri": "https://localhost:8080/"
        },
        "outputId": "7223ac39-3994-45a4-dbb2-fafb530da86f"
      },
      "execution_count": null,
      "outputs": [
        {
          "output_type": "stream",
          "name": "stdout",
          "text": [
            "Insira um número:10\n",
            "0 1 1 2 3 5 8 13 21 34 "
          ]
        }
      ]
    },
    {
      "cell_type": "markdown",
      "source": [
        "## 3. Par ou ímpar\n",
        "Escreva um programa que peça um número para o usuário e cheque se esse número é par ou ímpar utilizando estruturas `if-else`."
      ],
      "metadata": {
        "id": "Ur_sdQhEYByy"
      }
    },
    {
      "cell_type": "code",
      "source": [
        "num = int(input('Insira um número: '))\n",
        "if num % 2 == 0:\n",
        "  print(f\"{num} é par.\")\n",
        "else:\n",
        "  print(f\"{num} é ímpar.\")"
      ],
      "metadata": {
        "id": "Ukp48UONXa8o",
        "colab": {
          "base_uri": "https://localhost:8080/"
        },
        "outputId": "6e452229-ed4c-43b8-dc8e-5e9528112261"
      },
      "execution_count": null,
      "outputs": [
        {
          "output_type": "stream",
          "name": "stdout",
          "text": [
            "Insira um número: 5\n",
            "5 é ímpar.\n"
          ]
        }
      ]
    },
    {
      "cell_type": "markdown",
      "source": [
        "## 4. Encontre o maior número\n",
        "Escreva um programa que sorteie aleatoriamente 3 números e imprima na tela o mais alto deles utilizando `if`, `elif` e `else`."
      ],
      "metadata": {
        "id": "oMYK2uB-YmGa"
      }
    },
    {
      "cell_type": "code",
      "source": [
        "import numpy as np\n",
        "\n",
        "a = np.random.random()\n",
        "b = np.random.random()\n",
        "c = np.random.random()\n",
        "if (a > b) and (a > c):\n",
        "  print(f\"a ({a}) é o maior número.\")\n",
        "elif b > a and b > c:\n",
        "  print(f\"b ({b}) é o maior número.\")\n",
        "else:\n",
        "  print(f\"c ({c}) é o maior número.\")"
      ],
      "metadata": {
        "colab": {
          "base_uri": "https://localhost:8080/"
        },
        "id": "LK5xHalOtWD7",
        "outputId": "98c0365f-7f32-442a-e8ef-ca87d1e5d307"
      },
      "execution_count": null,
      "outputs": [
        {
          "output_type": "stream",
          "name": "stdout",
          "text": [
            "b (0.7168174569960148) é o maior número.\n"
          ]
        }
      ]
    },
    {
      "cell_type": "code",
      "source": [
        "import numpy as np\n",
        "a,b,c = np.random.randint(100, size=3)\n",
        "print(a,b,c)"
      ],
      "metadata": {
        "id": "J8CQKsZMYhQ4",
        "colab": {
          "base_uri": "https://localhost:8080/"
        },
        "outputId": "bba8fed7-cca4-4e23-af0c-204b7223704c"
      },
      "execution_count": null,
      "outputs": [
        {
          "output_type": "stream",
          "name": "stdout",
          "text": [
            "16 73 72\n"
          ]
        }
      ]
    },
    {
      "cell_type": "markdown",
      "source": [
        "## 5. Números primos\n",
        "Escreva um programa para checar se um dado número é primo ou não. Utilize as estruturas `for` e `if`."
      ],
      "metadata": {
        "id": "gBLVefXTaRk5"
      }
    },
    {
      "cell_type": "code",
      "source": [
        "num = int(input('Insira um número:'))\n",
        "primo = True\n",
        "\n",
        "if num > 1:\n",
        "    for i in range(2,num):\n",
        "        if (num % i) == 0:\n",
        "            primo = False\n",
        "            break\n",
        "    if primo:\n",
        "        print(f\"{num} é primo.\")\n",
        "    else:\n",
        "        print(f\"{num} não é primo.\")\n",
        "else:\n",
        "    print(f\"{num} não é primo.\")"
      ],
      "metadata": {
        "id": "uMUrBDd0ZAqR"
      },
      "execution_count": null,
      "outputs": []
    },
    {
      "cell_type": "markdown",
      "source": [
        "## 6. Jogo de azar\n",
        "Escreva um programa em que o usuário tenha que adivinhar um número inteiro de 1 a 10. O programa deve fornecer dicas se o palpite está muito alto ou muito baixo e deve parar quando o usuário acertar a resposta."
      ],
      "metadata": {
        "id": "gdpKjYCWdBPR"
      }
    },
    {
      "cell_type": "code",
      "source": [
        "import random\n",
        "print('Adivinhe o número de 1 a 10')\n",
        "num_secreto = random.randint(1, 10)\n",
        "palpite = None\n",
        "\n",
        "while palpite != num_secreto:\n",
        "    palpite = int(input('Insira um palpite: '))\n",
        "    if palpite > num_secreto:\n",
        "        print('Muito alto!')\n",
        "    elif palpite < num_secreto:\n",
        "        print('Muito baixo!')\n",
        "    else:\n",
        "        print('Você acertou!')"
      ],
      "metadata": {
        "id": "Ny0rakwDbkw_"
      },
      "execution_count": null,
      "outputs": []
    },
    {
      "cell_type": "markdown",
      "source": [
        "## 7. Fatorial\n",
        "Escreva um programa que calcule o fatorial de um número utilizando um laço `for`."
      ],
      "metadata": {
        "id": "M1fAZ81uezQJ"
      }
    },
    {
      "cell_type": "code",
      "source": [
        "n = int(input('Insira um número: '))\n",
        "fatorial = 1\n",
        "\n",
        "if n < 0:\n",
        "  print('Não existe fatorial para números negativos.')\n",
        "elif n == 0:\n",
        "  print('O fatorial de 0 é 1.')\n",
        "else:\n",
        "  for i in range(1, n+1):\n",
        "    fatorial *= i\n",
        "  print(f\"O fatorial de {n} é {fatorial}.\")"
      ],
      "metadata": {
        "id": "iInllZ64erAw",
        "colab": {
          "base_uri": "https://localhost:8080/"
        },
        "outputId": "e83746fe-aae3-4148-97e6-449182305126"
      },
      "execution_count": null,
      "outputs": [
        {
          "output_type": "stream",
          "name": "stdout",
          "text": [
            "Insira um número: 6\n",
            "O fatorial de 6 é 720.\n"
          ]
        }
      ]
    },
    {
      "cell_type": "markdown",
      "source": [
        "## 8. Contagem de vogais em uma _string_\n",
        "Escreva um programa que receba uma _string_ do usuário e conte o número de vogais utilizando estruturas `for`e `if`."
      ],
      "metadata": {
        "id": "qBTRSKnehbfp"
      }
    },
    {
      "cell_type": "code",
      "source": [
        "texto = input('Insira um texto: ').lower()\n",
        "vogais = 'aeiou'\n",
        "contador = 0\n",
        "for caractere in texto:\n",
        "  if caractere in vogais:\n",
        "    contador += 1\n",
        "print(f\"O número de vogais no texto é {contador}.\")"
      ],
      "metadata": {
        "id": "jYgD2okbfhYJ"
      },
      "execution_count": null,
      "outputs": []
    },
    {
      "cell_type": "markdown",
      "source": [
        "## 9. Equilíbrio líquido-vapor: Lei de Raoult\n",
        "Obtenha o diagrama de equilíbrio líquido-vapor $P \\ vs \\ x,y$ de uma mistura binária de acetona (1) + Água (2) a 393.15 K utilizando as hipóteses de gás ideal e solução ideal. <br>\n",
        "Dados: <br>\n",
        "Antoine: $log (P_i ^{sat}) = A_i - \\frac{B_i}{T+C_i}$ <br>\n",
        "Acetona: $A = 4.42448$, $\\ B=1312.253$, $\\ C=-32.445$ <br>\n",
        "Água: $A=3.55959$,$\\ B=643.748$,$\\ C=-198.043$\n"
      ],
      "metadata": {
        "id": "dcgjOsFyzS5H"
      }
    },
    {
      "cell_type": "code",
      "source": [
        "# Importação das bibliotecas\n",
        "import numpy as np\n",
        "import matplotlib.pyplot as plt\n",
        "\n",
        "# DADOS\n",
        "# Parâmetros de Antoine\n",
        "A  = np.array([4.42448, 3.55959])\n",
        "B  = np.array([1312.253, 643.748])\n",
        "C  = np.array([-32.445, -198.043])\n",
        "T  = 393.15 # Temperatura [K]\n",
        "NC = 2      # Número de componentes\n",
        "# Vetor das frações molares na fase líquida\n",
        "xx = np.arange(0, 1.01, 0.01)\n",
        "\n",
        "# Pré-alocação\n",
        "Psat = np.zeros(NC)\n",
        "x    = np.zeros(NC) # [xx, 1-xx]\n",
        "P    = np.zeros(xx.size) # (101 elementos)\n",
        "y    = np.zeros((xx.size, NC)) # (101 x 2)\n",
        "\n",
        "# Pressões de saturação para cada componente\n",
        "for i in range(NC):\n",
        "    Psat[i] = 10**(A[i] - B[i]/(T+C[i]))  # mmHg\n",
        "Psat = Psat*0.00133 # Conversão de mmHg para bar\n",
        "\n",
        "# Cálculo do Equilíbrio Líquido-Vapor (loop)\n",
        "for i in range(xx.size):\n",
        "    x = np.array([xx[i], 1-xx[i]])\n",
        "\n",
        "    soma = 0\n",
        "    for k in range(NC):\n",
        "        soma = soma + x[k]*Psat[k]\n",
        "    P[i] = soma\n",
        "\n",
        "    for j in range(NC):\n",
        "        y[i,j] = x[j]*Psat[j]/P[i]\n",
        "\n",
        "plt.plot(xx,P,label='Fração molar na fase líquida, $x_1$')\n",
        "plt.plot(y[:,0],P,label='Fração molar na fase vapor, $y_1$')\n",
        "plt.legend(loc='best')\n",
        "plt.xlabel('$x_1$,$y_1$')\n",
        "plt.ylabel('Pressão [bar]')\n",
        "plt.grid(color='k',linestyle=':')\n"
      ],
      "metadata": {
        "id": "z4kei_kS0iik",
        "colab": {
          "base_uri": "https://localhost:8080/",
          "height": 470
        },
        "outputId": "e7fe6957-43a4-44ae-8f5d-15f5b2d54757"
      },
      "execution_count": null,
      "outputs": [
        {
          "output_type": "display_data",
          "data": {
            "text/plain": [
              "<Figure size 640x480 with 1 Axes>"
            ],
            "image/png": "[encoded data removed]"
          },
          "metadata": {}
        }
      ]
    },
    {
      "cell_type": "markdown",
      "source": [
        "## 10. Equilíbrio líquido-vapor: Lei de Raoult Modificada\n",
        "Obtenha o diagrama de equilíbrio líquido-vapor $P \\ vs \\ x,y$ de uma mistura binária de acetona (1) + Água (2) a 393.15 K utilizando as hipóteses de gás ideal e solução não-ideal. <br>\n",
        "Dados: <br>\n",
        "###**Antoine:** <br>\n",
        "$log (P_i ^{sat}) = A_i - \\frac{B_i}{T+C_i}$ <br>\n",
        "Acetona: $A = 4.42448$, $\\ B=1312.253$, $\\ C=-32.445$ <br>\n",
        "Água: $A=3.55959$,$\\ B=643.748$,$\\ C=-198.043$\n",
        "###**Van Laar:** <br>\n",
        "$ln γ_1 = A_{12} \\left( \\frac{A_{21}x_2}{A_{12}x_1+A_{21}x_2} \\right)^2$<br>\n",
        "$ln γ_2 = A_{21} \\left( \\frac{A_{12}x_1}{A_{12}x_1+A_{21}x_2} \\right)^2$<br>\n",
        "$A_{12}=2.1041$<br>\n",
        "$A_{21}=1.5555$"
      ],
      "metadata": {
        "id": "WsxDPhvH0kN_"
      }
    },
    {
      "cell_type": "code",
      "source": [],
      "metadata": {
        "id": "B-Wm2vVL6fbz"
      },
      "execution_count": null,
      "outputs": []
    }
  ]
}