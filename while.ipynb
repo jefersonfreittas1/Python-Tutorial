{
  "nbformat": 4,
  "nbformat_minor": 0,
  "metadata": {
    "colab": {
      "provenance": [],
      "authorship_tag": "ABX9TyPZ0omd5LjQul69sSOb7vJm",
      "include_colab_link": true
    },
    "kernelspec": {
      "name": "python3",
      "display_name": "Python 3"
    },
    "language_info": {
      "name": "python"
    }
  },
  "cells": [
    {
      "cell_type": "markdown",
      "metadata": {
        "id": "view-in-github",
        "colab_type": "text"
      },
      "source": [
        "<a href=\"https://colab.research.google.com/github/jefersonfreittas1/Python-Tutorial/blob/main/while.ipynb\" target=\"_parent\"><img src=\"https://colab.research.google.com/assets/colab-badge.svg\" alt=\"Open In Colab\"/></a>"
      ]
    },
    {
      "cell_type": "code",
      "source": [
        "#Calcule fatorial\n",
        "n = int(input('Digite um numero'))\n",
        "c = n\n",
        "f = 1\n",
        "print(\"Calculando {}!\".format(n))\n",
        "while c>0:\n",
        "  f= f*c\n",
        "  c = c-1\n",
        "print(\"Fatorial de {} é {}\".format(n,f))\n",
        "\n"
      ],
      "metadata": {
        "colab": {
          "base_uri": "https://localhost:8080/"
        },
        "id": "FxiyvOHuI7Ld",
        "outputId": "4d8d548d-2c19-4424-94fd-92d75d8569b2"
      },
      "execution_count": null,
      "outputs": [
        {
          "output_type": "stream",
          "name": "stdout",
          "text": [
            "Digite um numero6\n",
            "Calculando 6!\n",
            "Fatorial de 6 é 720\n"
          ]
        }
      ]
    },
    {
      "cell_type": "code",
      "source": [
        "#Calcule fatorial\n",
        "from math import factorial\n",
        "n = int(input(\"digite um número\"))\n",
        "f = factorial(n)\n",
        "print(\"Fatorial de {} é {}\".format(n,f))\n"
      ],
      "metadata": {
        "colab": {
          "base_uri": "https://localhost:8080/"
        },
        "id": "0PbbZK7UIbP5",
        "outputId": "803a1d55-690a-42c2-ab71-0df9fb251100"
      },
      "execution_count": null,
      "outputs": [
        {
          "output_type": "stream",
          "name": "stdout",
          "text": [
            "digite um número6\n",
            "Fatorial de 6 é 720\n"
          ]
        }
      ]
    },
    {
      "cell_type": "code",
      "source": [
        "#somar\n",
        "import time #Se colocar From time import sleep, dps é só colocar o sleep\n",
        "n1 = int(input(\"Insira um valor\"))\n",
        "n2 = int(input(\"Insira um valor\"))\n",
        "opcao = 0\n",
        "while opcao!=6:\n",
        "  print('''  [1] somar\n",
        "  [2] subtrair\n",
        "  [3] multiplicar\n",
        "  [4] Maior valor\n",
        "  [5] Inserir novos números\n",
        "  [6] Fim do programa''')\n",
        "  opcao = int(input(\"Escolha uma opção\"))\n",
        "  if opcao == 1:\n",
        "    soma = n1 + n2\n",
        "    print(\"A soma é {}\".format(soma))\n",
        "  elif opcao ==2:\n",
        "    sub = n1 - n2\n",
        "    print(\"A subtração é {}\".format(sub))\n",
        "  elif opcao ==3:\n",
        "    m = n1 * n2\n",
        "    print(\"A multiplicação é {}\".format(m))\n",
        "  elif opcao == 4:\n",
        "    if n1 > n1:\n",
        "      print(\"{} é maior que {}\".format(n1,n2))\n",
        "    else:\n",
        "      print(\"{} é maior que {}\".format(n2,n1))\n",
        "  elif opcao ==5:\n",
        "    n1 = int(input(\"Insira um valor\"))\n",
        "    n2 = int(input(\"Insira um valor\"))\n",
        "  else:\n",
        "    print(\"Opção inválida. Tente novamente\")\n",
        "  break\n",
        "print(\"Fim\")\n",
        "\n",
        "\n"
      ],
      "metadata": {
        "colab": {
          "base_uri": "https://localhost:8080/"
        },
        "id": "TxeptRk1-2IR",
        "outputId": "ed65de43-62a8-4b51-f052-4aa464b385f6"
      },
      "execution_count": null,
      "outputs": [
        {
          "output_type": "stream",
          "name": "stdout",
          "text": [
            "Insira um valor5\n",
            "Insira um valor6\n",
            "  [1] somar\n",
            "  [2] subtrair \n",
            "  [3] multiplicar\n",
            "  [4] Maior valor\n",
            "  [5] Inserir novos números\n",
            "  [6] Fim do programa\n",
            "Escolha uma opção4\n",
            "6 é maior que 5\n",
            "Fim\n"
          ]
        }
      ]
    },
    {
      "cell_type": "code",
      "source": [],
      "metadata": {
        "id": "PFXQY-or_wVh"
      },
      "execution_count": null,
      "outputs": []
    },
    {
      "cell_type": "code",
      "execution_count": null,
      "metadata": {
        "colab": {
          "base_uri": "https://localhost:8080/"
        },
        "id": "WrZV9bxI4ykY",
        "outputId": "a802184d-4043-4a0c-f166-158eb24196b0"
      },
      "outputs": [
        {
          "output_type": "stream",
          "name": "stdout",
          "text": [
            "Adivinhe um número entre 0 e 10\n",
            "Digite um número1\n",
            "Tente um número maior\n",
            "Digite um número2\n",
            "Tente um número maior\n",
            "Digite um número3\n",
            "Tente um número maior\n",
            "Digite um número4\n",
            "Tente um número maior\n",
            "Digite um número5\n",
            "Tente um número maior\n",
            "Digite um número6\n",
            "Tente um número maior\n",
            "Digite um número7\n",
            "Tente um número maior\n",
            "Digite um número8\n",
            "Parabéns, acertou!\n"
          ]
        }
      ],
      "source": [
        "from types import EllipsisType\n",
        "import random\n",
        "print(\"Adivinhe um número entre 0 e 10\")\n",
        "sorteador = random.randint(1,10)\n",
        "while sorteador != n:\n",
        "  n = int(input(\"Digite um número\"))\n",
        "  if n > sorteador:\n",
        "    print(\"Tente um número menor\")\n",
        "  if n < sorteador:\n",
        "    print(\"Tente um número maior\")\n",
        "else:\n",
        "  print(\"Parabéns, acertou!\")"
      ]
    }
  ]
}