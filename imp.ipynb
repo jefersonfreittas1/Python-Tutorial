{
  "nbformat": 4,
  "nbformat_minor": 0,
  "metadata": {
    "colab": {
      "provenance": [],
      "authorship_tag": "ABX9TyNqYLTh3lVYHLpwKK0RDFfF",
      "include_colab_link": true
    },
    "kernelspec": {
      "name": "python3",
      "display_name": "Python 3"
    },
    "language_info": {
      "name": "python"
    }
  },
  "cells": [
    {
      "cell_type": "markdown",
      "metadata": {
        "id": "view-in-github",
        "colab_type": "text"
      },
      "source": [
        "<a href=\"https://colab.research.google.com/github/jefersonfreittas1/Python-Tutorial/blob/main/imp.ipynb\" target=\"_parent\"><img src=\"https://colab.research.google.com/assets/colab-badge.svg\" alt=\"Open In Colab\"/></a>"
      ]
    },
    {
      "cell_type": "code",
      "source": [
        "#adivinha de 0 a 10\n",
        "import random\n",
        "c = random.randint(0,10)\n",
        "print(\"JOGO DE ADIVINHA\")\n",
        "n = int(input(\"diga o número que estou pensando\"))\n",
        "s = 0\n",
        "while n != c:\n",
        "  n = int(input(\"Tente novamente, Digite um número\"))\n",
        "  s = s + 1\n",
        "print(\"Acertou! foram {} tentativas\".format(s))"
      ],
      "metadata": {
        "colab": {
          "base_uri": "https://localhost:8080/"
        },
        "id": "7P18EOK1AQNC",
        "outputId": "f5fb62d8-f439-4329-bba6-be4654bb1fd7"
      },
      "execution_count": null,
      "outputs": [
        {
          "output_type": "stream",
          "name": "stdout",
          "text": [
            "JOGO DE ADIVINHA\n",
            "diga o número que estou pensando5\n",
            "Tente novamente, Digite um número3\n",
            "Tente novamente, Digite um número2\n",
            "Acertou! foram 2 tentativas\n"
          ]
        }
      ]
    },
    {
      "cell_type": "code",
      "source": [
        "sexo = str(input(\"Digite o sexo\"))\n",
        "while sexo not in \"Feminino feminino Masculino masculino\":\n",
        "  sexo = str(input(\"Entrada inválida, digite o sexo\"))\n",
        "print(\"Sucesso!\")"
      ],
      "metadata": {
        "colab": {
          "base_uri": "https://localhost:8080/"
        },
        "id": "2d9mbJAY-6y6",
        "outputId": "7bdf7409-8053-4090-ab7a-6d866e9db878"
      },
      "execution_count": null,
      "outputs": [
        {
          "output_type": "stream",
          "name": "stdout",
          "text": [
            "Digite o sexo5\n",
            "Entrada inválida, digite o sexom\n",
            "Sucesso!\n"
          ]
        }
      ]
    },
    {
      "cell_type": "code",
      "source": [
        "#aça um código que leia sexo \"masculino\" ou \"feminino\"\n",
        "genero = str(input(\"Digite M ou F\"))\n",
        "while genero not in \"MmFf\":\n",
        "  genero = str(input(\"Dados inválidos, Digite M ou F \"))\n",
        "print(\"Sucesso!\")"
      ],
      "metadata": {
        "colab": {
          "base_uri": "https://localhost:8080/"
        },
        "id": "uDNOrd9M7oGn",
        "outputId": "030f237f-3b60-4a82-841a-3e15533dc8d4"
      },
      "execution_count": null,
      "outputs": [
        {
          "output_type": "stream",
          "name": "stdout",
          "text": [
            "Digite M ou F6\n",
            "Dados inválidos, Digite M ou F f\n",
            "Sucesso!\n"
          ]
        }
      ]
    },
    {
      "cell_type": "code",
      "execution_count": null,
      "metadata": {
        "id": "XOesImbc4aDT"
      },
      "outputs": [],
      "source": [
        "n = 1\n",
        "par = 0\n",
        "impar = 0\n",
        "while n != 0:\n",
        "  if n !=0:\n",
        "    n = int(input(\"digite um valor\"))\n",
        "    if n % 2 ==0:\n",
        "      par = par+1\n",
        "    elif n % 2!=0:\n",
        "      impar = impar + 1\n",
        "print(\"temos {} números pares e {} números ímpares\".format(par,impar))"
      ]
    },
    {
      "cell_type": "code",
      "source": [],
      "metadata": {
        "id": "TVZG-oWf4bG3"
      },
      "execution_count": null,
      "outputs": []
    }
  ]
}