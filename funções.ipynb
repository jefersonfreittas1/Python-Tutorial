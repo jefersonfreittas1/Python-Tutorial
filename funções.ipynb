{
  "cells": [
    {
      "cell_type": "markdown",
      "metadata": {
        "id": "view-in-github",
        "colab_type": "text"
      },
      "source": [
        "<a href=\"https://colab.research.google.com/github/jefersonfreittas1/Python-Tutorial/blob/main/fun%C3%A7%C3%B5es.ipynb\" target=\"_parent\"><img src=\"https://colab.research.google.com/assets/colab-badge.svg\" alt=\"Open In Colab\"/></a>"
      ]
    },
    {
      "cell_type": "markdown",
      "source": [
        "**Método da bissecção**"
      ],
      "metadata": {
        "id": "DQp4Dpul9nOY"
      }
    },
    {
      "cell_type": "code",
      "source": [
        "import math\n",
        "\n",
        "# Parâmetros\n",
        "a_vdw = 17.85  # Exemplo de constante a para van der Waals (ajustada)\n",
        "b_vdw = 0.13   # Exemplo de constante b para van der Waals (ajustada)\n",
        "R = 8.3144     # Constante dos gases em L.kPa/K.mol\n",
        "T = 333.15     # Temperatura em K (60°C)\n",
        "P = 500        # Pressão em kPa\n",
        "\n",
        "# Método de Newton-Raphson\n",
        "V_m = 5.0  # Chute inicial próximo ao valor esperado\n",
        "\n",
        "for _ in range(100):\n",
        "    # Equação de Van der Waals\n",
        "    f_vdw = P - (R * T) / (V_m - b_vdw) + a_vdw / V_m**2\n",
        "\n",
        "    # Derivada da equação de Van der Waals\n",
        "    df_vdw = (R * T) / (V_m - b_vdw)**2 - 2 * a_vdw / V_m**3\n",
        "\n",
        "    # Atualizar valor de V_m usando Newton-Raphson\n",
        "    V_m_new = V_m - f_vdw / df_vdw\n",
        "\n",
        "    # Verificar critério de convergência\n",
        "    if abs(V_m_new - V_m) < 1e-6:\n",
        "        V_m = V_m_new\n",
        "        break\n",
        "\n",
        "    V_m = V_m_new\n",
        "\n",
        "print(\"Volume molar (van der Waals): {:.4f} L/mol\".format(V_m))\n"
      ],
      "metadata": {
        "id": "T2lluIAOah6N",
        "outputId": "1b8156db-e773-40c5-d2a5-da6b348ee2e0",
        "colab": {
          "base_uri": "https://localhost:8080/"
        }
      },
      "execution_count": null,
      "outputs": [
        {
          "output_type": "stream",
          "name": "stdout",
          "text": [
            "Volume molar (van der Waals): 5.6637 L/mol\n"
          ]
        }
      ]
    },
    {
      "cell_type": "code",
      "source": [
        "from sympy import symbols, Eq, solve\n",
        "\n",
        "# Definir variáveis\n",
        "Vm = symbols('Vm')\n",
        "R = 8.3144  # L.kPa/K.mol\n",
        "T = 333.15  # K\n",
        "P = 500  # kPa\n",
        "a = 1390.88  # L^2.kPa/mol^2\n",
        "b = 0.1166  # L/mol\n",
        "\n",
        "# Equação de Van der Waals\n",
        "vdw_eq = Eq(P, (R * T) / (Vm - b) - a / Vm**2)\n",
        "\n",
        "# Resolver a equação para Vm\n",
        "volume_molar_vdw = solve(vdw_eq, Vm)\n",
        "\n",
        "volume_molar_vdw\n"
      ],
      "metadata": {
        "colab": {
          "base_uri": "https://localhost:8080/"
        },
        "id": "d5_f7RgdW0lg",
        "outputId": "e50ef2af-15b2-4b97-a6b9-bbb98adb5870"
      },
      "execution_count": null,
      "outputs": [
        {
          "output_type": "execute_result",
          "data": {
            "text/plain": [
              "[0.181285233284894 - 0.e-22*I,\n",
              " 0.349030051876515 + 0.e-22*I,\n",
              " 5.12616943483859 - 0.e-22*I]"
            ]
          },
          "metadata": {},
          "execution_count": 21
        }
      ]
    },
    {
      "cell_type": "code",
      "source": [
        "from sympy import symbols, Eq, solve\n",
        "#Equação de van der walls\n",
        "R = 8.314\n",
        "T = 333\n",
        "P = 500\n",
        "Tc = 425.2\n",
        "Pc = 3789\n",
        "# Equações\n",
        "a = (27/64) * ((R*Tc)**2)/Pc\n",
        "print(f\"valor de a = {a}\")\n",
        "b = (R*Tc)/(8*Pc)\n",
        "print(f\"Valor de b = {b}\")\n",
        "#Variável volume molar\n",
        "Vm = symbols(\"Vm\")\n",
        "#EQ Van der Waals\n",
        "EQ_Van = Eq(P,(R*T)/(Vm-b) - a/ Vm**2)\n",
        "Vol_M = solve(EQ_Van,Vm)\n",
        "print(f\"O volume molar é {Vol_M}\")"
      ],
      "metadata": {
        "colab": {
          "base_uri": "https://localhost:8080/"
        },
        "id": "Bkvaad4aS9Dk",
        "outputId": "301c67ad-15af-41a3-9723-84383dcdfdd4"
      },
      "execution_count": null,
      "outputs": [
        {
          "output_type": "stream",
          "name": "stdout",
          "text": [
            "valor de a = 1391.4440144808311\n",
            "Valor de b = 0.11662420163631565\n",
            "O volume molar é [0.181170414875552 + 0.e-22*I, 0.349689206138856 + 0.e-20*I, 5.12288858062191 - 0.e-22*I]\n"
          ]
        }
      ]
    },
    {
      "cell_type": "code",
      "source": [
        "#gás ideal\n",
        "R = 8.314\n",
        "T = 333.15\n",
        "P = 500\n",
        "Vm = R*T/P\n",
        "print(f\"O volume molar é: {Vm}\")"
      ],
      "metadata": {
        "colab": {
          "base_uri": "https://localhost:8080/"
        },
        "id": "L1dUFORKSV0K",
        "outputId": "6020c200-5986-4b41-dd61-804ff8cd04e9"
      },
      "execution_count": null,
      "outputs": [
        {
          "output_type": "stream",
          "name": "stdout",
          "text": [
            "O volume molar é: 5.5396182\n"
          ]
        }
      ]
    },
    {
      "cell_type": "code",
      "source": [
        "import math\n",
        "a = 1390\n",
        "b = 0.1166\n",
        "e = 0.1\n",
        "#Definindo a função\n",
        "def f(x):\n",
        "  return x**2-5\n",
        "\n",
        "\n",
        "  #Teorema de bolzano\n",
        "if f(a)*f(b)<0:\n",
        "  while (math.fabs (b-a)/2 >e):\n",
        "    xi = (a+b)/2\n",
        "    if f(xi) ==0:\n",
        "      print(f\"A raiz é{xi}\")\n",
        "      break\n",
        "    else:\n",
        "      if f(a)*f(xi)<0:\n",
        "        b = xi\n",
        "      else:\n",
        "        a = xi\n",
        "    print(f\"o valor da raiz é {xi}\")\n",
        "else:\n",
        "  print(\"Não existe raiz\")\n"
      ],
      "metadata": {
        "colab": {
          "base_uri": "https://localhost:8080/"
        },
        "id": "ylQbJPSY9hLx",
        "outputId": "4d325f47-f220-4cc0-8d92-63d334ec7728"
      },
      "execution_count": null,
      "outputs": [
        {
          "output_type": "stream",
          "name": "stdout",
          "text": [
            "o valor da raiz é 695.0583\n",
            "o valor da raiz é 347.58745\n",
            "o valor da raiz é 173.852025\n",
            "o valor da raiz é 86.9843125\n",
            "o valor da raiz é 43.55045625\n",
            "o valor da raiz é 21.833528125\n",
            "o valor da raiz é 10.9750640625\n",
            "o valor da raiz é 5.54583203125\n",
            "o valor da raiz é 2.831216015625\n",
            "o valor da raiz é 1.4739080078125\n",
            "o valor da raiz é 2.15256201171875\n",
            "o valor da raiz é 2.4918890136718748\n",
            "o valor da raiz é 2.3222255126953124\n"
          ]
        }
      ]
    },
    {
      "cell_type": "code",
      "source": [],
      "metadata": {
        "id": "bV04-_emSUtk"
      },
      "execution_count": null,
      "outputs": []
    },
    {
      "cell_type": "code",
      "source": [
        "# Dados para acetona e água a partir da equação de Antoine\n",
        "A_acetona, B_acetona, C_acetona = 4.42448, 1312.253, -32.445\n",
        "A_agua, B_agua, C_agua = 3.55959, 643.748, -198.043\n",
        "T = 393.15  # Temperatura em Kelvin\n",
        "\n",
        "# Função para calcular pressão de vapor usando a equação de Antoine\n",
        "def calc_Psat(A, B, C, T):\n",
        "    return 10 ** (A - B / (T + C))\n",
        "\n",
        "# Calculando as pressões de vapor saturadas\n",
        "Psat_acetona = calc_Psat(A_acetona, B_acetona, C_acetona, T)\n",
        "Psat_agua = calc_Psat(A_agua, B_agua, C_agua, T)\n",
        "\n",
        "# Faixa de frações molares da acetona na fase líquida (x1 varia de 0 a 1)\n",
        "x1 = np.linspace(0, 1, 100)\n",
        "x2 = 1 - x1  # Fração molar de água (complemento de x1)\n",
        "\n",
        "# Calculando as pressões parciais pela Lei de Raoult\n",
        "P_acetona = x1 * Psat_acetona\n",
        "P_agua = x2 * Psat_agua\n",
        "\n",
        "# Pressão total da mistura\n",
        "P_total = P_acetona + P_agua\n",
        "\n",
        "# Fração molar da acetona na fase vapor\n",
        "y1 = P_acetona / P_total\n",
        "\n",
        "# Plotando o gráfico P vs x1 e y1\n",
        "plt.figure(figsize=(8, 6))\n",
        "plt.plot(x1, P_total, label=\"P vs x1 (líquido)\", color='blue')\n",
        "plt.plot(y1, P_total, label=\"P vs y1 (vapor)\", color='red', linestyle='--')\n",
        "plt.xlabel(\"Fração Molar de Acetona\")\n",
        "plt.ylabel(\"Pressão Total (mmHg)\")\n",
        "plt.title(\"Diagrama P vs x1 e y1 (Equilíbrio Líquido-Vapor: Acetona + Água)\")\n",
        "plt.legend()\n",
        "plt.grid(True)\n",
        "plt.show()\n",
        "\n",
        "# Retornar as pressões saturadas calculadas\n",
        "Psat_acetona, Psat_agua\n"
      ],
      "metadata": {
        "id": "wBXShxA7lZef",
        "outputId": "8495f1ff-defe-45cf-8209-dbd2ab706254",
        "colab": {
          "base_uri": "https://localhost:8080/",
          "height": 584
        }
      },
      "execution_count": null,
      "outputs": [
        {
          "output_type": "display_data",
          "data": {
            "text/plain": [
              "<Figure size 800x600 with 1 Axes>"
            ],
            "image/png": "[encoded data removed]"
          },
          "metadata": {}
        },
        {
          "output_type": "execute_result",
          "data": {
            "text/plain": [
              "(6.115855827845207, 1.8202401046341687)"
            ]
          },
          "metadata": {},
          "execution_count": 17
        }
      ]
    },
    {
      "cell_type": "code",
      "source": [
        "#lei de raoult equilíbrio L-V\n",
        "import numpy as np\n",
        "import matplotlib.pyplot as plt\n",
        "#Dados\n",
        "T = 393.15\n",
        "a = np.array([4,42448,3.55959])\n",
        "b = np.array([1312.253,643.748])\n",
        "c = np.array([-32.445,198.043])\n",
        "NC = 2\n",
        "xx = (0,1.01,0.01) #fração molar\n",
        "for i in range(NC):\n",
        "  Psat = a[i]-b[i]/(T+c[i]) #pressão de sat. mmHg\n",
        "  P = (10**Psat)*0.00133 #bar\n",
        "#Cálculo Equilíbrio L-V\n",
        "for i in range(xx):\n",
        "  x = np.array([xx[i], 1-xx[i]]) #Cálculo da fração na fase líquida\n",
        "  #------------#\n",
        "  soma = 0\n",
        "  for k in range(NC):\n",
        "    soma = soma + x[k]*Psat[k]\n",
        "  P[i] = soma\n",
        "\n",
        "  for j in range(NC):\n",
        "    y[i,j]=x[j]*Psat[j]/P[i] #Cálculo da fração na fase de vapor\n",
        "\n",
        "plt.plot(xx,P,label='Fração molar na fase líquida, $x_1$')\n",
        "plt.plot(y[:,0],P,label='Fração molar na fase vapor, $y_1$')\n",
        "plt.legend(loc='best')\n",
        "plt.xlabel('$x_1$,$y_1$')\n",
        "plt.ylabel('Pressão [bar]')\n",
        "plt.grid(color='k',linestyle=':')\n"
      ],
      "metadata": {
        "colab": {
          "base_uri": "https://localhost:8080/",
          "height": 265
        },
        "id": "iCIYAfz4fHQr",
        "outputId": "a4638b86-52c0-4ec3-cb13-19ca88b0554c"
      },
      "execution_count": null,
      "outputs": [
        {
          "output_type": "stream",
          "name": "stderr",
          "text": [
            "<ipython-input-16-5c1e61446253>:13: RuntimeWarning: overflow encountered in scalar power\n",
            "  P = (10**Psat)*0.00133 #bar\n"
          ]
        },
        {
          "output_type": "error",
          "ename": "TypeError",
          "evalue": "'tuple' object cannot be interpreted as an integer",
          "traceback": [
            "\u001b[0;31m---------------------------------------------------------------------------\u001b[0m",
            "\u001b[0;31mTypeError\u001b[0m                                 Traceback (most recent call last)",
            "\u001b[0;32m<ipython-input-16-5c1e61446253>\u001b[0m in \u001b[0;36m<cell line: 15>\u001b[0;34m()\u001b[0m\n\u001b[1;32m     13\u001b[0m   \u001b[0mP\u001b[0m \u001b[0;34m=\u001b[0m \u001b[0;34m(\u001b[0m\u001b[0;36m10\u001b[0m\u001b[0;34m**\u001b[0m\u001b[0mPsat\u001b[0m\u001b[0;34m)\u001b[0m\u001b[0;34m*\u001b[0m\u001b[0;36m0.00133\u001b[0m \u001b[0;31m#bar\u001b[0m\u001b[0;34m\u001b[0m\u001b[0;34m\u001b[0m\u001b[0m\n\u001b[1;32m     14\u001b[0m \u001b[0;31m#Cálculo Equilíbrio L-V\u001b[0m\u001b[0;34m\u001b[0m\u001b[0;34m\u001b[0m\u001b[0m\n\u001b[0;32m---> 15\u001b[0;31m \u001b[0;32mfor\u001b[0m \u001b[0mi\u001b[0m \u001b[0;32min\u001b[0m \u001b[0mrange\u001b[0m\u001b[0;34m(\u001b[0m\u001b[0mxx\u001b[0m\u001b[0;34m)\u001b[0m\u001b[0;34m:\u001b[0m\u001b[0;34m\u001b[0m\u001b[0;34m\u001b[0m\u001b[0m\n\u001b[0m\u001b[1;32m     16\u001b[0m   \u001b[0mx\u001b[0m \u001b[0;34m=\u001b[0m \u001b[0mnp\u001b[0m\u001b[0;34m.\u001b[0m\u001b[0marray\u001b[0m\u001b[0;34m(\u001b[0m\u001b[0;34m[\u001b[0m\u001b[0mxx\u001b[0m\u001b[0;34m[\u001b[0m\u001b[0mi\u001b[0m\u001b[0;34m]\u001b[0m\u001b[0;34m,\u001b[0m \u001b[0;36m1\u001b[0m\u001b[0;34m-\u001b[0m\u001b[0mxx\u001b[0m\u001b[0;34m[\u001b[0m\u001b[0mi\u001b[0m\u001b[0;34m]\u001b[0m\u001b[0;34m]\u001b[0m\u001b[0;34m)\u001b[0m \u001b[0;31m#Cálculo da fração na fase líquida\u001b[0m\u001b[0;34m\u001b[0m\u001b[0;34m\u001b[0m\u001b[0m\n\u001b[1;32m     17\u001b[0m   \u001b[0;31m#------------#\u001b[0m\u001b[0;34m\u001b[0m\u001b[0;34m\u001b[0m\u001b[0m\n",
            "\u001b[0;31mTypeError\u001b[0m: 'tuple' object cannot be interpreted as an integer"
          ]
        }
      ]
    },
    {
      "cell_type": "code",
      "execution_count": null,
      "metadata": {
        "colab": {
          "background_save": true,
          "base_uri": "https://localhost:8080/"
        },
        "id": "su5cN6WiSBYY",
        "outputId": "04a96ca4-533f-48c7-8990-acc24552fe2e"
      },
      "outputs": [
        {
          "name": "stdout",
          "output_type": "stream",
          "text": [
            "(1, 2, 3, 15, 7, 74)\n",
            "(1, 2)\n",
            "(1, 2, 4)\n",
            "(2, 3, 4)\n"
          ]
        }
      ],
      "source": [
        "def contador(*núm):\n",
        "  s=\n",
        "  print(\"\")\n",
        "\n",
        "\n",
        "contador(1,2,3,15,7,74)\n",
        "contador(1,2)\n",
        "contador(1,2,4)\n",
        "contador(2,3,4)"
      ]
    },
    {
      "cell_type": "code",
      "execution_count": null,
      "metadata": {
        "colab": {
          "base_uri": "https://localhost:8080/"
        },
        "id": "8VSCUjtDQS38",
        "outputId": "3ba88b0c-c077-49a1-8f3c-320d2bf50f9f"
      },
      "outputs": [
        {
          "name": "stdout",
          "output_type": "stream",
          "text": [
            "A soma entre 2 e 0 é = 2\n",
            "A soma entre 7 e 3 é = 10\n",
            "A soma entre 2 e 5 é = 7\n",
            "A soma entre 9 e 3 é = 12\n",
            "A soma entre 2 e 14 é = 16\n"
          ]
        }
      ],
      "source": [
        "def soma(a,b): #a,b são parâmetros\n",
        "  s = a+b\n",
        "  print(f\"A soma entre {a} e {b} é = {s}\")\n",
        "#deixar 2 linhas\n",
        "#deixar 2 linhas\n",
        "soma(2,0)\n",
        "soma(7,3)\n",
        "soma(2,5)\n",
        "soma(9,3)\n",
        "soma(2,14)"
      ]
    },
    {
      "cell_type": "code",
      "execution_count": null,
      "metadata": {
        "colab": {
          "base_uri": "https://localhost:8080/"
        },
        "id": "vE0q0CxxO0O3",
        "outputId": "5fcfe7f6-c234-4c86-8133-a4c5caeb1fab"
      },
      "outputs": [
        {
          "name": "stdout",
          "output_type": "stream",
          "text": [
            "------------\n",
            "Olá\n",
            "------------\n"
          ]
        }
      ],
      "source": [
        "def mensagem(msg): #é um parâmetro com uma rotina\n",
        "  print('------------')\n",
        "  print(msg)\n",
        "  print('------------')\n",
        "mensagem(\"Olá\")\n"
      ]
    },
    {
      "cell_type": "code",
      "execution_count": null,
      "metadata": {
        "colab": {
          "base_uri": "https://localhost:8080/"
        },
        "id": "FBlyHyJdN9Ew",
        "outputId": "2e8c167b-17bd-4373-a823-119bf30a19ca"
      },
      "outputs": [
        {
          "name": "stdout",
          "output_type": "stream",
          "text": [
            "----\n",
            "Olá, Jeferson!\n",
            "----\n",
            "Olá, Totoro!\n"
          ]
        }
      ],
      "source": [
        "def lin():\n",
        "  print(\"----\")\n",
        "lin()\n",
        "print(\"Olá, Jeferson!\")\n",
        "lin()\n",
        "print(\"Olá, Totoro!\")"
      ]
    }
  ],
  "metadata": {
    "colab": {
      "provenance": [],
      "authorship_tag": "ABX9TyP7VM+iNORxTBoIEqU/IppX",
      "include_colab_link": true
    },
    "kernelspec": {
      "display_name": "Python 3",
      "name": "python3"
    },
    "language_info": {
      "name": "python"
    }
  },
  "nbformat": 4,
  "nbformat_minor": 0
}