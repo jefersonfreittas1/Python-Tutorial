{
 "cells": [
  {
   "attachments": {},
   "cell_type": "markdown",
   "id": "9c24f1a0",
   "metadata": {},
   "source": [
    "# Variables, types and numerical operations"
   ]
  },
  {
   "attachments": {},
   "cell_type": "markdown",
   "id": "dfb1562d",
   "metadata": {},
   "source": [
    "## $ \\S 1 $ Variables, assignment and types\n",
    "\n",
    "In programming languages, a __variable__ is used to store and manipulate a (not\n",
    "necessarily numerical) __value__. Each value must have a __type__, which\n",
    "determines how it is implemented, its properties and the operations that can be\n",
    "applied to it. For example, in Python there are types for the representation of\n",
    "integers, text strings or boolean values. One can think of a variable as a named\n",
    "container which provides a convenient way to represent and manipulate an object\n",
    "without having to refer explicitly to its memory address.\n",
    "\n",
    "To create a variable and assign a value to it, we use the __assignment\n",
    "operator__ `=` in the form _variable name_ `=` _value_.\n"
   ]
  },
  {
   "cell_type": "code",
   "execution_count": 1,
   "id": "b4f7e7b1",
   "metadata": {},
   "outputs": [
    {
     "data": {
      "text/plain": [
       "1729"
      ]
     },
     "execution_count": 1,
     "metadata": {},
     "output_type": "execute_result"
    }
   ],
   "source": [
    "a = 1729        # Store the integer 1729 in the new variable 'a'.\n",
    "a               # Return the value of variable a as the output of the cell."
   ]
  },
  {
   "attachments": {},
   "cell_type": "markdown",
   "id": "401fc35f",
   "metadata": {},
   "source": [
    "📝 Unlike some other programming languages, in Python the syntax for creating a\n",
    "new variable and for assigning a new value to an _existing_ variable is exactly\n",
    "the same:"
   ]
  },
  {
   "cell_type": "code",
   "execution_count": 2,
   "id": "d2319ddb",
   "metadata": {},
   "outputs": [
    {
     "name": "stdout",
     "output_type": "stream",
     "text": [
      "1729\n",
      "17.29\n"
     ]
    }
   ],
   "source": [
    "b = 1729       # Create a new variable b and assign the value 1729 to it.\n",
    "print(b)       # Print the current value of b.\n",
    "b = 17.29      # Modify the value of b.\n",
    "print(b)       # Print the current value of b."
   ]
  },
  {
   "attachments": {},
   "cell_type": "markdown",
   "id": "8aa82020",
   "metadata": {},
   "source": [
    "Variable names may consist only of _alphanumeric characters_ (i.e., the\n",
    "characters A-Z, a-z and 0-9) and _underscores_ \\_; the initial character must be\n",
    "a letter. By convention, uppercase initial letters are usually reserved to\n",
    "denote [classes](https://docs.python.org/3/tutorial/classes.html) (a concept\n",
    "which we will not discuss) and lowercase initial letters to name\n",
    "other objects."
   ]
  },
  {
   "cell_type": "code",
   "execution_count": 35,
   "id": "ccf295de",
   "metadata": {},
   "outputs": [
    {
     "data": {
      "text/plain": [
       "'wizard'"
      ]
     },
     "execution_count": 35,
     "metadata": {},
     "output_type": "execute_result"
    }
   ],
   "source": [
    "w = \"wizard\"    # Assign the string 'wizard' to the name 'w'.\n",
    "w               # Return the value of variable w as the output of the cell."
   ]
  },
  {
   "cell_type": "markdown",
   "id": "fa1978ad",
   "metadata": {},
   "source": [
    "<div class=\"alert alert-warning\"> In Python, simply creating a variable or assigning it a new value does not prompt the interpreter to return nor print its value.\n",
    "    <ul>\n",
    "        <li>To <i>print</i> the value of a variable, say $ x $, to the screen, use <code>print(x)</code>. Note that calling <code>print</code> generates no output (more precisely, it returns <code>None</code>).</li>\n",
    "        <li>To get the interpreter to <i>return</i> the value of the variable as the output of a cell, just type its name, in this case <code>x</code>. </li></ul></div>\n",
    "\n",
    "📝 More generally, the function `print` can be used to print to the screen any collection of arguments, separated by commas. These commas will be replaced by single spaces in the output."
   ]
  },
  {
   "cell_type": "code",
   "execution_count": null,
   "id": "c1110cbc",
   "metadata": {},
   "outputs": [
    {
     "name": "stdout",
     "output_type": "stream",
     "text": [
      "cunning\n",
      "cunning wizard\n"
     ]
    }
   ],
   "source": [
    "a = \"cunning\"\n",
    "b = \"wizard\"\n",
    "print(a)\n",
    "print(a, b)"
   ]
  },
  {
   "attachments": {},
   "cell_type": "markdown",
   "id": "2fcae6fc",
   "metadata": {},
   "source": [
    "The type of a variable $ x $ can be inspected through a call to the function\n",
    "`type`, as in `type(x)`. One can also verify whether variable $ x $ has type\n",
    "_variable_type_ through the statement `isinstance(x, variable_type)`. "
   ]
  },
  {
   "cell_type": "code",
   "execution_count": 38,
   "id": "e238c8da",
   "metadata": {},
   "outputs": [
    {
     "name": "stdout",
     "output_type": "stream",
     "text": [
      "two\n",
      "<class 'str'>\n",
      "2\n",
      "<class 'int'>\n"
     ]
    }
   ],
   "source": [
    "number = \"two\"\n",
    "# The string 'two' is assigned as the value of the new variable named 'number'.\n",
    "print(number)\n",
    "print(type(number))\n",
    "\n",
    "number = 2\n",
    "# The variable named 'number' now holds a numerical value.\n",
    "print(number)\n",
    "print(type(number))"
   ]
  },
  {
   "attachments": {},
   "cell_type": "markdown",
   "id": "e80c3733",
   "metadata": {},
   "source": [
    "📝 Blank lines in a code cell are ignored by the interpreter. We can use them to\n",
    "visually separate the code into several parts in order to improve legibility."
   ]
  },
  {
   "cell_type": "code",
   "execution_count": 4,
   "id": "27838f46",
   "metadata": {},
   "outputs": [
    {
     "name": "stdout",
     "output_type": "stream",
     "text": [
      "False\n",
      "True\n"
     ]
    }
   ],
   "source": [
    "lifespan = 80\n",
    "print(isinstance(lifespan, str))  # Is the value of lifespan a string?\n",
    "print(isinstance(lifespan, int))  # Is the value of lifespan an integer?"
   ]
  },
  {
   "attachments": {},
   "cell_type": "markdown",
   "id": "fdd8d11e",
   "metadata": {},
   "source": [
    "As in some of the preceding examples, the Python interpreter automatically\n",
    "infers the type of a variable from its value; this feature is called __type\n",
    "inference__.  Moreover, in Python (in contrast to, say, C), variables are\n",
    "__typed dinamically__, meaning that not only can the _value_ of a variable\n",
    "change during a program, but even its _type_ can be modified. Whenever a\n",
    "previously used name is assigned to a new value, the original association is\n",
    "lost. "
   ]
  },
  {
   "attachments": {},
   "cell_type": "markdown",
   "id": "f60c6477",
   "metadata": {},
   "source": [
    "__Exercise:__ Can you explain what happens if the statement `print(print(a))`is issued?"
   ]
  },
  {
   "cell_type": "code",
   "execution_count": null,
   "id": "dd7b07f2",
   "metadata": {},
   "outputs": [],
   "source": []
  },
  {
   "attachments": {},
   "cell_type": "markdown",
   "id": "c30d1b4c",
   "metadata": {},
   "source": [
    "⚠️ In Python, all names (not just those of variables) are __case-sensitive__. Thus `Staff` and `staff` may refer to completely different objects."
   ]
  },
  {
   "attachments": {},
   "cell_type": "markdown",
   "id": "7c98ad39",
   "metadata": {},
   "source": [
    "__Exercise:__ Predict what gets printed when you run the code cell below."
   ]
  },
  {
   "cell_type": "code",
   "execution_count": 6,
   "id": "c3a9770a",
   "metadata": {},
   "outputs": [
    {
     "name": "stdout",
     "output_type": "stream",
     "text": [
      "whale\n",
      "dog\n",
      "whale\n"
     ]
    }
   ],
   "source": [
    "Mammal = \"whale\"\n",
    "print(Mammal)\n",
    "mammal = \"dog\"\n",
    "print(mammal)\n",
    "print(Mammal)\n"
   ]
  },
  {
   "cell_type": "markdown",
   "id": "0490a2cc",
   "metadata": {},
   "source": [
    "__Example:__"
   ]
  },
  {
   "cell_type": "code",
   "execution_count": 44,
   "id": "051b64d6",
   "metadata": {},
   "outputs": [
    {
     "name": "stdout",
     "output_type": "stream",
     "text": [
      "2\n",
      "<class 'int'>\n",
      "True\n",
      "2 <class 'str'>\n",
      "False\n",
      "2.0 <class 'float'>\n",
      "False\n"
     ]
    },
    {
     "data": {
      "text/plain": [
       "2.0"
      ]
     },
     "execution_count": 44,
     "metadata": {},
     "output_type": "execute_result"
    }
   ],
   "source": [
    "x = 2                      # x is an integer.\n",
    "print(x)\n",
    "print(type(x))\n",
    "print(isinstance(x, int))  # x is of type int, True or False?\n",
    "\n",
    "x = '2'                    # x is now a string.\n",
    "# We may print several items using a single print statement: \n",
    "print(x, type(x))         \n",
    "print(isinstance(x, int))  # True or False? Is x an int?\n",
    "\n",
    "x = 2.0                    # x is now a floating-point number.\n",
    "print(x, type(x))\n",
    "print(isinstance(x, str))  # Is x a string?\n",
    "\n",
    "x                          # Return the current value of x as output of the cell"
   ]
  },
  {
   "attachments": {},
   "cell_type": "markdown",
   "id": "47e13d9e",
   "metadata": {},
   "source": [
    "__Exercise:__ What happens if you issue the following statements in sequence? What is the output (if any) in each case?\n",
    "\n",
    "(a) `a = 2`\n",
    "\n",
    "(b) `b = 3`\n",
    "\n",
    "(c) `c = a * b`\n",
    "\n",
    "(d) `print(c)`\n",
    "\n",
    "(e) `a - b`\n",
    "\n",
    "(f) `a**b`"
   ]
  },
  {
   "cell_type": "code",
   "execution_count": null,
   "id": "2f8303c5",
   "metadata": {},
   "outputs": [],
   "source": []
  },
  {
   "attachments": {},
   "cell_type": "markdown",
   "id": "c7491014",
   "metadata": {},
   "source": [
    "🚫 The following small set of keywords *cannot* be used to name objects because they already have a special meaning to the interpreter:\n",
    "\n",
    "| Reserved  | keywords   |            |           |\n",
    "| :-------- | :--------- | :--------- | :------   |\n",
    "|`False` \t| `def` \t | `if`       | `raise`   |\n",
    "|`None` \t| `del` \t | `import`   | `return`  |\n",
    "|`True` \t| `elif` \t | `in` \t  | `try`     |\n",
    "|`and` \t    | `else` \t | `is` \t  | `while`   |\n",
    "|`as` \t    | `except`   | `lambda`   | `with`    |\n",
    "|`assert` \t| `finally`  | `nonlocal` | `yield`   |\n",
    "|`break` \t| `for` \t | `not`      |           |\n",
    "|`class` \t| `from` \t | `or` \t  |           |\n",
    "|`continue` | `global`   | `pass`     |           |\n",
    "\n",
    "\n",
    "One can make several __simultaneous assignments__ in a single line using commas\n",
    "`,` as separators. This is especially useful for permuting the values of two or\n",
    "more variables without resorting to temporary variables. However, as a best\n",
    "practice one should avoid needlessly using this feature because it hampers\n",
    "the legibility of code.\n",
    "\n",
    "__Example:__"
   ]
  },
  {
   "cell_type": "code",
   "execution_count": 45,
   "id": "b190e61e",
   "metadata": {},
   "outputs": [
    {
     "name": "stdout",
     "output_type": "stream",
     "text": [
      "1 2\n",
      "2 1\n"
     ]
    }
   ],
   "source": [
    "x = 1\n",
    "y = 2\n",
    "print(x, y)\n",
    "\n",
    "x, y = y, x\n",
    "print(x, y)"
   ]
  },
  {
   "cell_type": "code",
   "execution_count": 46,
   "id": "f45cad4d",
   "metadata": {},
   "outputs": [
    {
     "name": "stdout",
     "output_type": "stream",
     "text": [
      "3 -1\n"
     ]
    }
   ],
   "source": [
    "# Multiple assignments are made _simultaneously_.\n",
    "# Check this in the following example:\n",
    "x = 1\n",
    "y = 2\n",
    "x, y = x + y, x - y\n",
    "print(x, y)"
   ]
  },
  {
   "attachments": {},
   "cell_type": "markdown",
   "id": "5dbeec75",
   "metadata": {},
   "source": [
    "__Exercise:__ As we have said before, in Python _every_ object must have a type. How\n",
    "can you find out what the type of a given type is? Does the answer depend on the\n",
    "given type?"
   ]
  },
  {
   "attachments": {},
   "cell_type": "markdown",
   "id": "7d965cf8",
   "metadata": {},
   "source": [
    "## $ \\S 2 $ The boolean type `bool` \n",
    "\n",
    "### $ 2.1 $ Description of the boolean type\n",
    "\n",
    "The __boolean__ type, denoted by `bool` in Python, consists of only two possible\n",
    "values: `True` and `False`.\n",
    "\n",
    "Booleans support the three basic __logical operators__ `and`, `or` and `not`\n",
    "(formally called _conjunction_, _disjunction_ and _negation_, respectively).\n",
    "Observe that the former two are _binary_ operators (i.e., requiring two\n",
    "arguments), whereas the latter is a _unary_ operator (i.e., it works on a single\n",
    "boolean argument).\n",
    "\n",
    "A __boolean expression__ is an expression that has a boolean value, that is,\n",
    "which evaluates to either `True` or `False`. \n",
    "\n",
    "Booleans are extremely important in any programming language because they enable\n",
    "the conditional execution of pieces of code. They usually appear appear in the\n",
    "conditional tests of `if-elif-else` or `while` constructs to be considered later\n",
    "or as the result of comparisons. However, they can be useful in other situations\n",
    "as well.\n",
    "\n",
    "__Examples:__"
   ]
  },
  {
   "cell_type": "code",
   "execution_count": 48,
   "id": "35d4c2bd",
   "metadata": {},
   "outputs": [
    {
     "name": "stdout",
     "output_type": "stream",
     "text": [
      "True <class 'bool'>\n",
      "False <class 'bool'>\n"
     ]
    }
   ],
   "source": [
    "a = True\n",
    "b = False\n",
    "print(a, type(a))\n",
    "print(b, type(b))"
   ]
  },
  {
   "attachments": {},
   "cell_type": "markdown",
   "id": "6298c414",
   "metadata": {},
   "source": [
    "__Exercise:__ By considering all pairs that can be formed from the values `True`\n",
    "and `False`, construct the truth tables of the `and` and `or` operators. _Hint:_\n",
    "To reduce the amount of text that needs to be typed, introduce two variables\n",
    "`t` and `f` that have `True` and `False` as their values."
   ]
  },
  {
   "cell_type": "markdown",
   "id": "aff0bb4a",
   "metadata": {},
   "source": [
    "__Example:__"
   ]
  },
  {
   "cell_type": "code",
   "execution_count": 51,
   "id": "de3a8be7",
   "metadata": {
    "scrolled": true
   },
   "outputs": [
    {
     "name": "stdout",
     "output_type": "stream",
     "text": [
      "False\n",
      "True\n",
      "True\n",
      "True\n"
     ]
    }
   ],
   "source": [
    "a = True\n",
    "b = False\n",
    "\n",
    "# Evaluating more complicated boolean expressions:\n",
    "print(not(a))\n",
    "print(not(a and b))\n",
    "print((not a) or (not b))\n",
    "print((not(not(a))))"
   ]
  },
  {
   "attachments": {},
   "cell_type": "markdown",
   "id": "755260cc",
   "metadata": {},
   "source": [
    "### $ 2.2 $ Comparison operators <a name=\"comparison\"></a>\n",
    "\n",
    "The following binary comparison operators can be applied to several types of\n",
    "objects. Each of them yields either `True` or `False` as output.\n",
    "\n",
    "| Operator   | Translation                |\n",
    "| :--------  | :---------                 |\n",
    "| `==`       | Equal to                   |\n",
    "| `!=`       | Not equal to               |\n",
    "| `<`        | Less than                  |\n",
    "| `>`        | Greater than               |\n",
    "| `<=`       | Less than or equal to      |\n",
    "| `>=`       | Greater than or equal to   |\n",
    "\n",
    "\n",
    "<div class=\"alert alert-warning\">It is a common mistake for beginners to confuse the assignment operator <code>=</code> with the equality operator <code>==</code>; this can lead to errors, explicitly or otherwise.</div>\n",
    "\n",
    "📝 If a comparison is made between two values of different types, then the interpreter will first try to convert them to a common type; e.g., if one compares an integer to a float, then the integer is first converted to a float.\n",
    "\n",
    "__Example:__"
   ]
  },
  {
   "cell_type": "code",
   "execution_count": 1,
   "id": "969f5340",
   "metadata": {},
   "outputs": [
    {
     "name": "stdout",
     "output_type": "stream",
     "text": [
      "False\n",
      "True\n",
      "True\n"
     ]
    }
   ],
   "source": [
    "a = 8\n",
    "b = 7.99\n",
    "c = -23\n",
    "\n",
    "print(b > a)\n",
    "print(a != b)\n",
    "print((c <= a) and (a >= b))"
   ]
  },
  {
   "attachments": {},
   "cell_type": "markdown",
   "id": "7312bc53",
   "metadata": {},
   "source": [
    "__Exercise:__ Predict and explain the output of the following statements:\n",
    "\n",
    "(a) `0 == 0`\n",
    "\n",
    "(b) `1 > 2`\n",
    "\n",
    "(c) `1 != 0.9999`\n",
    "\n",
    "(d) `2 == 1 + 1`\n",
    "\n",
    "(e) `2 = 1 + 1`\n",
    "\n",
    "(f) `True != False`\n",
    "\n",
    "(g) `3**5 >= 4**4`\n",
    "\n",
    "(h) `\"aba\" < \"abc\"`"
   ]
  },
  {
   "cell_type": "code",
   "execution_count": 9,
   "id": "6c5b4c90",
   "metadata": {},
   "outputs": [
    {
     "data": {
      "text/plain": [
       "243"
      ]
     },
     "execution_count": 9,
     "metadata": {},
     "output_type": "execute_result"
    }
   ],
   "source": []
  },
  {
   "attachments": {},
   "cell_type": "markdown",
   "id": "39b074f4",
   "metadata": {},
   "source": [
    "## $ \\S 3 $ `None`\n",
    "\n",
    "The type `Nonetype` consists of the single value `None`, which is used to\n",
    "indicate a null value. It is frequently used as a placeholder in the case where\n",
    "a function has no values to return or to indicate that some object is empty or\n",
    "missing. For example, the `print` function always returns `None` as its output,\n",
    "regardless of which string is used as its argument."
   ]
  },
  {
   "attachments": {},
   "cell_type": "markdown",
   "id": "98df21ab",
   "metadata": {},
   "source": [
    "## $ \\S 4 $ Numerical types and operators\n",
    "\n",
    "Python supports three basic data types for representing numbers:\n",
    "* `int`, or __integer__ type for integers such as $ -1 $, $ 2 $, $ 0 $ or $ 53 $;\n",
    "* `float`, or __floating-point__ type for floating-point numbers (intuitively, numbers with a finite decimal expansion) such as $ 3.1415 $, $ 2.0 $ or $ -.450 $;\n",
    "* `complex`, or __complex__ type for complex numbers such as $ 2 + 3j $ or $ 3.14 - 43.5 j$.\n",
    "\n",
    "Each of these types also supports the equality `==` and inequality `!=`\n",
    "operators, the basic arithmetic operators `+`, `-`, `*` (multiplication), `/`\n",
    "(division) and a few others to be discussed below. Integers and floats (but not\n",
    "complex numbers!) can also be compared in size through `<`, `>`, `<=` and `>=`."
   ]
  },
  {
   "attachments": {},
   "cell_type": "markdown",
   "id": "b8942761",
   "metadata": {},
   "source": [
    "## $ \\S 5 $ The type `int` of integers\n",
    "\n",
    "Unlike in many other languages, there is only one type for representing\n",
    "integers: `int`. Moreover, these integers can in principle be of any size (the\n",
    "limit is restricted only by the amount of memory in the user's computer)."
   ]
  },
  {
   "cell_type": "code",
   "execution_count": 3,
   "id": "b41809e2",
   "metadata": {},
   "outputs": [
    {
     "name": "stdout",
     "output_type": "stream",
     "text": [
      "4 <class 'int'>\n",
      "-3 <class 'int'>\n"
     ]
    }
   ],
   "source": [
    "a = 4\n",
    "b = -3\n",
    "print(a, type(a))    # Checking if a is of type int.\n",
    "print(b, type(b))"
   ]
  },
  {
   "cell_type": "code",
   "execution_count": 107,
   "id": "cbda3dc4",
   "metadata": {},
   "outputs": [
    {
     "name": "stdout",
     "output_type": "stream",
     "text": [
      "2 raised to the 64: 18446744073709551616\n",
      "2 raised to the 128: 340282366920938463463374607431768211456\n",
      "2 raised to the 256: 115792089237316195423570985008687907853269984665640564039457584007913129639936\n",
      "2 raised to the 512: 13407807929942597099574024998205846127479365820592393377723561443721764030073546976801874298166903427690031858186486050853753882811946569946433649006084096\n",
      "2 raised to the 1024: 179769313486231590772930519078902473361797697894230657273430081157732675805500963132708477322407536021120113879871393357658789768814416622492847430639474124377767893424865485276302219601246094119453082952085005768838150682342462881473913110540827237163350510684586298239947245938479716304835356329624224137216\n"
     ]
    }
   ],
   "source": [
    "# Verifying if the author lied about there being no bound to\n",
    "# the possible values of integers:\n",
    "print(\"2 raised to the 64:\", 2**64)\n",
    "print(\"2 raised to the 128:\", 2**128)\n",
    "print(\"2 raised to the 256:\", 2**256)\n",
    "print(\"2 raised to the 512:\", 2**512)\n",
    "print(\"2 raised to the 1024:\", 2**1024)"
   ]
  },
  {
   "attachments": {},
   "cell_type": "markdown",
   "id": "c484dc1f",
   "metadata": {},
   "source": [
    "__Exercise:__ Can you predict the value of the expressions below when $ x = 3 $ and $ y = 2 $? What if $ y = - 2 $?"
   ]
  },
  {
   "cell_type": "code",
   "execution_count": 99,
   "id": "4d79b81c",
   "metadata": {},
   "outputs": [
    {
     "name": "stdout",
     "output_type": "stream",
     "text": [
      "1\n",
      "5\n",
      "-6\n",
      "-2\n",
      "-1\n",
      "-8\n",
      "0.1111111111111111\n",
      "-1.5\n"
     ]
    },
    {
     "data": {
      "text/plain": [
       "3.0"
      ]
     },
     "execution_count": 99,
     "metadata": {},
     "output_type": "execute_result"
    }
   ],
   "source": [
    "# x = 3\n",
    "# y = 2\n",
    "print(x + y)      # Adding x and y.\n",
    "print(x - y)      # Subtracting y from x.\n",
    "print(x * y)      # Multiplying x and y.\n",
    "print(x // y)     # Quotient of x by y (integer division).\n",
    "print(x % y)      # Remainder of the division of x by y.\n",
    "print(y**x)       # Raising y to x; may return a float.\n",
    "print(x**y)       # Raising x to y; may return a float.\n",
    "print(x / y)      # Division of x by y; always returns a float."
   ]
  },
  {
   "attachments": {},
   "cell_type": "markdown",
   "id": "dd6d9f68",
   "metadata": {},
   "source": [
    "__Exercise:__ What is $ 0^0 $ according to Python? "
   ]
  },
  {
   "attachments": {},
   "cell_type": "markdown",
   "id": "2d713b34",
   "metadata": {},
   "source": [
    "## $ \\S 6 $ The type `float` of floating-point numbers"
   ]
  },
  {
   "attachments": {},
   "cell_type": "markdown",
   "id": "9360c0c6",
   "metadata": {},
   "source": [
    "Irrational numbers such as $ \\pi $ or $ e $ can never be represented exactly on\n",
    "a machine, no matter whether the decimal or binary representation is used,\n",
    "because this would require an infinite amount of digits to be stored.\n",
    "Floating-point numbers provide approximate representations of real numbers;\n",
    "their type is called `float`. Using the conventional notation, a floating-number\n",
    "is characterized by the use of a decimal point `.` to separate its integer and\n",
    "fractional part.\n",
    "\n",
    "__Example:__"
   ]
  },
  {
   "cell_type": "code",
   "execution_count": 121,
   "id": "7e3d4f26",
   "metadata": {},
   "outputs": [
    {
     "name": "stdout",
     "output_type": "stream",
     "text": [
      "<class 'float'>\n",
      "0.04501120645942232\n",
      "1.0\n"
     ]
    }
   ],
   "source": [
    "x = 3.14         # We can recognize that x and y are of type\n",
    "y = -2.71        # float because of the decimal points.\n",
    "print(type(x))   # Verifying that x is of type float.\n",
    "print(x**y)      # Raising x to y.\n",
    "print(x / x)     # Dividing x by x."
   ]
  },
  {
   "attachments": {},
   "cell_type": "markdown",
   "id": "ea29f22d",
   "metadata": {},
   "source": [
    "📝 Following the IEEE 754 standard, in Python floating-point numbers are\n",
    "represented as $ 64 $-bit double-precision values. The values that any\n",
    "floating-point number can take on are restricted to the approximate range\n",
    "between $ \\pm 1.8 \\cdot 10^{308} $.  If some expression yields a value that\n",
    "exceeds these bounds, then an _overflow error_ may result.\n"
   ]
  },
  {
   "attachments": {},
   "cell_type": "markdown",
   "id": "f74e427a",
   "metadata": {},
   "source": [
    "__Exercise:__ Let $ r = 3.0 $ and $ s = 1.2 $. Guess and then explain the values\n",
    "that are printed below."
   ]
  },
  {
   "cell_type": "code",
   "execution_count": 123,
   "id": "c6a4146b",
   "metadata": {},
   "outputs": [
    {
     "name": "stdout",
     "output_type": "stream",
     "text": [
      "4.2\n",
      "1.8\n",
      "3.5999999999999996\n",
      "2.5\n",
      "3.7371928188465517\n",
      "2.0\n",
      "0.6000000000000001\n"
     ]
    }
   ],
   "source": [
    "# r = 3.0\n",
    "# s = 1.2\n",
    "print(r + s)      # Adding r and s.\n",
    "print(r - s)      # Subtracting s from r.\n",
    "print(r * s)      # Multiplying r and s.\n",
    "print(r / s)      # Division of r by s.\n",
    "print(r**s)       # Raising r to s.\n",
    "print(r // s)     # How many times does s fit into r? Returns a float.\n",
    "print(r % s)      # And what is the remainder? Returns a float."
   ]
  },
  {
   "cell_type": "markdown",
   "id": "f4126590",
   "metadata": {},
   "source": [
    "__Exercise:__ What happens if you try to divide by $ 0 $?"
   ]
  },
  {
   "cell_type": "markdown",
   "id": "26595105",
   "metadata": {},
   "source": [
    "A floating-point number can also be written in the __scientific__ or __exponential notation__ using `e`. In this notation, the number to the left of the `e` is multiplied with $ 10 $ raised to the power to the right of the `e`.\n",
    "\n",
    "__Example:__"
   ]
  },
  {
   "cell_type": "code",
   "execution_count": null,
   "id": "271ef5a5",
   "metadata": {},
   "outputs": [
    {
     "name": "stdout",
     "output_type": "stream",
     "text": [
      "3.14159\n",
      "123.0\n",
      "0.1\n",
      "1.0\n",
      "0.0456\n",
      "78900000000.0\n"
     ]
    }
   ],
   "source": [
    "a = 3.14159e0\n",
    "b = 1.23e2\n",
    "c = 1e-1\n",
    "d = 10e-1\n",
    "e = 4.56e-2\n",
    "f = 7.89e10\n",
    "\n",
    "print(a)\n",
    "print(b)\n",
    "print(c)\n",
    "print(d)\n",
    "print(e)\n",
    "print(f)"
   ]
  },
  {
   "attachments": {},
   "cell_type": "markdown",
   "id": "27929018",
   "metadata": {},
   "source": [
    "In this syntax the value is thus obtained by multiplying the number to the\n",
    "left of `e` by $ 10 $ raised to the (integer) power to the right of `e`.\n",
    "\n",
    "📝 The expression \"floating-point\" refers to the fact that, when expressed\n",
    "in scientific notation, the position of the decimal point of a number of this\n",
    "type can \"float\" anywhere between the least and most significant of its digits.\n",
    "In particular, the same number can be represented in several ways, e.g.:\n",
    "$$\n",
    "3.1415 \\times 10^0 = 3141.5 \\times 10^{-3} = 31415 \\times 10^{-4}\n",
    "$$"
   ]
  },
  {
   "attachments": {},
   "cell_type": "markdown",
   "id": "19d7bf88",
   "metadata": {},
   "source": [
    "⚠️ Note that `10e1` does not represent $ 10^1 = 10 $, but rather\n",
    "$$\n",
    "10 \\cdot 10^1 = 10^2 = 100\\,.\n",
    "$$"
   ]
  },
  {
   "attachments": {},
   "cell_type": "markdown",
   "id": "bce81ba1",
   "metadata": {},
   "source": [
    "__Exercise:__ Explain why `2023 ** 100` evaluates to an integer while `2020.1 ** 100` yields an overflow error."
   ]
  },
  {
   "cell_type": "code",
   "execution_count": null,
   "id": "5c79c081",
   "metadata": {},
   "outputs": [],
   "source": []
  },
  {
   "attachments": {},
   "cell_type": "markdown",
   "id": "4414e5df",
   "metadata": {},
   "source": [
    "__Exercise:__ Evaluate `2.0 + 2.0 - 2.0` and `2.0 + 2.0e16 - 2.0e16` and try to explain why the results are different."
   ]
  },
  {
   "cell_type": "code",
   "execution_count": null,
   "id": "490f8666",
   "metadata": {},
   "outputs": [],
   "source": []
  },
  {
   "attachments": {},
   "cell_type": "markdown",
   "id": "8e0684d4",
   "metadata": {},
   "source": [
    "## $ \\S 7 $ The type `complex` of complex numbers\n",
    "\n",
    "We will rarely need to use complex numbers in this course. They are represented\n",
    "as a pair of floats (the real and imaginary parts of the complex number).\n",
    "\n",
    "⚠️ In Python the imaginary unit is denoted by $ j $ instead of the more usual $\n",
    "i $. "
   ]
  },
  {
   "cell_type": "code",
   "execution_count": 119,
   "id": "9b729c94",
   "metadata": {},
   "outputs": [
    {
     "name": "stdout",
     "output_type": "stream",
     "text": [
      "<class 'complex'>\n"
     ]
    }
   ],
   "source": [
    "w = 1.23 + 4.56j  # Note the syntax: we write '4.56j', not '4.56 * j'.\n",
    "print(type(w))    # Checking the type of w."
   ]
  },
  {
   "attachments": {},
   "cell_type": "markdown",
   "id": "8fdbbff5",
   "metadata": {},
   "source": [
    "⚠️ By itself, `j` gets interpreted as a variable whose name is $ j $.  In order\n",
    "to indicate that we want a complex number, `j` must be immediately preceded by a\n",
    "number."
   ]
  },
  {
   "cell_type": "code",
   "execution_count": 118,
   "id": "67bf9590",
   "metadata": {},
   "outputs": [
    {
     "ename": "NameError",
     "evalue": "name 'j' is not defined",
     "output_type": "error",
     "traceback": [
      "\u001b[0;31m---------------------------------------------------------------------------\u001b[0m",
      "\u001b[0;31mNameError\u001b[0m                                 Traceback (most recent call last)",
      "\u001b[0;32m/tmp/ipykernel_53081/4116880521.py\u001b[0m in \u001b[0;36m<module>\u001b[0;34m\u001b[0m\n\u001b[0;32m----> 1\u001b[0;31m \u001b[0mprint\u001b[0m\u001b[0;34m(\u001b[0m\u001b[0mj\u001b[0m\u001b[0;34m)\u001b[0m    \u001b[0;31m# Will result in an error if there is no variable named 'j'.\u001b[0m\u001b[0;34m\u001b[0m\u001b[0;34m\u001b[0m\u001b[0m\n\u001b[0m",
      "\u001b[0;31mNameError\u001b[0m: name 'j' is not defined"
     ]
    }
   ],
   "source": [
    "print(j)    # Will result in an error if there is no variable named 'j'."
   ]
  },
  {
   "cell_type": "code",
   "execution_count": null,
   "id": "47804653",
   "metadata": {},
   "outputs": [
    {
     "name": "stdout",
     "output_type": "stream",
     "text": [
      "(1+0j) <class 'complex'>\n",
      "1j <class 'complex'>\n"
     ]
    }
   ],
   "source": [
    "# Even if the imaginary part is zero, we must still include it explicitly to\n",
    "# indicate that we are dealing with a complex number instead of a float or int:\n",
    "a = 1 + 0j\n",
    "print(a, type(a))\n",
    "# However, in case the real part is 0, we may omit it:\n",
    "b = 1j\n",
    "print(b, type(b))"
   ]
  },
  {
   "attachments": {},
   "cell_type": "markdown",
   "id": "573ec516",
   "metadata": {},
   "source": [
    "📝 Each complex number is provided with special attributes `real` and `imag` to\n",
    "extract its real and imaginary parts respectively, and a special method\n",
    "`conjugate` to compute its conjugate. (We will not attempt to explain the meaning\n",
    "of the terms 'attribute' and 'method' here.)"
   ]
  },
  {
   "cell_type": "code",
   "execution_count": 117,
   "id": "72c0c2b4",
   "metadata": {},
   "outputs": [
    {
     "name": "stdout",
     "output_type": "stream",
     "text": [
      "1j\n",
      "0.0 <class 'float'>\n",
      "1.0 <class 'float'>\n",
      "1j\n",
      "0.0 <class 'float'>\n",
      "1.0 <class 'float'>\n"
     ]
    }
   ],
   "source": [
    "# Complex number with real part 0 and imaginary part 1.0:\n",
    "w = 1.0j\n",
    "print(w)    \n",
    "print(w.real, type(w.real))\n",
    "print(w.imag, type(w.imag))\n",
    "\n",
    "# Complex number with real part 0 and imaginary part 1:\n",
    "z = 0 + 1j\n",
    "# Printing z and the type of its real and imaginary parts:\n",
    "print(z)    \n",
    "print(z.real, type(z.real))\n",
    "print(z.imag, type(z.imag))\n",
    "# Although we used the integers 0 and 1 as the real and imaginary parts, the\n",
    "# resulting complex number still has real and imaginary parts of type float!"
   ]
  },
  {
   "cell_type": "code",
   "execution_count": 88,
   "id": "0acca4a8",
   "metadata": {},
   "outputs": [
    {
     "name": "stdout",
     "output_type": "stream",
     "text": [
      "2j\n",
      "(0.22999999999999998+3.5599999999999996j)\n",
      "(2.8949999999999996+1.6649999999999998j)\n"
     ]
    }
   ],
   "source": [
    "z = 1 + 1j\n",
    "print(z**2)\n",
    "print(w - z)\n",
    "print(w / z)"
   ]
  },
  {
   "attachments": {},
   "cell_type": "markdown",
   "id": "a9a4dde3",
   "metadata": {},
   "source": [
    "__Exercise:__ Use Python to guess the value of $ e^{\\pi i} $."
   ]
  },
  {
   "attachments": {},
   "cell_type": "markdown",
   "id": "42892e52",
   "metadata": {},
   "source": [
    "📝 Applying `int` to a positive floating-point number truncates its decimal part\n",
    "(i.e., returns the largest integer $ n \\le x $). If $ x $ is negative, however, then\n",
    "`int(x)` returns the smallest integer $ n \\ge x $.\n",
    "\n",
    "📝 To round to the nearest integer, use `round(x)`. More generally,\n",
    "`round(x, number_of_digits)` rounds a floating-point number $ x $ to a precision\n",
    "within *number_of_digits* digits after the decimal point.\n",
    "\n",
    "__Example:__"
   ]
  },
  {
   "cell_type": "code",
   "execution_count": null,
   "id": "e6d0e5d0",
   "metadata": {},
   "outputs": [
    {
     "name": "stdout",
     "output_type": "stream",
     "text": [
      "2 <class 'int'>\n",
      "2.0 <class 'float'>\n",
      "(2+0j) <class 'complex'>\n",
      "2 <class 'str'>\n"
     ]
    }
   ],
   "source": [
    "a = 2\n",
    "float_a = float(a)\n",
    "complex_a = complex(a)\n",
    "str_a = str(a)\n",
    "\n",
    "print(a, type(a))\n",
    "print(float_a, type(float_a))\n",
    "print(complex_a, type(complex_a))\n",
    "print(str_a, type(str_a))"
   ]
  },
  {
   "cell_type": "code",
   "execution_count": 3,
   "id": "94c838c8",
   "metadata": {},
   "outputs": [
    {
     "name": "stdout",
     "output_type": "stream",
     "text": [
      "2\n",
      "3\n",
      "2.654\n",
      "(2.654321+0j) <class 'complex'>\n",
      "-3\n"
     ]
    }
   ],
   "source": [
    "b = 2.654321\n",
    "truncated_b = int(b)\n",
    "rounded_b = round(b)\n",
    "\n",
    "c = round(b, 3)          # Round b to a precision within the third decimal digit.\n",
    "complex_b = complex(b)\n",
    "\n",
    "print(truncated_b)\n",
    "print(rounded_b)\n",
    "print(c)\n",
    "print(complex_b, type(complex_b))\n",
    "print(int(-3.14))"
   ]
  },
  {
   "cell_type": "markdown",
   "id": "9c2032a4",
   "metadata": {},
   "source": [
    "🚫 A complex number can also be converted to a string. However, trying to convert it to an integer or floating-point number will result in a `TypeError`."
   ]
  },
  {
   "cell_type": "code",
   "execution_count": 16,
   "id": "bff1d97f",
   "metadata": {},
   "outputs": [
    {
     "ename": "TypeError",
     "evalue": "can't convert complex to int",
     "output_type": "error",
     "traceback": [
      "\u001b[0;31m---------------------------------------------------------------------------\u001b[0m",
      "\u001b[0;31mTypeError\u001b[0m                                 Traceback (most recent call last)",
      "Input \u001b[0;32mIn [16]\u001b[0m, in \u001b[0;36m<cell line: 2>\u001b[0;34m()\u001b[0m\n\u001b[1;32m      1\u001b[0m d \u001b[38;5;241m=\u001b[39m \u001b[38;5;241m2.0\u001b[39m \u001b[38;5;241m+\u001b[39m \u001b[38;5;241m0\u001b[39mj\n\u001b[0;32m----> 2\u001b[0m int_d \u001b[38;5;241m=\u001b[39m \u001b[38;5;28;43mint\u001b[39;49m\u001b[43m(\u001b[49m\u001b[43md\u001b[49m\u001b[43m)\u001b[49m\n",
      "\u001b[0;31mTypeError\u001b[0m: can't convert complex to int"
     ]
    }
   ],
   "source": [
    "d = 2.0 + 0j\n",
    "int_d = int(d)"
   ]
  },
  {
   "cell_type": "code",
   "execution_count": 17,
   "id": "2a625ce1",
   "metadata": {},
   "outputs": [
    {
     "ename": "TypeError",
     "evalue": "can't convert complex to float",
     "output_type": "error",
     "traceback": [
      "\u001b[0;31m---------------------------------------------------------------------------\u001b[0m",
      "\u001b[0;31mTypeError\u001b[0m                                 Traceback (most recent call last)",
      "Input \u001b[0;32mIn [17]\u001b[0m, in \u001b[0;36m<cell line: 1>\u001b[0;34m()\u001b[0m\n\u001b[0;32m----> 1\u001b[0m float_d \u001b[38;5;241m=\u001b[39m \u001b[38;5;28;43mfloat\u001b[39;49m\u001b[43m(\u001b[49m\u001b[43md\u001b[49m\u001b[43m)\u001b[49m\n",
      "\u001b[0;31mTypeError\u001b[0m: can't convert complex to float"
     ]
    }
   ],
   "source": [
    "float_d = float(d)"
   ]
  },
  {
   "attachments": {},
   "cell_type": "markdown",
   "id": "032e5a31",
   "metadata": {},
   "source": [
    "## $ \\S 8 $ Arithmetic operators\n",
    "In summary, Python supports the following binary arithmetic operators:\n",
    "\n",
    "| Operator  | Operation          | Types allowed              |\n",
    "| :-------- | :---------         | :------------------------  |\n",
    "| `+`       | Addition           |  `int`, `float`, `complex` |\n",
    "| `-`       | Subtraction        |  `int`, `float`, `complex` |\n",
    "| `*`       | Multiplication     |  `int`, `float`, `complex` |\n",
    "| `/`       | Division           |  `int`, `float`, `complex` |\n",
    "| `**`      | Exponentiation     |  `int`, `float`, `complex` |\n",
    "| `//`      | Integer division   |  `int`, `float`            |\n",
    "| `%`       | Modulo (remainder) |  `int`, `float`            |\n",
    "\n",
    "<a name=\"table 1\"></a>\n",
    "\n",
    "The last two operators are defined as follows. If $ x $ and $ y $ are *positive* integers or floating-point numbers, then:\n",
    "* ` x // y` is the largest integer $ n $ such that $ n y \\le x $.\n",
    "* `x % y` is $ x - n y $, for $ n $ as above.\n",
    "\n",
    "These two operators are usually applied only when $ x $ and $ y $ are both positive. If one or both of $ x $, $ y $ is negative, the definition is similar."
   ]
  },
  {
   "cell_type": "markdown",
   "id": "807d2963",
   "metadata": {},
   "source": [
    "__Example:__"
   ]
  },
  {
   "cell_type": "code",
   "execution_count": 19,
   "id": "a206779a",
   "metadata": {},
   "outputs": [
    {
     "data": {
      "text/plain": [
       "3"
      ]
     },
     "execution_count": 19,
     "metadata": {},
     "output_type": "execute_result"
    }
   ],
   "source": [
    "11 // 3"
   ]
  },
  {
   "cell_type": "code",
   "execution_count": 20,
   "id": "08363909",
   "metadata": {},
   "outputs": [
    {
     "data": {
      "text/plain": [
       "2"
      ]
     },
     "execution_count": 20,
     "metadata": {},
     "output_type": "execute_result"
    }
   ],
   "source": [
    "11 % 3"
   ]
  },
  {
   "attachments": {},
   "cell_type": "markdown",
   "id": "d377667e",
   "metadata": {},
   "source": [
    "__Exercise:__ By considering some examples, deduce the meaning of `x // y` and `x % y ` when one (or both) of $ x $ and $ y $ is negative."
   ]
  },
  {
   "cell_type": "code",
   "execution_count": null,
   "id": "f2056184",
   "metadata": {},
   "outputs": [],
   "source": []
  },
  {
   "attachments": {},
   "cell_type": "markdown",
   "id": "3bb6cd09",
   "metadata": {},
   "source": [
    "📝 Applying `%` with second argument $ 1 $ results in the fractional part of the\n",
    "(positive) first argument, as in the following example."
   ]
  },
  {
   "cell_type": "code",
   "execution_count": 21,
   "id": "d6fb65aa",
   "metadata": {},
   "outputs": [
    {
     "data": {
      "text/plain": [
       "0.14158999999999988"
      ]
     },
     "execution_count": 21,
     "metadata": {},
     "output_type": "execute_result"
    }
   ],
   "source": [
    "3.14159 % 1"
   ]
  },
  {
   "attachments": {},
   "cell_type": "markdown",
   "id": "b6588690",
   "metadata": {},
   "source": [
    "__Exercise:__ Predict the values of the following expressions and then check your answers:\n",
    "\n",
    "(a) `7 * 2`\n",
    "\n",
    "(b) `7 ** 2`\n",
    "\n",
    "(c) `7 // 2`\n",
    "\n",
    "(d) `7 / 2`\n",
    "\n",
    "(e) `7 % 2`"
   ]
  },
  {
   "cell_type": "code",
   "execution_count": 23,
   "id": "3756bf68",
   "metadata": {},
   "outputs": [
    {
     "name": "stdout",
     "output_type": "stream",
     "text": [
      "(-5.1+10.3j)\n",
      "(4.1+6.1j)\n",
      "(2.1+2.0999999999999996j)\n",
      "(1-2j) (0.11663140540859289+0.056098418726851895j)\n"
     ]
    }
   ],
   "source": [
    "x = complex(1, 2)      # Create, store the complex number 1 + 2 j .\n",
    "y = complex(3.1, 4.1)  # Create, store the complex number 3.1 + 4.1 j .\n",
    "z = 5\n",
    "\n",
    "print(y * x)\n",
    "print(y + x)\n",
    "print(y - x)\n",
    "print(z / x, x ** y)"
   ]
  },
  {
   "attachments": {},
   "cell_type": "markdown",
   "id": "46232510",
   "metadata": {},
   "source": [
    "Besides these binary arithmetic operators, we can also make use of the following functions when working with numerical values:\n",
    "* `abs`, the **absolute value** function, which takes a single numerical argument;\n",
    "* `max` and `min`, the **maximum** and **minimum** functions, which can take any number of (float or integer) arguments, separated by commas.\n",
    "\n",
    "__Example:__"
   ]
  },
  {
   "cell_type": "code",
   "execution_count": 25,
   "id": "fdb33e6b",
   "metadata": {
    "scrolled": true
   },
   "outputs": [
    {
     "name": "stdout",
     "output_type": "stream",
     "text": [
      "3.1415\n",
      "2\n",
      "5.0\n",
      "10.45\n",
      "-23\n"
     ]
    }
   ],
   "source": [
    "print(abs(-3.1415))\n",
    "print(abs(2))\n",
    "print(abs(-3 + 4j))\n",
    "# Can you explain why abs(-3 + 4j) = 5.0?\n",
    "# Hint: the modulus of a complex number a + bj is given by\n",
    "# the square root of a**2 + b**2.\n",
    "\n",
    "print(max(-5.3, 2, 10.45, -23, 0))\n",
    "print(min(-5.3, 2, 10.45, -23, 0))"
   ]
  },
  {
   "attachments": {},
   "cell_type": "markdown",
   "id": "d61922d0",
   "metadata": {},
   "source": [
    "Other common mathematical functions such as the exponential, the logarithm and the trigonometric functions can be used after importing the `math` or `numpy` modules (more about this later)."
   ]
  },
  {
   "attachments": {},
   "cell_type": "markdown",
   "id": "c390e02c",
   "metadata": {},
   "source": [
    "## $ \\S 9 $ Compound assignment operators\n",
    "\n",
    "Corresponding to each of the arithmetic operators considered above, Python\n",
    "provides the following __compound assignment operators__, which are used to\n",
    "perform an operation in-place on a variable provided as its first operand:\n",
    "\n",
    "    +=, -=, *=, /=, **=, //=, %=\n",
    "\n",
    "Their meaning will be clear from the following examples:\n",
    "\n",
    "| Example             | Equivalent statement |\n",
    "| :--------           | :---------           |\n",
    "| `x += 3.14`         | ` x = x + 3.14`      |\n",
    "| `x -= (2  + 3j)`    | `x = x - (2 + 3j)`   |\n",
    "| `x *= 2`            | `x = x * 2`          |\n",
    "| `x /= 3`            | `x = x / 3`          |\n",
    "| `x **= 0.5`         | `x = x**0.5`         |\n",
    "| `x //= z`           | `x = x // z`         |\n",
    "| `x %= y**2`         | `x = x % (y**2)`     |\n",
    "\n",
    "In each case, the _new_ value of the variable $ x $ is given by the expression\n",
    "on the right, whereas the _old_ value of $ x $ is used in the computation.\n",
    "\n",
    "__Example:__"
   ]
  },
  {
   "cell_type": "code",
   "execution_count": 26,
   "id": "97893906",
   "metadata": {},
   "outputs": [
    {
     "name": "stdout",
     "output_type": "stream",
     "text": [
      "2 3\n",
      "2 1\n"
     ]
    }
   ],
   "source": [
    "x = 7\n",
    "y = 5\n",
    "\n",
    "x -= y         # x = 7 - 5 = 2\n",
    "y -= x         # y = 5 - 2 = 3\n",
    "\n",
    "print(x, y)\n",
    "\n",
    "x **= y        # x = 2**3 = 8\n",
    "x -= 6         # x = 8 - 6 = 2\n",
    "y //= x        # y = 3 // 2 = 1\n",
    "\n",
    "print(x, y)"
   ]
  }
 ],
 "metadata": {
  "kernelspec": {
   "display_name": "Python 3 (ipykernel)",
   "language": "python",
   "name": "python3"
  },
  "language_info": {
   "codemirror_mode": {
    "name": "ipython",
    "version": 3
   },
   "file_extension": ".py",
   "mimetype": "text/x-python",
   "name": "python",
   "nbconvert_exporter": "python",
   "pygments_lexer": "ipython3",
   "version": "3.10.10"
  }
 },
 "nbformat": 4,
 "nbformat_minor": 5
}
