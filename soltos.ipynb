{
  "nbformat": 4,
  "nbformat_minor": 0,
  "metadata": {
    "colab": {
      "provenance": [],
      "authorship_tag": "ABX9TyN64Pm5VrGEp/lumEEPZkKv",
      "include_colab_link": true
    },
    "kernelspec": {
      "name": "python3",
      "display_name": "Python 3"
    },
    "language_info": {
      "name": "python"
    }
  },
  "cells": [
    {
      "cell_type": "markdown",
      "metadata": {
        "id": "view-in-github",
        "colab_type": "text"
      },
      "source": [
        "<a href=\"https://colab.research.google.com/github/jefersonfreittas1/Python-Tutorial/blob/main/soltos.ipynb\" target=\"_parent\"><img src=\"https://colab.research.google.com/assets/colab-badge.svg\" alt=\"Open In Colab\"/></a>"
      ]
    },
    {
      "cell_type": "markdown",
      "source": [],
      "metadata": {
        "id": "gIkgfJSehobW"
      }
    },
    {
      "cell_type": "code",
      "source": [
        "#Escreva um programa em Python que verifique se um número é positivo, negativo ou zero.\n"
      ],
      "metadata": {
        "id": "Yy8ym6J2YjN7"
      },
      "execution_count": null,
      "outputs": []
    },
    {
      "cell_type": "code",
      "source": [
        "#Escreva um programa em Python para converter temperatura de graus Celsius para Fahrenheit.\n",
        "# Dado: Fahrenheit = (Celsius * 9/5) + 32.\n",
        "T = float(input(\"Digite a temperatura em °C \"))\n",
        "F = (T*(9/5))+32\n",
        "print(\"{}°C corresponde a {} F\".format(T,F))"
      ],
      "metadata": {
        "colab": {
          "base_uri": "https://localhost:8080/"
        },
        "id": "c4Rw9P-fXx1o",
        "outputId": "1aa639ca-5b72-480a-8899-3beb5f18f27b"
      },
      "execution_count": null,
      "outputs": [
        {
          "output_type": "stream",
          "name": "stdout",
          "text": [
            "Digite a temperatura em °C 50\n",
            "50.0°C corresponde a 122.0 F\n"
          ]
        }
      ]
    },
    {
      "cell_type": "code",
      "source": [
        "#Crie um programa que leia o ano de nascimento de sete pessoas.\n",
        "# No final, mostre quantas pessoas ainda não atingiram a maioridade e quantas já são maiores.\n",
        "tot1 = 0\n",
        "tot2 = 0\n",
        "for a in range(0,7):\n",
        "  n = int(input(\"insira o ano de nascimento\"))\n",
        "  if n >= 2006:\n",
        "    tot1 = tot1 +1\n",
        "  elif n < 2006:\n",
        "    tot2 = tot2 +1\n",
        "print(\"Temos {} menores e {} maiores\".format(tot1,tot2))\n",
        "\n",
        "\n",
        "\n",
        "\n"
      ],
      "metadata": {
        "id": "NCSg6NMGSEd1"
      },
      "execution_count": null,
      "outputs": []
    },
    {
      "cell_type": "code",
      "source": [
        "#ler um numero inteiro e diga se ele é primo ou não\n",
        "print(\"Verificação se o número é primo\")\n",
        "n = int(input(\"Digite um numero\"))\n",
        "tot = 0\n",
        "for p in range(1,n+1):\n",
        "  if n % p == 0:\n",
        "    tot = tot+1 #contador\n",
        "print(\"{} foi divisível {} vezes\".format(n,tot))\n",
        "if tot > 2: #Verifica se é primo\n",
        "  print(\"Portanto, {} não é primo\".format(n))\n",
        "else:\n",
        "  print(\"Portanto, {} não é primo\".format(n))\n"
      ],
      "metadata": {
        "colab": {
          "base_uri": "https://localhost:8080/",
          "height": 245
        },
        "id": "rj88MxWWNTnR",
        "outputId": "59dad962-19e7-4655-f4c8-7c7a5b73dc89"
      },
      "execution_count": null,
      "outputs": [
        {
          "name": "stdout",
          "output_type": "stream",
          "text": [
            "Verificação se o número é primo\n",
            "Digite um numero10\n"
          ]
        },
        {
          "output_type": "error",
          "ename": "ZeroDivisionError",
          "evalue": "integer division or modulo by zero",
          "traceback": [
            "\u001b[0;31m---------------------------------------------------------------------------\u001b[0m",
            "\u001b[0;31mZeroDivisionError\u001b[0m                         Traceback (most recent call last)",
            "\u001b[0;32m<ipython-input-44-2325d07d4f98>\u001b[0m in \u001b[0;36m<cell line: 5>\u001b[0;34m()\u001b[0m\n\u001b[1;32m      4\u001b[0m \u001b[0mtot\u001b[0m \u001b[0;34m=\u001b[0m \u001b[0;36m0\u001b[0m\u001b[0;34m\u001b[0m\u001b[0;34m\u001b[0m\u001b[0m\n\u001b[1;32m      5\u001b[0m \u001b[0;32mfor\u001b[0m \u001b[0mp\u001b[0m \u001b[0;32min\u001b[0m \u001b[0mrange\u001b[0m\u001b[0;34m(\u001b[0m\u001b[0;36m0\u001b[0m\u001b[0;34m,\u001b[0m\u001b[0mn\u001b[0m\u001b[0;34m)\u001b[0m\u001b[0;34m:\u001b[0m\u001b[0;34m\u001b[0m\u001b[0;34m\u001b[0m\u001b[0m\n\u001b[0;32m----> 6\u001b[0;31m   \u001b[0;32mif\u001b[0m \u001b[0mn\u001b[0m \u001b[0;34m%\u001b[0m \u001b[0mp\u001b[0m \u001b[0;34m==\u001b[0m \u001b[0;36m0\u001b[0m\u001b[0;34m:\u001b[0m\u001b[0;34m\u001b[0m\u001b[0;34m\u001b[0m\u001b[0m\n\u001b[0m\u001b[1;32m      7\u001b[0m     \u001b[0mtot\u001b[0m \u001b[0;34m=\u001b[0m \u001b[0mtot\u001b[0m\u001b[0;34m+\u001b[0m\u001b[0;36m1\u001b[0m \u001b[0;31m#contador\u001b[0m\u001b[0;34m\u001b[0m\u001b[0;34m\u001b[0m\u001b[0m\n\u001b[1;32m      8\u001b[0m \u001b[0mprint\u001b[0m\u001b[0;34m(\u001b[0m\u001b[0;34m\"{} foi divisível {} vezes\"\u001b[0m\u001b[0;34m.\u001b[0m\u001b[0mformat\u001b[0m\u001b[0;34m(\u001b[0m\u001b[0mn\u001b[0m\u001b[0;34m,\u001b[0m\u001b[0mtot\u001b[0m\u001b[0;34m)\u001b[0m\u001b[0;34m)\u001b[0m\u001b[0;34m\u001b[0m\u001b[0;34m\u001b[0m\u001b[0m\n",
            "\u001b[0;31mZeroDivisionError\u001b[0m: integer division or modulo by zero"
          ]
        }
      ]
    },
    {
      "cell_type": "code",
      "source": [
        "#ler um numero inteiro e diga se ele é primo ou não\n",
        "n = int(input(\"digite um número inteiro\"))\n",
        "tot = 0\n",
        "for c in range(1,n+1):\n",
        "  if n % c ==0:\n",
        "    tot = tot+1\n",
        "print(\"\\nO número {} foi divisível {} vezes\".format(n,tot))\n",
        "if tot > 2:\n",
        "  print('\\nPortanto {} não é primo'.format(n))\n",
        "else:\n",
        "  print('\\nPortanto {} é primo'.format(n))"
      ],
      "metadata": {
        "colab": {
          "base_uri": "https://localhost:8080/"
        },
        "id": "1WF7EP3YLDjk",
        "outputId": "212dc9ff-b47d-457c-d3b4-ec80dc60e7d9"
      },
      "execution_count": null,
      "outputs": [
        {
          "output_type": "stream",
          "name": "stdout",
          "text": [
            "digite um número inteiro5\n",
            "\n",
            "O número 5 foi divisível 2 vezes\n",
            "\n",
            "Portanto 5 é primo\n"
          ]
        }
      ]
    },
    {
      "cell_type": "code",
      "source": [
        "#código simplificado numeros primos\n",
        "n = int(input(\"Digite um numero\"))\n",
        "tot = 0\n",
        "for p in range(1, n+1):\n",
        "  if n % p ==0:\n",
        "    tot += p\n",
        "else:\n",
        "    print(\"{} foi divisível {} vezes\".format(n,tot))\n",
        "if tot > 2:\n",
        "  print(\"O número não é primo {}\".format(n))\n",
        "else:\n",
        "  print(\"O número {} é primo\".format(n))\n"
      ],
      "metadata": {
        "colab": {
          "base_uri": "https://localhost:8080/"
        },
        "id": "MKmxuI3_IK-7",
        "outputId": "435003a4-ead9-4499-b603-ac4c699cd1b4"
      },
      "execution_count": null,
      "outputs": [
        {
          "output_type": "stream",
          "name": "stdout",
          "text": [
            "Digite um numero10\n",
            "10 foi divisível 18 vezes\n",
            "O número não é primo 10\n"
          ]
        }
      ]
    },
    {
      "cell_type": "code",
      "source": [
        "#ler um número e dizer se é primo\n",
        "n = int(input(\"digite um número\"))\n",
        "tot = 0\n",
        "#Contando quantos números são divisíveis em \"n\"\n",
        "for p in range(0,n):\n",
        "  if n % p ==0:\n",
        "    print('\\033[30', end = \"\")\n",
        "    tot = tot + 1 #contador de números divisíveis\n",
        "    #Os que não forem não for divisíveis\n",
        "  else:\n",
        "      print('\\033[34', end = \"\")\n",
        "  print(\"{}\".format(p), end = \"\")\n",
        "print('\\nO numéro {} foi divisível {} vezes'.formatn(n,tot), end = \"\")\n",
        "if tot > 2:\n",
        "    print(\"Portanto, o número {} não é primo\".format(n))\n",
        "else:\n",
        "    print(\"Portanto, o número {} é primo\".format(n))\n"
      ],
      "metadata": {
        "id": "wjE9On9482W7",
        "colab": {
          "base_uri": "https://localhost:8080/",
          "height": 228
        },
        "outputId": "aba7c3aa-86dd-498d-9c34-d8733306da78"
      },
      "execution_count": null,
      "outputs": [
        {
          "name": "stdout",
          "output_type": "stream",
          "text": [
            "digite um número5\n"
          ]
        },
        {
          "output_type": "error",
          "ename": "ZeroDivisionError",
          "evalue": "integer division or modulo by zero",
          "traceback": [
            "\u001b[0;31m---------------------------------------------------------------------------\u001b[0m",
            "\u001b[0;31mZeroDivisionError\u001b[0m                         Traceback (most recent call last)",
            "\u001b[0;32m<ipython-input-6-3f89f9892cb2>\u001b[0m in \u001b[0;36m<cell line: 5>\u001b[0;34m()\u001b[0m\n\u001b[1;32m      4\u001b[0m \u001b[0;31m#Contando quantos números são divisíveis em \"n\"\u001b[0m\u001b[0;34m\u001b[0m\u001b[0;34m\u001b[0m\u001b[0m\n\u001b[1;32m      5\u001b[0m \u001b[0;32mfor\u001b[0m \u001b[0mp\u001b[0m \u001b[0;32min\u001b[0m \u001b[0mrange\u001b[0m\u001b[0;34m(\u001b[0m\u001b[0;36m0\u001b[0m\u001b[0;34m,\u001b[0m\u001b[0mn\u001b[0m\u001b[0;34m)\u001b[0m\u001b[0;34m:\u001b[0m\u001b[0;34m\u001b[0m\u001b[0;34m\u001b[0m\u001b[0m\n\u001b[0;32m----> 6\u001b[0;31m   \u001b[0;32mif\u001b[0m \u001b[0mn\u001b[0m \u001b[0;34m%\u001b[0m \u001b[0mp\u001b[0m \u001b[0;34m==\u001b[0m\u001b[0;36m0\u001b[0m\u001b[0;34m:\u001b[0m\u001b[0;34m\u001b[0m\u001b[0;34m\u001b[0m\u001b[0m\n\u001b[0m\u001b[1;32m      7\u001b[0m     \u001b[0mprint\u001b[0m\u001b[0;34m(\u001b[0m\u001b[0;34m'\\033[30'\u001b[0m\u001b[0;34m,\u001b[0m \u001b[0mend\u001b[0m \u001b[0;34m=\u001b[0m \u001b[0;34m\"\"\u001b[0m\u001b[0;34m)\u001b[0m\u001b[0;34m\u001b[0m\u001b[0;34m\u001b[0m\u001b[0m\n\u001b[1;32m      8\u001b[0m     \u001b[0mtot\u001b[0m \u001b[0;34m=\u001b[0m \u001b[0mtot\u001b[0m \u001b[0;34m+\u001b[0m \u001b[0;36m1\u001b[0m \u001b[0;31m#contador de números divisíveis\u001b[0m\u001b[0;34m\u001b[0m\u001b[0;34m\u001b[0m\u001b[0m\n",
            "\u001b[0;31mZeroDivisionError\u001b[0m: integer division or modulo by zero"
          ]
        }
      ]
    },
    {
      "cell_type": "code",
      "source": [
        "#Leia ano de nascimento de 7 pessoas e diga quais não atingiu a maior idade\n",
        "s = 0\n",
        "for i in range(0,7):\n",
        "  n = int(input(\"Digite o ano de nascimento\"))\n",
        "  if (n > 2006):\n",
        "    s = s +1\n",
        "print('{} pessoas não atingiram a maior idade'.format(s))\n",
        "print (\"{} já atingiram a maior idade\".format(7-s))\n"
      ],
      "metadata": {
        "id": "cxUi0HOY6wzt"
      },
      "execution_count": null,
      "outputs": []
    },
    {
      "cell_type": "code",
      "source": [
        "#palindrome"
      ],
      "metadata": {
        "id": "Sy_edF_T6bc6"
      },
      "execution_count": null,
      "outputs": []
    },
    {
      "cell_type": "code",
      "source": [
        "#ler um numero inteiro e diga se ele é primo ou não\n",
        "n = int(input(\"digite um número inteiro\"))\n",
        "tot = 0\n",
        "for c in range(1,n+1):\n",
        "  if n % c ==0:\n",
        "    print('\\033[34m', end=\"\")\n",
        "    tot = tot+1\n",
        "  else:\n",
        "     print('\\033[30m', end=\"\")\n",
        "  print(\"{} \".format(c), end=\"\")\n",
        "print(\"\\nO número {} foi divisível {} vezes\".format(n,tot),end = \"\")\n",
        "if tot > 2:\n",
        "  print('\\nPortanto {} não é primo'.format(n))\n",
        "else:\n",
        "  print('\\nPortanto {} é primo'.format(n))"
      ],
      "metadata": {
        "id": "fHqcZp223lvh",
        "colab": {
          "base_uri": "https://localhost:8080/"
        },
        "outputId": "6a58fa4a-86c1-4d77-ddcb-c9a32b0c6c6a"
      },
      "execution_count": null,
      "outputs": [
        {
          "output_type": "stream",
          "name": "stdout",
          "text": [
            "digite um número inteiro6\n",
            "\u001b[34m1 \u001b[34m2 \u001b[34m3 \u001b[30m4 \u001b[30m5 \u001b[34m6 \n",
            "O número 6 foi divisível 4 vezes\n",
            "Portanto 6 não é primo\n"
          ]
        }
      ]
    },
    {
      "cell_type": "code",
      "source": [
        "#leia o primeiro termo e a razão da P.Ae mostre os 10 primeiros termos da P.A\n",
        "p = int(input(\"Insira o primeiro termo da P.A\"))\n",
        "r = int(input(\"Insira a razão da P.A\"))\n",
        "for i in range(10):\n",
        " print(p)\n",
        " p = p + r #progressão aritmética\n"
      ],
      "metadata": {
        "colab": {
          "base_uri": "https://localhost:8080/"
        },
        "id": "gXqlYnonwfT6",
        "outputId": "f01b1ea5-4195-4b85-e459-b7e848e6cdb4"
      },
      "execution_count": null,
      "outputs": [
        {
          "output_type": "stream",
          "name": "stdout",
          "text": [
            "Insira o primeiro termo da P.A10\n",
            "Insira a razão da P.A6\n",
            "10\n",
            "16\n",
            "22\n",
            "28\n",
            "34\n",
            "40\n",
            "46\n",
            "52\n",
            "58\n",
            "64\n"
          ]
        }
      ]
    },
    {
      "cell_type": "code",
      "source": [
        "#código que leia 6 numeros inteiros e some apenas os pares\n",
        "s= 0\n",
        "for i in range(0,6):\n",
        "  n = int(input(\"insira um valor \\n\"))\n",
        "  if n % 2 ==0:1\n",
        "    s = n + s\n",
        "print(\"A soma é: {}\".format(s))"
      ],
      "metadata": {
        "id": "y94yJXn0nEF_"
      },
      "execution_count": null,
      "outputs": []
    },
    {
      "cell_type": "markdown",
      "source": [
        "**COMANDO FOR**\n"
      ],
      "metadata": {
        "id": "VZnQKsUEhdCX"
      }
    },
    {
      "cell_type": "code",
      "source": [
        "#Tabuada\n",
        "n = float(input(\"Insira a tabuada\")) #numero da tabuada\n",
        "for t in range(11): #laço\n",
        "  m = t*n #faz a multiplicação\n",
        "  print(\"{} x {} = {}\".format(t,n,m)) #mostra o resultado\n",
        "\n"
      ],
      "metadata": {
        "id": "b3cxPYDQkFj9"
      },
      "execution_count": null,
      "outputs": []
    },
    {
      "cell_type": "code",
      "source": [
        "#somar números ímpares múltiplos de 3\n",
        "n = int(input('insira um número\\n'))\n",
        "s = 0\n",
        "for i in range(0,n):\n",
        "  if i % 2 != 0 and i % 3 ==0:\n",
        "    s += i\n",
        "    print(s)"
      ],
      "metadata": {
        "id": "HE8VVAwugP5I"
      },
      "execution_count": null,
      "outputs": []
    },
    {
      "cell_type": "code",
      "source": [
        "#Números pares\n",
        "n = int(input(\"insira o número\"))\n",
        "n2 = n + 1\n",
        "if n % 2==0:\n",
        "  for i in range(n,0,-2):\n",
        "    print(i)\n",
        "else:\n",
        "  for c in range(n2,0,-2):\n",
        "    print(c)\n",
        "\n",
        "\n",
        "\n"
      ],
      "metadata": {
        "id": "Y_t-jAe_bSeF"
      },
      "execution_count": null,
      "outputs": []
    },
    {
      "cell_type": "code",
      "source": [
        "#fogos de artifício\n",
        "import time\n",
        "n = int(input(\"insira um numero para a contagem regressiva\"))\n",
        "for c in range(n,0,-1):\n",
        "  time.sleep(0.5)\n",
        "  print(c)\n",
        "print(\"⭐🎉🎇🎆🎈🧨🎊\")"
      ],
      "metadata": {
        "id": "5z3BzF8IbRhc"
      },
      "execution_count": null,
      "outputs": []
    },
    {
      "cell_type": "code",
      "source": [
        "#contagem\n",
        "n = int(input(\"digite um número \\n\"))\n",
        "print(\"contagem de 0 até {}\".format(n))\n",
        "for c in range(0,n+1):\n",
        "  print(c)\n",
        "print(\"fim\")"
      ],
      "metadata": {
        "id": "hWdWMfm7hdps"
      },
      "execution_count": null,
      "outputs": []
    },
    {
      "cell_type": "code",
      "source": [
        "\n",
        "#passos\n",
        "i = int(input(\"Número de início \\n\"))\n",
        "f = int(input(\"Número final \\n\"))\n",
        "p = int(input(\"Número de pulos \\n\"))\n",
        "for c in range(i,f+1,p):\n",
        "  print(c)\n",
        "print(\"Fim\")"
      ],
      "metadata": {
        "id": "-532sEOVmF9r"
      },
      "execution_count": null,
      "outputs": []
    },
    {
      "cell_type": "code",
      "source": [
        "m = 1\n",
        "for c in range(0,4):\n",
        "  n = int(input(\"digite um número\\n\"))\n",
        "  m = m * n\n",
        "print(\"A somatória de todos os valores foi: {}\".format(m))"
      ],
      "metadata": {
        "id": "WDK7rFsEn26J"
      },
      "execution_count": null,
      "outputs": []
    },
    {
      "cell_type": "code",
      "source": [
        "#Contagem regressiva\n",
        "import time\n",
        "print(\"Contagem regressiva \\n\")\n",
        "n = int(input(\"Insira o início da conatagem regressiva \\n\"))\n",
        "n1 = int(input(\"Insira o fim da contagem regressiva \\n\"))\n",
        "n3 = int(input(\"insira o intervalo de tempo de contagem \\n\"))\n",
        "for t in range(n,n1,-1):\n",
        "  print(t)\n",
        "  time.sleep(n3)\n",
        "print(\"Fim da contagem\")\n"
      ],
      "metadata": {
        "id": "fQVKrM1Jv-tU"
      },
      "execution_count": null,
      "outputs": []
    },
    {
      "cell_type": "code",
      "source": [],
      "metadata": {
        "id": "Lq0B-3NLZYC1"
      },
      "execution_count": null,
      "outputs": []
    },
    {
      "cell_type": "code",
      "source": [
        "#número pares de um intervalo utilizando laço\n",
        "n = int(input(\"insira um número \\n\"))\n",
        "if n % 2 == 0:\n",
        "  print(\"Os números pares são:\")\n",
        "  for c in range(n,0,-2):\n",
        "    print(c)\n",
        "else:\n",
        "  print(\"Os números pares são:\")\n",
        "  n1 = n-1\n",
        "  for c in range(n1,0,-2):\n",
        "    print(c)"
      ],
      "metadata": {
        "id": "hngQODU_0Aq2"
      },
      "execution_count": null,
      "outputs": []
    },
    {
      "cell_type": "code",
      "source": [
        "#calcule a soma entre todos os número ímpares que são múltiplos de 3 no intervalo entre 1 e 500\n",
        "n = int(input(\"insira um numero\"))\n",
        "s = 0\n",
        "for c in range(0,n):\n",
        "  if c % 2 != 0 and c % 3 == 0:\n",
        "    s += c\n",
        "print(s)"
      ],
      "metadata": {
        "colab": {
          "base_uri": "https://localhost:8080/"
        },
        "id": "wDg0wf_x6OdD",
        "outputId": "f1b280e4-3f06-4285-b346-28253761d267"
      },
      "execution_count": null,
      "outputs": [
        {
          "output_type": "stream",
          "name": "stdout",
          "text": [
            "insira um numero50\n",
            "192\n"
          ]
        }
      ]
    },
    {
      "cell_type": "code",
      "source": [
        "#tabuada\n",
        "n = int(input(\"insira a tabuada desejada \\n\"))\n",
        "for t in range(0,11):\n",
        "  r = t*n\n",
        "  print(\"{} x {} = {}\".format(t,n,r))\n",
        "\n"
      ],
      "metadata": {
        "id": "MfxcYAe-CRfh"
      },
      "execution_count": null,
      "outputs": []
    },
    {
      "cell_type": "code",
      "source": [
        "#Ler 6 números inteiros e mostre a soma entre os pares\n",
        "s = 0\n",
        "for c in range(0,4):\n",
        "  n = int(input(\"digite um número\"))\n",
        "  if n % 2 ==0:\n",
        "    s = s+n\n",
        "print(\"a soma é:{}\".format(s))\n",
        "\n",
        "\n"
      ],
      "metadata": {
        "id": "QbsFOKI7HzCM"
      },
      "execution_count": null,
      "outputs": []
    },
    {
      "cell_type": "code",
      "source": [
        "#progressão aritmética desenvolva um programa que leia\n",
        "# o primeiro termo e a razão de uma p.a. no final mostre os 10 primeiros termos da p.a\n",
        "r = int(input(\"Insira a Razão da P.A \\n\"))\n",
        "n = int(input(\"Insira o primeiro número da P.A \\n\"))\n",
        "for p in range(10):\n",
        "  n = n+r\n",
        "  print(n)"
      ],
      "metadata": {
        "id": "9FkfNAqvOl-c"
      },
      "execution_count": null,
      "outputs": []
    },
    {
      "cell_type": "markdown",
      "source": [
        "**COMANDO IF, ELIF, ELSE**"
      ],
      "metadata": {
        "id": "tfewxgQNhrJW"
      }
    },
    {
      "cell_type": "code",
      "source": [
        "#jokenpô\n",
        "import random\n",
        "j = str(input(\"Insira pedra, papel, ou tesoura \\n\"))\n",
        "s = [\"pedra\",\"papel\",\"tesoura\"]\n",
        "s2 = random.choice(s)\n",
        "print(s2)\n",
        "\n",
        "if s2 == \"pedra\" and j == \"tesoura\":\n",
        "        print(\"Pedra🪨 ganha de tesoura✂️\")\n",
        "elif s2 == \"pedra\" and j == \"papel\":\n",
        "        print(\"Pedra🪨 perde de papel🧻\")\n",
        "elif s2 == \"pedra\" and j == \"pedra\":\n",
        "        print(\"empate🪨🪨\")\n",
        "elif s2 == \"papel\" and j == \"tesoura\":\n",
        "        print(\"papel🧻 perde de tesoura✂️\")\n",
        "elif s2 == \"papel\" and j == \"papel\":\n",
        "        print(\"empate🧻🧻\")\n",
        "elif s2 == \"papel\" and j == \"pedra\":\n",
        "        print(\"papel🧻 ganha de pedra🪨\")\n",
        "elif s2 == \"tesoura\" and j == \"tesoura\":\n",
        "        print(\"empate✂️✂️\")\n",
        "elif s2 == \"tesoura\" and j == \"papel\":\n",
        "        print(\"tesoura✂️ ganha de papel🧻\")\n",
        "elif s2 == \"tesoura\" and j == \"pedra\":\n",
        "        print(\"tesoura✂️ perde de pedra🪨\")\n",
        "else:\n",
        "        print(\"algo deu errado, insira valores válidos\")"
      ],
      "metadata": {
        "id": "VLB_rTr17XmX",
        "colab": {
          "base_uri": "https://localhost:8080/"
        },
        "outputId": "c9d88aef-0427-4ed0-b4ca-0c4558e8b260"
      },
      "execution_count": null,
      "outputs": [
        {
          "output_type": "stream",
          "name": "stdout",
          "text": [
            "Insira pedra, papel, ou tesoura \n",
            "pedra\n",
            "pedra\n",
            "empate🪨🪨\n"
          ]
        }
      ]
    },
    {
      "cell_type": "code",
      "source": [
        "#alistamento\n",
        "d = int(input(\"insira o ano de nascimento\"))\n",
        "d1 = 2024-d\n",
        "d2 = (2024 - d) - 18\n",
        "d3 = 18 - d1\n",
        "if d1 > 18:\n",
        "  print(\" Já se passaram {} anos do prazo de alistamento\".format(d2))\n",
        "elif d1 == 18:\n",
        "  print(\"Está na hora de se alistar\")\n",
        "elif d1 < 18:\n",
        "  print(\"Ainda não é hora de se alistar, ainda falta {} anos\".format(d3))\n",
        "else:\n",
        "  print(\"digite um valor válido\".format())\n"
      ],
      "metadata": {
        "colab": {
          "base_uri": "https://localhost:8080/"
        },
        "id": "obHFUJnX41X4",
        "outputId": "4547cfc5-b54c-4560-9769-3d68f261f46d"
      },
      "execution_count": null,
      "outputs": [
        {
          "output_type": "stream",
          "name": "stdout",
          "text": [
            "insira o ano de nascimento1997\n",
            " Já se passaram 9 anos do prazo de alistamento\n"
          ]
        }
      ]
    },
    {
      "cell_type": "code",
      "source": [
        "#maior valor\n",
        "n1 = int(input(\"Digite um número \\n\"))\n",
        "n2 = int(input(\"Digite um número \\n\"))\n",
        "if n2 < n1:\n",
        "  print(f\"{n1} é o maior\")\n",
        "elif n2 > n1:\n",
        "  print(f\"{n2} é o maior\")\n",
        "elif n1 == n2:\n",
        "  print(\"os números são iguais\")\n"
      ],
      "metadata": {
        "colab": {
          "base_uri": "https://localhost:8080/"
        },
        "id": "dT03vPgu1ZwD",
        "outputId": "2532e3cc-9209-4a7d-c14c-c9cf0ba067c4"
      },
      "execution_count": null,
      "outputs": [
        {
          "output_type": "stream",
          "name": "stdout",
          "text": [
            "Digite um número \n",
            "1\n",
            "Digite um número \n",
            "1\n",
            "os números são iguais\n"
          ]
        }
      ]
    },
    {
      "cell_type": "code",
      "source": [
        "#Empréstimo bancário\n",
        "v = float(input(\"Qual o valor da casa?\"))\n",
        "s = float(input(\"Qual seu salário?\"))\n",
        "j = float(input(\"Quantos anos pretende pagar?\"))\n",
        "vz = j*12\n",
        "p = v/(j*12)\n",
        "if p>(0.3*s):\n",
        "  print(\"Salário incompatível com o empréstimo\")\n",
        "else:\n",
        "  print(\"As parcelas serão de {:.3f} parceladas em {}vezes\".format(p,vz))\n"
      ],
      "metadata": {
        "colab": {
          "base_uri": "https://localhost:8080/"
        },
        "id": "5WEn5tM9PkHs",
        "outputId": "76145d8d-8733-4191-878f-1d2d260cb615"
      },
      "execution_count": null,
      "outputs": [
        {
          "output_type": "stream",
          "name": "stdout",
          "text": [
            "Qual o valor da casa?150000\n",
            "Qual seu salário?5000\n",
            "Quantos anos pretende pagar?5\n",
            "Salário incompatível com o empréstimo\n"
          ]
        }
      ]
    },
    {
      "cell_type": "code",
      "source": [
        "#Triangulo\n",
        "print(\"Verificação da existência de um triângulo\")\n",
        "n1 = float(input(\"Digite o valor da 1° vértice\"))\n",
        "n2 = float(input(\"Digite o valor da 2° vértice\"))\n",
        "n3 = float(input(\"Digite o valor da 3° vértica\"))\n",
        "if (n1 + n2)>n3 and (n2 + n3)>n1 and (n3 + n1)>n2:\n",
        "  print(\"pode existir\")\n",
        "else:\n",
        "  print(\"Não é condição para a existência do triângulo\")"
      ],
      "metadata": {
        "colab": {
          "base_uri": "https://localhost:8080/"
        },
        "id": "pl1EufqLHqC8",
        "outputId": "06939385-7424-46e2-c09a-1180f87fad49"
      },
      "execution_count": null,
      "outputs": [
        {
          "output_type": "stream",
          "name": "stdout",
          "text": [
            "Verificação da existência de um triângulo\n",
            "Digite o valor da 1° vértice2\n",
            "Digite o valor da 2° vértice6\n",
            "Digite o valor da 3° vértica8\n",
            "Não é condição para a existência do triângulo\n"
          ]
        }
      ]
    },
    {
      "cell_type": "code",
      "source": [
        "#salário\n",
        "#salário > 1250 aumento 10%\n",
        "#salário < 1250 aumento 15%\n",
        "s = float(input(\"digite o salário do funcionário \\n\"))\n",
        "s1 = s*(1+0.1) #aumento de 10%\n",
        "s2 = s*(1+0.15) #aumento de 15%\n",
        "if s > 1250:\n",
        "  print(\"O salário ajustado é {:.2f}\". format(s1))\n",
        "else:\n",
        "  print(\"O salário ajustado é {:.2f}\".format(s2))"
      ],
      "metadata": {
        "colab": {
          "base_uri": "https://localhost:8080/"
        },
        "id": "FpAPyFJ9FnFT",
        "outputId": "e3678bae-a00d-40ad-9325-7b9c19c4aae1"
      },
      "execution_count": null,
      "outputs": [
        {
          "output_type": "stream",
          "name": "stdout",
          "text": [
            "digite o salário do funcionário \n",
            "1000\n",
            "O salário ajustado é 1150.00\n"
          ]
        }
      ]
    },
    {
      "cell_type": "code",
      "source": [
        "#maior número\n",
        "a = float(input(\"digite um número \\n\"))\n",
        "b = float(input(\"digite um número \\n\"))\n",
        "c = float(input(\"digite um número \\n\"))\n",
        "if a> b and a>c:\n",
        "  print(\" {} é o maiaor número digitado\".format(a))\n",
        "elif b> a and b>c:\n",
        "  print(\" {} é o maiaor número digitado\".format(b))\n",
        "elif c>a and c>b:\n",
        "  print(\"{} é o maior número digitado\".format(c))\n",
        "elif a==b and a==c and c==b:\n",
        "  print(\"Os números são iguais\")\n",
        "else:\n",
        "  print(\"valor inválido\")\n",
        "if a< b and a<c:\n",
        "  print(\" {} é o menor número digitado\".format(a))\n",
        "elif b< a and b<c:\n",
        "  print(\" {} é o menor número digitado\".format(b))\n",
        "elif c<a and c<b:\n",
        "  print(\"{} é o menor número digitado\".format(c))\n",
        "\n",
        "else:\n",
        "  print(\"valor inválido\")\n",
        "\n"
      ],
      "metadata": {
        "colab": {
          "base_uri": "https://localhost:8080/"
        },
        "id": "MoZ8oLhLCZx-",
        "outputId": "d2e892fd-4c9c-4960-f885-e6de88df428c"
      },
      "execution_count": null,
      "outputs": [
        {
          "output_type": "stream",
          "name": "stdout",
          "text": [
            "digite um número \n",
            "15\n",
            "digite um número \n",
            "10\n",
            "digite um número \n",
            "12\n",
            " 15.0 é o maiaor número digitado\n",
            " 10.0 é o menor número digitado\n"
          ]
        }
      ]
    },
    {
      "cell_type": "code",
      "source": [
        "#Passagem\n",
        "d = float(input(\"digite a distância\"))\n",
        "d1 = d*0.5\n",
        "d2 = d*0.45\n",
        "if d>200:\n",
        "  print(\"O valor da passagem será R${}\".format(d2))\n",
        "else:\n",
        "  print(\"O valor da passagem será R${}\".format(d1))"
      ],
      "metadata": {
        "colab": {
          "base_uri": "https://localhost:8080/"
        },
        "id": "Y1Hadt8IBjVs",
        "outputId": "f2954f15-68e8-4f62-c833-e8db2d5f3442"
      },
      "execution_count": null,
      "outputs": [
        {
          "output_type": "stream",
          "name": "stdout",
          "text": [
            "digite a distância201\n",
            "O valor da passagem será R$90.45\n"
          ]
        }
      ]
    },
    {
      "cell_type": "code",
      "source": [],
      "metadata": {
        "id": "W9rJzCzXCXm2"
      },
      "execution_count": null,
      "outputs": []
    },
    {
      "cell_type": "code",
      "source": [
        "# Par ou ímpar\n",
        "print(\"Verifica se é par ou ímpar\")\n",
        "n = int(input(\"insira um número inteiro\"))\n",
        "if n % 2 == 0:\n",
        "  print(\"número par\")\n",
        "else:\n",
        "  print(\"número ímpar\")"
      ],
      "metadata": {
        "colab": {
          "base_uri": "https://localhost:8080/"
        },
        "id": "dkGW_D3BAQtQ",
        "outputId": "63292560-c725-45cd-c317-4afbdc33c268"
      },
      "execution_count": null,
      "outputs": [
        {
          "output_type": "stream",
          "name": "stdout",
          "text": [
            "Verifica se é par ou ímpar\n",
            "insira um número inteiro15\n",
            "número ímpar\n"
          ]
        }
      ]
    },
    {
      "cell_type": "code",
      "source": [],
      "metadata": {
        "id": "9Hsf9lCVAPAH"
      },
      "execution_count": null,
      "outputs": []
    },
    {
      "cell_type": "code",
      "source": [
        "#Sorteador\n",
        "\n",
        "import random\n",
        "print(\"Tente acertar o número de 0 a 5\")\n",
        "n = int(input(\"Digite um número de 0 a 5 \\n\"))\n",
        "s = [0,1,2,3,4,5]\n",
        "s2 = random.choice(s)\n",
        "if n == s2:\n",
        "  print(\"Número correto\")\n",
        "else:\n",
        "  print(\"Tente novamente\")"
      ],
      "metadata": {
        "colab": {
          "base_uri": "https://localhost:8080/"
        },
        "id": "t5kWwD9hIzWn",
        "outputId": "9294272b-7e1e-40b4-b910-3d5739cec0a3"
      },
      "execution_count": null,
      "outputs": [
        {
          "output_type": "stream",
          "name": "stdout",
          "text": [
            "Tente acertar o número de 0 a 5\n",
            "Digite um número de 0 a 5 \n",
            "5\n",
            "Tente novamente\n"
          ]
        }
      ]
    },
    {
      "cell_type": "markdown",
      "source": [
        "# Nova seção"
      ],
      "metadata": {
        "id": "HWJfDHU3QItO"
      }
    },
    {
      "cell_type": "markdown",
      "source": [
        "# Nova seção"
      ],
      "metadata": {
        "id": "Mi8VyR0NxUsl"
      }
    },
    {
      "cell_type": "code",
      "source": [
        "#Calculo de multa\n",
        "v = float(input(\"Digite a velocidade\"))\n",
        "v2 = 70+((v-80)*7)\n",
        "if v > 80:\n",
        "  print(\"Você foi multado em R${}\".format(v2))\n",
        "else:\n",
        "  print(\"Velocidade permitida\")\n"
      ],
      "metadata": {
        "colab": {
          "base_uri": "https://localhost:8080/"
        },
        "id": "DxiS7S2wQ9K4",
        "outputId": "ccca803c-a5b4-4d21-e48e-55b44575fe0a"
      },
      "execution_count": null,
      "outputs": [
        {
          "output_type": "stream",
          "name": "stdout",
          "text": [
            "Digite a velocidade81\n",
            "Você foi multado em R$77.0\n"
          ]
        }
      ]
    },
    {
      "cell_type": "code",
      "source": [],
      "metadata": {
        "id": "WwW8QDPlP1Kf"
      },
      "execution_count": null,
      "outputs": []
    }
  ]
}