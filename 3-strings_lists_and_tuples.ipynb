{
 "cells": [
  {
   "cell_type": "markdown",
   "metadata": {},
   "source": [
    "# Strings, lists and tuples"
   ]
  },
  {
   "attachments": {},
   "cell_type": "markdown",
   "metadata": {},
   "source": [
    "## $ \\S 1 $ Strings<a name=\"strings\"></a>"
   ]
  },
  {
   "attachments": {},
   "cell_type": "markdown",
   "metadata": {},
   "source": [
    "### $ 1.1 $ Strings as sequences of characters\n",
    "A __string__ is a sequence of characters enclosed in either single `'` or double `\"` quotes. The type corresponding to strings is called `str`.\n",
    "\n",
    "__Example:__"
   ]
  },
  {
   "cell_type": "code",
   "execution_count": 16,
   "metadata": {},
   "outputs": [
    {
     "name": "stdout",
     "output_type": "stream",
     "text": [
      "Gandalf <class 'str'>\n",
      "Sauron <class 'str'>\n"
     ]
    }
   ],
   "source": [
    "g = \"Gandalf\"\n",
    "s = 'Sauron'\n",
    "print(g, type(g))   # Printing the string g and its type.\n",
    "print(s, type(s))   # Doing the same for the string s."
   ]
  },
  {
   "attachments": {},
   "cell_type": "markdown",
   "metadata": {},
   "source": [
    "📝 Unlike several other languages, Python does not have a special type for\n",
    "characters: a character is represented simply as a string of length 1."
   ]
  },
  {
   "cell_type": "code",
   "execution_count": 15,
   "metadata": {},
   "outputs": [
    {
     "name": "stdout",
     "output_type": "stream",
     "text": [
      "a <class 'str'>\n"
     ]
    }
   ],
   "source": [
    "letter = 'a'\n",
    "print(letter, type(letter))    # Note that letter is of type str."
   ]
  },
  {
   "attachments": {},
   "cell_type": "markdown",
   "metadata": {},
   "source": [
    "To get the $ i $-th character of a string called, say, $ s $, use `s[i]`; the output is also string (albeit one having only $ 1 $ character).\n",
    "\n",
    "<div class=\"alert alert-warning\">In Python, indices are <i>always</i> counted starting from <b> $ 0 $  (zero)</b>, not $ 1 $. To avoid confusion, we adapt our terminology accordingly to speak of, e.g., 'm' as the <i>0-th</i> character of the string 'magic', 'a' as its first character, and so on... In particular, if a string has length $ n $ (i.e., if it consists of $ n $ characters), then its last index is $ n - 1 $, not $ n $. </div>\n",
    "\n",
    "__Example:__"
   ]
  },
  {
   "cell_type": "code",
   "execution_count": 17,
   "metadata": {},
   "outputs": [
    {
     "name": "stdout",
     "output_type": "stream",
     "text": [
      "G <class 'str'>\n",
      "d <class 'str'>\n",
      "n\n"
     ]
    }
   ],
   "source": [
    "g = \"Gandalf\"\n",
    "s = \"Sauron\"\n",
    "\n",
    "print(g[0], type(g[0]))\n",
    "print(g[3], type(g[3]))\n",
    "\n",
    "# Since s contains 6 letters, the last one is indexed by 5:\n",
    "print(s[5])"
   ]
  },
  {
   "attachments": {},
   "cell_type": "markdown",
   "metadata": {},
   "source": [
    "By prefixing an index with a minus sign $ - $, we start counting to the 'left'\n",
    "from the 0-th character. For example, `s[-1]` is the _last_ character of $ s $,\n",
    "`s[-2]` its _next-to-last_ character, and so on.\n",
    "\n",
    "📝 If we want to create a string that has a single quote as one of its\n",
    "characters, we should enclose it in double quotes, and vice-versa."
   ]
  },
  {
   "cell_type": "code",
   "execution_count": 1,
   "metadata": {},
   "outputs": [
    {
     "name": "stdout",
     "output_type": "stream",
     "text": [
      "'\n",
      "!\n"
     ]
    }
   ],
   "source": [
    "explosion = \"'BOOM!'\"\n",
    "last = explosion[-1]\n",
    "print(last)\n",
    "\n",
    "next_to_last = explosion[-2]\n",
    "print(next_to_last)"
   ]
  },
  {
   "attachments": {},
   "cell_type": "markdown",
   "metadata": {},
   "source": [
    "### $ 1.2 $ Operations on strings\n",
    "\n",
    "Strings can be __concatenated__ using the binary operator __+__.\n",
    "\n",
    "__Example:__"
   ]
  },
  {
   "cell_type": "code",
   "execution_count": 19,
   "metadata": {},
   "outputs": [
    {
     "name": "stdout",
     "output_type": "stream",
     "text": [
      "ancientmagic\n",
      "ancient magic spells\n"
     ]
    }
   ],
   "source": [
    "string_1 = \"ancient\"\n",
    "string_2 = \"magic\"\n",
    "string_3 = \"spells\"\n",
    "\n",
    "print(string_1 + string_2)\n",
    "print(string_1 + \" \" + string_2 + \" \" + string_3)"
   ]
  },
  {
   "attachments": {},
   "cell_type": "markdown",
   "metadata": {},
   "source": [
    "__Exercise:__ Suppose that the statements `a = \"hello\"` and `b = 'world'` have\n",
    "just been run through the interpreter. Determine the output of each of the\n",
    "following statements:\n",
    "\n",
    "(a) `a + a`\n",
    "\n",
    "(b) `b + \" \" + a`\n",
    "\n",
    "(c) `a * 3`\n",
    "\n",
    "(d) `2 * b`\n",
    "\n",
    "(e) `(-1) * a`\n",
    "\n",
    "(f) `1 + \"1\"`\n",
    "\n",
    "(g) `a * b`\n",
    "\n",
    "(h) `a - a`\n",
    "\n",
    "(i) `0 == '0'`\n",
    "\n",
    "(j) `True == \"True\"`"
   ]
  },
  {
   "cell_type": "code",
   "execution_count": null,
   "metadata": {},
   "outputs": [],
   "source": []
  },
  {
   "attachments": {},
   "cell_type": "markdown",
   "metadata": {},
   "source": [
    "📝 In analogy with the interpretation of `+` as concatenation of strings, if one\n",
    "uses `*` to \"multiply\" a string by a positive integer $ n $, then the result is\n",
    "a new string which consists of $ n $ copies of the original string, concatenated\n",
    "one after another. The remaining arithmetic operators (`-`, `/`, `//` and `%`)\n",
    "cannot be applied to strings."
   ]
  },
  {
   "attachments": {},
   "cell_type": "markdown",
   "metadata": {},
   "source": [
    "The function `len` applied to a string returns its **length**, i.e., the number of characters it contains, which is always a non-negative integer.\n",
    "\n",
    "__Example:__"
   ]
  },
  {
   "cell_type": "code",
   "execution_count": 34,
   "metadata": {},
   "outputs": [
    {
     "name": "stdout",
     "output_type": "stream",
     "text": [
      "4 <class 'int'>\n",
      "12 <class 'int'>\n",
      "fourfour 8\n",
      "fourPolysyllabic 16\n"
     ]
    }
   ],
   "source": [
    "f = \"four\"\n",
    "p = \"Polysyllabic\"\n",
    "print(len(f), type(len(f)))\n",
    "print(len(p), type(len(p)))\n",
    "\n",
    "print(2 * f, len(2 * f))\n",
    "print(f + p, len(f + p))"
   ]
  },
  {
   "cell_type": "code",
   "execution_count": 6,
   "metadata": {},
   "outputs": [
    {
     "data": {
      "text/plain": [
       "3"
      ]
     },
     "execution_count": 6,
     "metadata": {},
     "output_type": "execute_result"
    }
   ],
   "source": [
    "# The empty string is the only string having length 0:\n",
    "len(\"\")\n",
    "\n",
    "# Note that whitespaces also count as valid characters:\n",
    "len(\"   \")    # <--- Contains three spaces.\n"
   ]
  },
  {
   "cell_type": "markdown",
   "metadata": {},
   "source": [
    "🚫 A string is an __immutable__ object, meaning that its individual characters _cannot_ be modified during the program. Trying to do so will make the interpreter throw a `TypeError`."
   ]
  },
  {
   "cell_type": "code",
   "execution_count": 35,
   "metadata": {},
   "outputs": [
    {
     "ename": "TypeError",
     "evalue": "'str' object does not support item assignment",
     "output_type": "error",
     "traceback": [
      "\u001b[0;31m---------------------------------------------------------------------------\u001b[0m",
      "\u001b[0;31mTypeError\u001b[0m                                 Traceback (most recent call last)",
      "Cell \u001b[0;32mIn[35], line 3\u001b[0m\n\u001b[1;32m      1\u001b[0m g \u001b[39m=\u001b[39m \u001b[39m\"\u001b[39m\u001b[39mGandalf\u001b[39m\u001b[39m\"\u001b[39m\n\u001b[1;32m      2\u001b[0m \u001b[39m# Let's try to modify the first string of g to see what happens:\u001b[39;00m\n\u001b[0;32m----> 3\u001b[0m g[\u001b[39m0\u001b[39;49m] \u001b[39m=\u001b[39m \u001b[39m'\u001b[39m\u001b[39mR\u001b[39m\u001b[39m'\u001b[39m\n",
      "\u001b[0;31mTypeError\u001b[0m: 'str' object does not support item assignment"
     ]
    }
   ],
   "source": [
    "g = \"Gandalf\"\n",
    "# Let's try to modify the first string of g to see what happens:\n",
    "g[0] = 'R'"
   ]
  },
  {
   "attachments": {},
   "cell_type": "markdown",
   "metadata": {},
   "source": [
    "The __colon operator `:`__, as in `[i:j]`, is used to __slice__ a string from\n",
    "its $ i $-th character (inclusive) to its $ j $-th character (exclusive).\n",
    "This operation does not modify the string (after all, strings are immutable);\n",
    "rather, it creates a new string which consists of the characters having index\n",
    "ranging from $ i $ up to and including $ j - 1 $.\n",
    "\n",
    "__Example:__"
   ]
  },
  {
   "cell_type": "code",
   "execution_count": 2,
   "metadata": {},
   "outputs": [
    {
     "name": "stdout",
     "output_type": "stream",
     "text": [
      "ma <class 'str'>\n",
      "gic <class 'str'>\n",
      "magic\n"
     ]
    }
   ],
   "source": [
    "string = 'magic'\n",
    "\n",
    "# Slice from the 0th character to the 2nd (not including the 2nd):\n",
    "init = string[0:2]\n",
    "print(init, type(init))\n",
    "# Slice from the 2nd character to the 5th (not including the 5th):\n",
    "final = string[2:5]   \n",
    "print(final, type(final))\n",
    "\n",
    "print(init + final)"
   ]
  },
  {
   "attachments": {},
   "cell_type": "markdown",
   "metadata": {},
   "source": [
    "Omitting the first index in a slice has the same effect slicing from the\n",
    "beginning.  Similarly, if we omit the second index, then the string will be\n",
    "sliced until the end."
   ]
  },
  {
   "cell_type": "code",
   "execution_count": 37,
   "metadata": {},
   "outputs": [
    {
     "name": "stdout",
     "output_type": "stream",
     "text": [
      "auto\n",
      "maton\n"
     ]
    }
   ],
   "source": [
    "word = 'automaton'\n",
    "print(word[:4])\n",
    "print(word[4:])"
   ]
  },
  {
   "cell_type": "code",
   "execution_count": null,
   "metadata": {},
   "outputs": [],
   "source": []
  },
  {
   "attachments": {},
   "cell_type": "markdown",
   "metadata": {},
   "source": [
    "One frequently has a need to make an independent copy of a string. To achieve\n",
    "this, a _full slice_ `[:]` can be used.\n",
    "\n",
    "__Example:__"
   ]
  },
  {
   "cell_type": "code",
   "execution_count": 4,
   "metadata": {},
   "outputs": [
    {
     "name": "stdout",
     "output_type": "stream",
     "text": [
      "magic potion\n"
     ]
    }
   ],
   "source": [
    "string_1 = 'potion'\n",
    "\n",
    "# Omit both indices in the slice to create a copy of the original string:\n",
    "string_2 = string_1[:]    \n",
    "\n",
    "string_1 = 'magic'\n",
    "print(string_1, string_2)"
   ]
  },
  {
   "attachments": {},
   "cell_type": "markdown",
   "metadata": {},
   "source": [
    "__Exercise:__ Let $ s $ be a variable whose value is a string. True or False? Explain.\n",
    "\n",
    "(a) `s[:] == s[0:]`\n",
    "\n",
    "(b) `s[:] == s[0:len(s)]`\n",
    "\n",
    "(c) `s[:] == s[0:-1]`\n"
   ]
  },
  {
   "cell_type": "code",
   "execution_count": null,
   "metadata": {},
   "outputs": [],
   "source": []
  },
  {
   "attachments": {},
   "cell_type": "markdown",
   "metadata": {},
   "source": [
    "The slice operation also admits a third argument, which specifies the\n",
    "__step size__ in the slicing operation. The syntax of a slice whice makes use of\n",
    "all three arguments is thus:\n",
    "`[<start index (inclusive)>:<stop index (exclusive)>: <step size>]`. If omitted,\n",
    "the step size is set to $ 1 $ by default. Step sizes can also be negative, which\n",
    "causes the string to be sliced in the right-to-left direction.\n",
    "\n",
    "__Example:__"
   ]
  },
  {
   "cell_type": "code",
   "execution_count": 8,
   "metadata": {},
   "outputs": [
    {
     "name": "stdout",
     "output_type": "stream",
     "text": [
      "magic\n",
      "magic\n",
      "mgc\n",
      "ai\n",
      "cigam\n"
     ]
    }
   ],
   "source": [
    "s = \"magic\"\n",
    "print(s[::])    # Full slice, step size set to 1 by default.\n",
    "print(s[::1])   # Full slice, explicit step size of 1.\n",
    "print(s[::2])   # Slice consisting of even-indexed characters.\n",
    "print(s[1::2])  # Slice consisting of odd-indexed characters.\n",
    "print(s[::-1])  # Slice which amounts to the reverse of the string."
   ]
  },
  {
   "attachments": {},
   "cell_type": "markdown",
   "metadata": {},
   "source": [
    "📝 As above, to create a copy of string $ s $ with its characters reversed, we use `s[::-1]`."
   ]
  },
  {
   "attachments": {},
   "cell_type": "markdown",
   "metadata": {},
   "source": [
    "__Exercise:__ Suppose that $ p $ is the name of a variable whose value is the string \"racecar\". What is the output of the following statements?\n",
    "\n",
    "(a) `p[::-1]`\n",
    "\n",
    "(b) `p[0::2]`\n",
    "\n",
    "(c) `p[::2]`\n",
    "\n",
    "(d) `p[1::4]`\n",
    "\n",
    "(e) `p[2:4:2]`\n",
    "\n",
    "(f) `p[2:5:2]`\n",
    "\n",
    "(g) `p[2:6:2]`\n",
    "\n",
    "(h) `p[2:7:2]`\n",
    "\n",
    "(i) `p[4:0:-1]`\n",
    "\n",
    "(j) `p[4::-2]`\n",
    "\n",
    "(k) `p[1::-1]`"
   ]
  },
  {
   "cell_type": "code",
   "execution_count": null,
   "metadata": {},
   "outputs": [],
   "source": []
  },
  {
   "attachments": {},
   "cell_type": "markdown",
   "metadata": {},
   "source": [
    "### $ 1.3 $ Comparing strings\n",
    "\n",
    "All of the comparison operators introduced in the previous notebook work for\n",
    "strings as well. Strings are ordered according to the __lexicographic__ (or __dictionary__) __order__.\n",
    "Therefore:\n",
    "\n",
    "* The operators `==` and `!=` tell whether two given strings have the\n",
    "  same value or not, i.e., if they consist of exactly the same characters in the\n",
    "  same order (this includes distinguishing uppercase from lowercase letters).\n",
    "* When applied to two strings $ a $ and $ b $, `a < b` returns `True` if and\n",
    "  only if $ a $ comes before $ b $ in the dictionary order. Similarly for\n",
    "  `<=`, `>` and `>=`.\n",
    "\n",
    "__Exercise:__ Let $ a,\\,b,\\,q,\\,r $ be as defined in the code cell below.\n",
    "Determine the value of:\n",
    "\n",
    "(a) `a < b`\n",
    "\n",
    "(b) `b < q `\n",
    "\n",
    "(c) `a == a`\n",
    "\n",
    "(d) `a != b`\n",
    "\n",
    "(e) `q >= r`\n",
    "\n",
    "(f) `b < a < q < r`"
   ]
  },
  {
   "cell_type": "code",
   "execution_count": 7,
   "metadata": {},
   "outputs": [],
   "source": [
    "a = \"potion\"\n",
    "b = \"portion\"\n",
    "q = \"quarterstaff\"  \n",
    "r = \"robe\""
   ]
  },
  {
   "attachments": {},
   "cell_type": "markdown",
   "metadata": {},
   "source": [
    "## $ \\S 2 $ Lists"
   ]
  },
  {
   "attachments": {},
   "cell_type": "markdown",
   "metadata": {},
   "source": [
    "### $ 2.1 $ The `list` type\n",
    "\n",
    "A __list__ (that is, an object of type `list`) consists of zero, one or several\n",
    "objects ordered in sequence. The types of different elements of a list do not\n",
    "have to coincide. For example, one can create lists which contain integers,\n",
    "floats and strings; or lists whose elements can be either complex numbers or\n",
    "functions.\n",
    "\n",
    "In short, the items of a list are allowed to be of _any_ type. In particular,\n",
    "lists in Python have the important property of __closure__: one is allowed to\n",
    "make lists of lists, or lists of lists of lists, etc.\n",
    "\n",
    "A list is represented using _brackets_ `[]`, with its elements separated by commas. The function `len` can be used to count the number of items contained in a list.\n",
    "\n",
    "__Example:__"
   ]
  },
  {
   "cell_type": "code",
   "execution_count": null,
   "metadata": {},
   "outputs": [
    {
     "name": "stdout",
     "output_type": "stream",
     "text": [
      "4\n",
      "0\n",
      "['acai', 'apple', 'apricot', 'avocado', 'Delfador']\n"
     ]
    }
   ],
   "source": [
    "fruits = [\"acai\", 'apple', \"apricot\", 'avocado']\n",
    "# The elements of a list can be of different types:\n",
    "numbers = [0, 'eight', -53, 12.34, (3 + 4j)]\n",
    "\n",
    "empty = []                  # This is an empty list.\n",
    "mages = ['Delfador']        # This list has a single element.\n",
    "\n",
    "print(len(fruits))          # Use 'len' to get the length of a list.\n",
    "print(len(empty))\n",
    "\n",
    "new_list = fruits + mages   # We can concatenate two lists using '+'.\n",
    "print(new_list)"
   ]
  },
  {
   "attachments": {},
   "cell_type": "markdown",
   "metadata": {},
   "source": [
    "Just like strings, lists can be __concatenated__ with the `+` operator,\n",
    "__repeated__ by \"multiplication\" with a positive integers using `*` and\n",
    "__sliced__ with the `:` operator. Note that none of these operations\n",
    "_modifies_ the original list; instead, they create a new list.\n",
    "\n",
    "\n",
    "__Exercises:__ Let _movies_ be the list in the code cell below. Determine the output of the following statements:\n",
    "\n",
    "(a) `movies * 2`\n",
    "\n",
    "(b) `movies + [\"Paths of Glory\", \"Modern Times\"]`\n",
    "\n",
    "(c) `[\"Star Wars\", \"The Third Man\"] + movies`\n",
    "\n",
    "(d) `movies[:2]`\n",
    "\n",
    "(e) `movies[::-1]`\n",
    "\n",
    "(f) `movies + []`\n",
    "\n",
    "(g) `movies + \"error\"`"
   ]
  },
  {
   "cell_type": "code",
   "execution_count": null,
   "metadata": {},
   "outputs": [],
   "source": [
    "movies = [\"Gone with the Wind\",\n",
    "         \"Interstellar\",\n",
    "         \"E.T.\",\n",
    "         \"It's a Wonderful Life\",\n",
    "         \"Rain Man\",\n",
    "         \"Rambo\"]"
   ]
  },
  {
   "attachments": {},
   "cell_type": "markdown",
   "metadata": {},
   "source": [
    "### $ 2.2 $ Modifying lists\n",
    "\n",
    "In contrast to strings, lists are __mutable__ objects, meaning that their individual elements can be modified by assignments.\n",
    "\n",
    "__Exercise:__ Again, let _movies_ be as in the next code cell. What is the output of each the statements below, when they are run through the interpreter in sequence?\n",
    "\n",
    "(a) `movies[1] = \"Forrest Gump\"`\n",
    "\n",
    "(b) `movies[2:4] = [\"Modern Times\", \"Paths of Glory\"]`\n",
    "\n",
    "(c) `movies[-1] = \"Bicycle Thieves\"`\n",
    "\n",
    "(d) `movies += \"Das Leben der Anderen\"`\n"
   ]
  },
  {
   "cell_type": "code",
   "execution_count": 9,
   "metadata": {},
   "outputs": [],
   "source": [
    "movies = [\"Gone with the Wind\",\n",
    "         \"Interstellar\",\n",
    "         \"E.T.\",\n",
    "         \"It's a Wonderful Life\",\n",
    "         \"Rain Man\",\n",
    "         \"Rambo\"]"
   ]
  },
  {
   "attachments": {},
   "cell_type": "markdown",
   "metadata": {},
   "source": [
    "⚠️ In order to _assign_ an element at the $ k $-th index of a list, the list\n",
    "must have items associated with every index between $ 0 $ and $ k - 1 $. Trying\n",
    "to modify or access in any way the element having index $ k $ in a list which\n",
    "currently does not have such an element generates an `IndexError`.\n",
    "\n",
    "__Example:__"
   ]
  },
  {
   "cell_type": "code",
   "execution_count": 10,
   "metadata": {},
   "outputs": [
    {
     "ename": "IndexError",
     "evalue": "list assignment index out of range",
     "output_type": "error",
     "traceback": [
      "\u001b[0;31m---------------------------------------------------------------------------\u001b[0m",
      "\u001b[0;31mIndexError\u001b[0m                                Traceback (most recent call last)",
      "Cell \u001b[0;32mIn[10], line 2\u001b[0m\n\u001b[1;32m      1\u001b[0m drinks \u001b[39m=\u001b[39m [\u001b[39m\"\u001b[39m\u001b[39mcoffee\u001b[39m\u001b[39m\"\u001b[39m, \u001b[39m\"\u001b[39m\u001b[39mtea\u001b[39m\u001b[39m\"\u001b[39m, \u001b[39m\"\u001b[39m\u001b[39mwater\u001b[39m\u001b[39m\"\u001b[39m]\n\u001b[0;32m----> 2\u001b[0m drinks[\u001b[39m3\u001b[39;49m] \u001b[39m=\u001b[39m \u001b[39m\"\u001b[39m\u001b[39morange juice\u001b[39m\u001b[39m\"\u001b[39m\n",
      "\u001b[0;31mIndexError\u001b[0m: list assignment index out of range"
     ]
    }
   ],
   "source": [
    "drinks = [\"coffee\", \"tea\", \"water\"]\n",
    "drinks[3] = \"orange juice\""
   ]
  },
  {
   "attachments": {},
   "cell_type": "markdown",
   "metadata": {},
   "source": [
    "### $ 2.3 $ Some methods defined on lists\n",
    "\n",
    "Lists also support several useful methods (a __method__ is a function associated\n",
    "with a specific class or type). Here are examples of how some of them are used.\n",
    "\n",
    "__Example:__"
   ]
  },
  {
   "cell_type": "code",
   "execution_count": 23,
   "metadata": {},
   "outputs": [
    {
     "name": "stdout",
     "output_type": "stream",
     "text": [
      "['avocado', 'apricot', 'acai', 'apple', 'apple']\n"
     ]
    }
   ],
   "source": [
    "fruits = [\"avocado\", 'apricot', \"acai\", 'apple']\n",
    "\n",
    "fruits.append('apple')             # Append an element to the end of a list.\n",
    "print(fruits)"
   ]
  },
  {
   "cell_type": "code",
   "execution_count": 24,
   "metadata": {},
   "outputs": [
    {
     "name": "stdout",
     "output_type": "stream",
     "text": [
      "['strawberry', 'avocado', 'apricot', 'acai', 'apple', 'apple']\n"
     ]
    }
   ],
   "source": [
    "fruits.insert(0, \"strawberry\")     # Insert an element having a specified index.\n",
    "print(fruits)"
   ]
  },
  {
   "cell_type": "code",
   "execution_count": 25,
   "metadata": {},
   "outputs": [
    {
     "name": "stdout",
     "output_type": "stream",
     "text": [
      "['strawberry', 'avocado', 'apricot', 'acai', 'apple']\n"
     ]
    }
   ],
   "source": [
    "fruits.remove('apple')   # Remove the _first occurrence_ of an element.\n",
    "print(fruits)\n"
   ]
  },
  {
   "cell_type": "code",
   "execution_count": 26,
   "metadata": {},
   "outputs": [
    {
     "name": "stdout",
     "output_type": "stream",
     "text": [
      "['acai', 'apple', 'apricot', 'avocado', 'strawberry']\n"
     ]
    }
   ],
   "source": [
    "fruits.sort()            # Sort the list.\n",
    "print(fruits)"
   ]
  },
  {
   "cell_type": "code",
   "execution_count": 27,
   "metadata": {},
   "outputs": [
    {
     "name": "stdout",
     "output_type": "stream",
     "text": [
      "['acai', 'apple', 'avocado', 'strawberry']\n",
      "['acai', 'apple', 'avocado']\n"
     ]
    },
    {
     "data": {
      "text/plain": [
       "('apricot', 'strawberry')"
      ]
     },
     "execution_count": 27,
     "metadata": {},
     "output_type": "execute_result"
    }
   ],
   "source": [
    "a = fruits.pop(2)                # Remove the element having the specified index\n",
    "print(fruits)                    # and return it as output. \n",
    "\n",
    "b = fruits.pop()                 # Use 'pop' without any arguments to remove the\n",
    "print(fruits)                    # last item of a list and return it as output.\n",
    "\n",
    "a, b"
   ]
  },
  {
   "attachments": {},
   "cell_type": "markdown",
   "metadata": {},
   "source": [
    "Note that, in each case, the name of the list appears before the method, and is\n",
    "separated from it by a period `.`; more formally:\n",
    "\n",
    "* `append(x)` can be used to append an element $ x $ to the _end_ of a list.\n",
    "* `insert(i, x)` is used to insert an element $ x $ at the $ i $-th index of a\n",
    "  list. Elements having indices $ < i $ remain in their original position, while\n",
    "  those having indices $ \\ge i $ are shifted one position to the right.\n",
    "* `remove(x)` is used to remove the *first occurrence* of an item $ x $ of a\n",
    "  list. If the list does not contain any instances of this element, then the\n",
    "  interpreter throws a `TypeError`.\n",
    "* `sort()` is used to __sort__ the elements of a list _lst_ in ascending\n",
    "  order, provided this makes sense.\n",
    "* `pop(i)` removes the item of the list at index $ i $.\n",
    "* `index(x)` returns the index of the first element in the list whose value is\n",
    "  the same as that of $ x $.\n",
    "\n",
    "📝 The first four of these methods _modify_ the list in-place as described, and\n",
    "they return `None` as output. However, `pop` removes the specified element and\n",
    "returns it popped element as output. Similarly, `index` does not modify the list,\n",
    "but returns the index as output.\n",
    "\n",
    "__Exercise:__ Let _countries_ be the list in the code cell below. Describe\n",
    "_countries_ after each of the following statements is run in sequence through\n",
    "the interpreter.\n",
    "\n",
    "(a) `countries.insert(0, \"Germany\")`\n",
    "\n",
    "(b) `countries + [\"Germany\"]`\n",
    "\n",
    "(c) `countries.remove(\"Germany\")`\n",
    "\n",
    "(d) `countries.sort()`\n",
    "\n",
    "(e) `countries.index(\"Bolivia\")`"
   ]
  },
  {
   "cell_type": "code",
   "execution_count": null,
   "metadata": {},
   "outputs": [
    {
     "name": "stdout",
     "output_type": "stream",
     "text": [
      "None\n",
      "None\n",
      "['acai', 'avocado', 'banana', 'strawberry']\n"
     ]
    }
   ],
   "source": [
    "countries = [\"Austria\",\n",
    "             \"Egypt\",\n",
    "             \"Bolivia\",\n",
    "             \"Denmark\",\n",
    "             \"China\",\n",
    "             \"Finland\"]\n",
    "\n",
    "b = fruits.sort()\n",
    "print(b)\n",
    "print(fruits)"
   ]
  },
  {
   "attachments": {},
   "cell_type": "markdown",
   "metadata": {},
   "source": [
    "<div class=\"alert alert-warning\">If $ x $ stores a <i>mutable</i> object, then the assignment <code>y = x</code> does not result in a new <i>object</i> named $ y $; instead, this just makes $ y $ a new pointer to the object stored by $ x $. Because of this, any modification of the value of $ x $ will affect $ y $, and vice-versa.</div>\n",
    "\n",
    "__Example:__"
   ]
  },
  {
   "cell_type": "code",
   "execution_count": null,
   "metadata": {},
   "outputs": [
    {
     "data": {
      "text/plain": [
       "[0, 1]"
      ]
     },
     "metadata": {},
     "output_type": "display_data"
    }
   ],
   "source": [
    "x = [0, 1, 2]\n",
    "y = x\n",
    "\n",
    "x.pop()         # Popping an element from x also affects y,\n",
    "y               # since they refer to the same object!"
   ]
  },
  {
   "cell_type": "code",
   "execution_count": null,
   "metadata": {},
   "outputs": [
    {
     "data": {
      "text/plain": [
       "[0, 1, 2]"
      ]
     },
     "metadata": {},
     "output_type": "display_data"
    }
   ],
   "source": [
    "x = [0, 1, 2]    # To create an independent copy of x, use a complete slice:\n",
    "y = x[:]\n",
    "\n",
    "x.pop()\n",
    "y                # y has not been affected by the modification of x."
   ]
  },
  {
   "attachments": {},
   "cell_type": "markdown",
   "metadata": {},
   "source": [
    "## $ \\S 3 $ Tuples\n",
    "\n",
    "### $ 3.1 $ The `tuple` type\n",
    "\n",
    "Another sequential data type is `tuple`, the type of __tuples__. Like a list, a tuple is a sequence of non-negative length of objects of arbitrary types, separated by commas. However, tuples are enclosed by _parentheses_ `()` instead of brackets. Also, tuples are __immutable__ (like strings), so that their individual elements _cannot_ be modified.\n",
    "\n",
    "### $ 3.2 $ Operations on tuples\n",
    "\n",
    "As for the other sequential types that we have considered (strings and lists), tuples can be concatenated with `+`, their length can be retrieved using `len`, and their elements and slices can be accessed using `[]` and the `:` operator.\n",
    "\n",
    "__Example:__"
   ]
  },
  {
   "cell_type": "code",
   "execution_count": null,
   "metadata": {},
   "outputs": [
    {
     "name": "stdout",
     "output_type": "stream",
     "text": [
      "<class 'tuple'>\n",
      "Albert\n",
      "chemist\n",
      "England\n"
     ]
    }
   ],
   "source": [
    "# Each of the following tuples records some data about famous scientists:\n",
    "record_1 = ('Albert', 'Einstein', 'physicist', 26, 'Germany')\n",
    "record_2 = ('Marie', 'Curie', 'chemist', 32, 'Poland')\n",
    "record_3 = ('Charles', 'Darwin', 'biologist', 50, 'England')\n",
    "\n",
    "# Each of them is indeed of type 'tuple':\n",
    "print(type(record_1))\n",
    "\n",
    "# Accessing individual elements:\n",
    "print(record_1[0])\n",
    "print(record_2[2])\n",
    "print(record_3[-1])"
   ]
  },
  {
   "cell_type": "code",
   "execution_count": null,
   "metadata": {},
   "outputs": [
    {
     "name": "stdout",
     "output_type": "stream",
     "text": [
      "('Albert', 'Einstein')\n"
     ]
    }
   ],
   "source": [
    "# Slicing:\n",
    "full_name = record_1[:2]\n",
    "print(full_name)"
   ]
  },
  {
   "cell_type": "code",
   "execution_count": null,
   "metadata": {},
   "outputs": [
    {
     "name": "stdout",
     "output_type": "stream",
     "text": [
      "['Albert', 'Einstein', 'physicist', 26, 'Germany'] <class 'list'>\n",
      "('Plato', 'Aristotle', 'Seneca', 'Socrates') <class 'tuple'>\n"
     ]
    }
   ],
   "source": [
    "# To convert a tuple to a list, use 'list' as a function:\n",
    "data = list(record_1)\n",
    "print(data, type(data))\n",
    "\n",
    "# Similarly, to convert a list to a tuple, use 'tuple' as a function:\n",
    "philosophers = [\"Plato\", \"Aristotle\", \"Seneca\", \"Socrates\"]\n",
    "tuple_of_philosophers = tuple(philosophers)\n",
    "print(tuple_of_philosophers, type(tuple_of_philosophers))"
   ]
  },
  {
   "attachments": {},
   "cell_type": "markdown",
   "metadata": {},
   "source": [
    "### $ 3.3 $ Some warnings"
   ]
  },
  {
   "cell_type": "markdown",
   "metadata": {},
   "source": [
    "⚠️ To define a tuple consisting of a single item, a comma must still be used, so that the tuple can be disambiguated from an expression surrounded by parentheses:"
   ]
  },
  {
   "cell_type": "code",
   "execution_count": null,
   "metadata": {},
   "outputs": [
    {
     "name": "stdout",
     "output_type": "stream",
     "text": [
      "('Sindarin',) <class 'tuple'>\n",
      "Sindarin <class 'str'>\n"
     ]
    }
   ],
   "source": [
    "language = ('Sindarin', )         # To define a tuple, we must include a comma!\n",
    "print(language, type(language))\n",
    "\n",
    "lang = ('Sindarin')               # This is not a tuple, but rather a string;\n",
    "print(lang, type(lang))           # the parentheses play no role in this case.\n"
   ]
  },
  {
   "cell_type": "markdown",
   "metadata": {},
   "source": [
    "🚫 Since a tuple is _immutable_, an attempt to modify one or more of its elements results in a `TypeError`:"
   ]
  },
  {
   "cell_type": "code",
   "execution_count": null,
   "metadata": {},
   "outputs": [
    {
     "ename": "TypeError",
     "evalue": "'tuple' object does not support item assignment",
     "output_type": "error",
     "traceback": [
      "\u001b[0;31m---------------------------------------------------------------------------\u001b[0m\n",
      "\u001b[0;31mTypeError\u001b[0m                                 Traceback (most recent call last)\n",
      "Input \u001b[0;32mIn [50]\u001b[0m, in \u001b[0;36m<cell line: 2>\u001b[0;34m()\u001b[0m\n",
      "\u001b[1;32m      1\u001b[0m coordinates \u001b[38;5;241m=\u001b[39m (\u001b[38;5;241m1.234\u001b[39m, \u001b[38;5;241m5.678\u001b[39m)\n",
      "\u001b[0;32m----> 2\u001b[0m coordinates[\u001b[38;5;241m0\u001b[39m] \u001b[38;5;241m=\u001b[39m \u001b[38;5;241m0.123\u001b[39m\n",
      "\n",
      "\u001b[0;31mTypeError\u001b[0m: 'tuple' object does not support item assignment"
     ]
    }
   ],
   "source": [
    "coordinates = (1.234, 5.678)\n",
    "coordinates[0] = 0.123"
   ]
  },
  {
   "cell_type": "markdown",
   "metadata": {},
   "source": [
    "⚠️ We emphasize that even if $ x $ and $ y $ are two tuples or lists of the same length and whose items are  of the same numerical type, `x + y` is *not* obtained by summing their respective elements; it is instead the *concatenation* of $ x $ and $ y $. Similarly, if $ a $ is a scalar, then `a * x` is *not* obtained by multiplying each item of $ x $ by $ a $, even if $ a $ is an integer."
   ]
  },
  {
   "cell_type": "markdown",
   "metadata": {},
   "source": [
    "<div class=\"alert alert-warning\">Neither lists nor tuples are adequate data structures to represent <b>vectors</b> (in the sense of linear algebra). The most adequate type for this task is an <b>array</b> (type: <code>array</code>, provided by the <a href=\"https://scipy.github.io/old-wiki/pages/Numpy_Example_List.html\"><b>NumPy</b></a> module), which we will consider later.</div>"
   ]
  },
  {
   "cell_type": "markdown",
   "metadata": {},
   "source": [
    "📝 **Question:** Do we really need both lists and tuples? \n",
    "\n",
    "*Answer:* No, strictly speaking we could always get by using only one of them. However, the versatility has many advantages.\n",
    "\n",
    "📝 **Question:** What is the difference between lists and tuples?\n",
    "\n",
    "*Answer:* The main difference is that lists are _mutable_ while tuples are _immutable_. In particular:\n",
    "* We cannot modify the value of individual elements of a tuple as we can with lists.\n",
    "* We cannot remove or add elements to a tuple. Tuples have no methods equivalent to `append`, `pop`, `insert`, `remove`, etc.. In particular, tuples have a fixed length. Even though it is possible to assign a tuple to a variable and then assign another tuple of different length to the same variable, this is not the same operation as modifying the original tuple.\n",
    "* Tuples are generally a bit 'faster' than lists.\n",
    "* Because tuples are immutable, they offer a better choice when storing information which should be protected from modification to avoid unforeseen behavior.\n",
    "\n"
   ]
  },
  {
   "cell_type": "code",
   "execution_count": null,
   "metadata": {},
   "outputs": [],
   "source": []
  }
 ],
 "metadata": {
  "kernelspec": {
   "display_name": "Python 3",
   "language": "python",
   "name": "python3"
  },
  "language_info": {
   "codemirror_mode": {
    "name": "ipython",
    "version": 3
   },
   "file_extension": ".py",
   "mimetype": "text/x-python",
   "name": "python",
   "nbconvert_exporter": "python",
   "pygments_lexer": "ipython3",
   "version": "3.10.10"
  },
  "orig_nbformat": 4
 },
 "nbformat": 4,
 "nbformat_minor": 2
}
