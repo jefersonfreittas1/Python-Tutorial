{
 "cells": [
  {
   "cell_type": "markdown",
   "metadata": {},
   "source": [
    "# Strings, lists and tuples"
   ]
  },
  {
   "attachments": {},
   "cell_type": "markdown",
   "metadata": {},
   "source": [
    "## $ \\S 1 $ Strings<a name=\"strings\"></a>"
   ]
  },
  {
   "attachments": {},
   "cell_type": "markdown",
   "metadata": {},
   "source": [
    "## $ 1.1 $ Strings as sequences of characters\n",
    "A __string__ is a sequence of characters enclosed in either single `'` or double `\"` quotes. The type corresponding to strings is denoted by `str`.\n",
    "\n",
    "To get the $ i $-th character of a string called, say, $ s $, use `s[i]`; the output is also string (albeit one having only $ 1 $ character).\n",
    "\n",
    "<div class=\"alert alert-warning\">In Python, indices are <i>always</i> counted starting from <b> $ 0 $  (zero)</b>, not $ 1 $. To avoid confusion, we adapt our terminology accordingly to speak of, e.g., 'm' as the <i>0-th</i> character of the string 'magic', 'a' as its first character, and so on...</div>\n",
    "\n",
    "📝 By prefixing an index with a minus sign $ - $, we start counting to the 'left' from the 0-th character. For example, `s[-1]` is the _last_ character of $ s $, `s[-2]` its *next-to-last* character, and so on.\n",
    "\n",
    "#### Example:"
   ]
  },
  {
   "cell_type": "code",
   "execution_count": null,
   "metadata": {},
   "outputs": [
    {
     "name": "stdout",
     "output_type": "stream",
     "text": [
      "G <class 'str'>\n",
      "o\n",
      "!\n",
      "Go!\n"
     ]
    }
   ],
   "source": [
    "g = \"Gandalf\"\n",
    "s = \"Sauron\"\n",
    "explosion = \"BOOM!\"\n",
    "\n",
    "character = g[0]\n",
    "print(character, type(character))\n",
    "\n",
    "another_character = s[4]\n",
    "print(another_character)\n",
    "\n",
    "yet_another_character = explosion[-1]\n",
    "print(yet_another_character)\n",
    "\n",
    "# Since these characters are actually strings, we can concatenate them using '+':\n",
    "print(character + another_character + yet_another_character)"
   ]
  },
  {
   "attachments": {},
   "cell_type": "markdown",
   "metadata": {},
   "source": [
    "## $ 4.2 $ Operations on strings\n",
    "\n",
    "As in the preceding example, strings can be __concatenated__ using the binary operator __+__:"
   ]
  },
  {
   "cell_type": "code",
   "execution_count": null,
   "metadata": {},
   "outputs": [
    {
     "name": "stdout",
     "output_type": "stream",
     "text": [
      "ancientmagic\n",
      "ancient magic spells\n"
     ]
    }
   ],
   "source": [
    "string_1 = \"ancient\"\n",
    "string_2 = \"magic\"\n",
    "string_3 = \"spells\"\n",
    "\n",
    "print(string_1 + string_2)\n",
    "print(string_1 + \" \" + string_2 + \" \" + string_3)"
   ]
  },
  {
   "cell_type": "markdown",
   "metadata": {},
   "source": [
    "The function `len` applied to a string returns its **length**, i.e., the number of characters it contains, which is always a non-negative integer.\n",
    "\n",
    "#### Example:"
   ]
  },
  {
   "cell_type": "code",
   "execution_count": null,
   "metadata": {},
   "outputs": [
    {
     "name": "stdout",
     "output_type": "stream",
     "text": [
      "7\n",
      "5\n",
      "6\n"
     ]
    }
   ],
   "source": [
    "print(len(string_1))\n",
    "print(len(string_2))\n",
    "print(len(string_3))"
   ]
  },
  {
   "cell_type": "markdown",
   "metadata": {},
   "source": [
    "🚫 A string is an __immutable__ object, meaning that its individual characters _cannot_ be modified during the program. Trying to do so will make the interpreter throw a `TypeError`."
   ]
  },
  {
   "cell_type": "code",
   "execution_count": null,
   "metadata": {},
   "outputs": [
    {
     "ename": "TypeError",
     "evalue": "'str' object does not support item assignment",
     "output_type": "error",
     "traceback": [
      "\u001b[0;31m---------------------------------------------------------------------------\u001b[0m\n",
      "\u001b[0;31mTypeError\u001b[0m                                 Traceback (most recent call last)\n",
      "Input \u001b[0;32mIn [31]\u001b[0m, in \u001b[0;36m<cell line: 2>\u001b[0;34m()\u001b[0m\n",
      "\u001b[1;32m      1\u001b[0m \u001b[38;5;66;03m# Let's try to modify the first string of g to see what happens:\u001b[39;00m\n",
      "\u001b[0;32m----> 2\u001b[0m g[\u001b[38;5;241m0\u001b[39m] \u001b[38;5;241m=\u001b[39m \u001b[38;5;124m'\u001b[39m\u001b[38;5;124mR\u001b[39m\u001b[38;5;124m'\u001b[39m\n",
      "\n",
      "\u001b[0;31mTypeError\u001b[0m: 'str' object does not support item assignment"
     ]
    }
   ],
   "source": [
    "# Let's try to modify the first string of g to see what happens:\n",
    "g[0] = 'R'"
   ]
  },
  {
   "attachments": {},
   "cell_type": "markdown",
   "metadata": {},
   "source": [
    "The **colon operator `:`**, as in `[i:j]`, is used to __slice__ a string from its $ i $-th character (inclusive) to its $ j $-th character (exclusive).\n",
    "\n",
    "__Example:__"
   ]
  },
  {
   "cell_type": "code",
   "execution_count": null,
   "metadata": {},
   "outputs": [
    {
     "name": "stdout",
     "output_type": "stream",
     "text": [
      "ma\n",
      "gic\n",
      "ma\n",
      "gic\n"
     ]
    }
   ],
   "source": [
    "string = 'magic'\n",
    "\n",
    "print(string[0:2])   # Slice from the 0th character to the 2nd (not including the 2nd).\n",
    "print(string[2:5])   # Slice from the 2nd character to the 5th (not including the 5th).\n",
    "\n",
    "print(string[:2])    # Omit the first index to slice from the beginning to the second index.\n",
    "print(string[2:])    # Omit the second index to slice from the first index to the end."
   ]
  },
  {
   "attachments": {},
   "cell_type": "markdown",
   "metadata": {},
   "source": [
    "⚠️ To make an independent copy of a string, use a *complete slice* `[:]`.\n",
    "\n",
    "__Example:__"
   ]
  },
  {
   "cell_type": "code",
   "execution_count": null,
   "metadata": {},
   "outputs": [
    {
     "name": "stdout",
     "output_type": "stream",
     "text": [
      "magic potion\n"
     ]
    }
   ],
   "source": [
    "string_1 = 'potion'\n",
    "string_2 = string_1[:]    # Omit both indices to make an independent _copy_ of the original string.\n",
    "\n",
    "string_1 = 'magic'\n",
    "\n",
    "print(string_1, string_2)"
   ]
  },
  {
   "attachments": {},
   "cell_type": "markdown",
   "metadata": {},
   "source": [
    "📝 In analogy with the interpretation of `+` as concatenation of strings, if one 'multiplies', using `*`, a string by a positive integer $ n $, then the result is a new string which consists of $ n $ copies of the original concatenated, one after another. The remaining arithmetic operators (`-`, `/`, `//` and `%`) cannot be applied to strings.\n",
    "\n",
    "__Example:__"
   ]
  },
  {
   "cell_type": "code",
   "execution_count": null,
   "metadata": {},
   "outputs": [
    {
     "name": "stdout",
     "output_type": "stream",
     "text": [
      "hahahahaha\n",
      "\n"
     ]
    }
   ],
   "source": [
    "s = 'ha'\n",
    "t = 5 * s       # t consists of 5 copies of s.\n",
    "print(t)\n",
    "\n",
    "u = (-4) * s    # What happens if we multiply s by 0 or by a negative integer?\n",
    "print(u)"
   ]
  },
  {
   "cell_type": "code",
   "execution_count": null,
   "metadata": {},
   "outputs": [
    {
     "ename": "TypeError",
     "evalue": "unsupported operand type(s) for //: 'str' and 'str'",
     "output_type": "error",
     "traceback": [
      "\u001b[0;31m---------------------------------------------------------------------------\u001b[0m\n",
      "\u001b[0;31mTypeError\u001b[0m                                 Traceback (most recent call last)\n",
      "Input \u001b[0;32mIn [35]\u001b[0m, in \u001b[0;36m<cell line: 1>\u001b[0;34m()\u001b[0m\n",
      "\u001b[0;32m----> 1\u001b[0m \u001b[38;5;28mprint\u001b[39m(\u001b[43mt\u001b[49m\u001b[43m \u001b[49m\u001b[38;5;241;43m/\u001b[39;49m\u001b[38;5;241;43m/\u001b[39;49m\u001b[43m \u001b[49m\u001b[43ms\u001b[49m)\n",
      "\n",
      "\u001b[0;31mTypeError\u001b[0m: unsupported operand type(s) for //: 'str' and 'str'"
     ]
    }
   ],
   "source": [
    "print(t // s)   # We can't divide two strings!"
   ]
  },
  {
   "cell_type": "code",
   "execution_count": null,
   "metadata": {},
   "outputs": [
    {
     "ename": "TypeError",
     "evalue": "can't multiply sequence by non-int of type 'float'",
     "output_type": "error",
     "traceback": [
      "\u001b[0;31m---------------------------------------------------------------------------\u001b[0m\n",
      "\u001b[0;31mTypeError\u001b[0m                                 Traceback (most recent call last)\n",
      "Input \u001b[0;32mIn [36]\u001b[0m, in \u001b[0;36m<cell line: 1>\u001b[0;34m()\u001b[0m\n",
      "\u001b[0;32m----> 1\u001b[0m v \u001b[38;5;241m=\u001b[39m \u001b[38;5;241;43m2.71\u001b[39;49m\u001b[43m \u001b[49m\u001b[38;5;241;43m*\u001b[39;49m\u001b[43m \u001b[49m\u001b[43ms\u001b[49m\n",
      "\n",
      "\u001b[0;31mTypeError\u001b[0m: can't multiply sequence by non-int of type 'float'"
     ]
    }
   ],
   "source": [
    "v = 2.71 * s    # Can we multiply a string by a float?"
   ]
  },
  {
   "attachments": {},
   "cell_type": "markdown",
   "metadata": {},
   "source": [
    "### $ 1.3 $ Comparing strings\n",
    "\n",
    "📝 All of the comparison operators introduced in the previous notebook work for\n",
    "strings as well. Strings are ordered according to the __lexicographic__ (or __dictionary__) __order__:"
   ]
  },
  {
   "cell_type": "code",
   "execution_count": null,
   "metadata": {},
   "outputs": [
    {
     "name": "stdout",
     "output_type": "stream",
     "text": [
      "False\n",
      "True\n",
      "False\n",
      "True\n",
      "True\n"
     ]
    }
   ],
   "source": [
    "a = \"potion\"\n",
    "b = \"portion\"\n",
    "q = \"quarterstaff\"  \n",
    "r = \"robe\"\n",
    "\n",
    "print(a < b)\n",
    "print(b < q)\n",
    "print(a == q)\n",
    "print(q != r)\n",
    "print(q <= r)"
   ]
  },
  {
   "attachments": {},
   "cell_type": "markdown",
   "metadata": {},
   "source": [
    "## $ \\S 2 $ Lists"
   ]
  },
  {
   "attachments": {},
   "cell_type": "markdown",
   "metadata": {},
   "source": [
    "### $ 2.1 $ The `list` type\n",
    "\n",
    "A **list** (that is, an object of type `list`) consists of zero, one or several objects ordered in sequence. The items of a list are allowed to be of *any* type, and the types of different elements do not have to be the same. In particular, one can create lists which contain integers, floats and strings; lists whose elements are other lists or tuples; lists of lists of functions, and so on.\n",
    "\n",
    "A list is represented using *brackets* `[]`, with its elements separated by commas. The function `len` can be used to count the number of items contained in a list.\n",
    "\n",
    "__Example:__"
   ]
  },
  {
   "cell_type": "code",
   "execution_count": null,
   "metadata": {},
   "outputs": [
    {
     "name": "stdout",
     "output_type": "stream",
     "text": [
      "4\n",
      "0\n",
      "['acai', 'apple', 'apricot', 'avocado', 'Delfador']\n"
     ]
    }
   ],
   "source": [
    "fruits = [\"acai\", 'apple', \"apricot\", 'avocado']\n",
    "numbers = [0, 'eight', -53, 12.34, (3 + 4j)]       # The elements of a list can be of different types!\n",
    "empty = []                                         # This is an empty list.\n",
    "mages = ['Delfador']                               # This list has a single element.\n",
    "\n",
    "print(len(fruits))                                 # Use 'len' to get the length of a list.\n",
    "print(len(empty))\n",
    "\n",
    "new_list = fruits + mages                          # We can concatenate two lists using '+'.\n",
    "print(new_list)"
   ]
  },
  {
   "cell_type": "markdown",
   "metadata": {},
   "source": [
    "📝 Just like strings, lists can be **concatenated** with the `+` operator, 'multiplied' by positive integers using `*` and **sliced** with the `:` operator."
   ]
  },
  {
   "attachments": {},
   "cell_type": "markdown",
   "metadata": {},
   "source": [
    "### $ 2.2 $ Modifying lists\n",
    "\n",
    "In contrast to strings, lists are **mutable** objects, meaning that their individual elements can be modified by assignments.\n",
    "\n",
    "__Example:__"
   ]
  },
  {
   "cell_type": "code",
   "execution_count": null,
   "metadata": {},
   "outputs": [
    {
     "name": "stdout",
     "output_type": "stream",
     "text": [
      "['Gone with the Wind', 'Interstellar', 'E.T.', \"It's a Wonderful Life\", 'Rain Man']\n",
      "['Gone with the Wind', 'Forrest Gump', 'E.T.', \"It's a Wonderful Life\", 'Rain Man']\n",
      "['Gone with the Wind', 'Forrest Gump', 'Modern Times', 'Paths of Glory', 'Rain Man']\n",
      "['Gone with the Wind', 'Forrest Gump']\n"
     ]
    }
   ],
   "source": [
    "movies = [\"Gone with the Wind\",\n",
    "         \"Interstellar\",\n",
    "         \"E.T.\",\n",
    "         \"It's a Wonderful Life\",\n",
    "         \"Rain Man\"]\n",
    "\n",
    "print(movies)\n",
    "# \"It's a Wonderful Life\" appears inside double quotes\n",
    "# when printed because this string contains a single quote.\n",
    "\n",
    "movies[1] = \"Forrest Gump\"     # Modify the 1st (not 0th!) element of the list.\n",
    "print(movies)\n",
    "\n",
    "# Modifying more than one element at once:\n",
    "movies[2:4] = [\"Modern Times\", \"Paths of Glory\"]\n",
    "print(movies)\n",
    "\n",
    "print(movies[:2])              # Print the first two elements."
   ]
  },
  {
   "attachments": {},
   "cell_type": "markdown",
   "metadata": {},
   "source": [
    "⚠️ Before a list can store an item whose index is $ k $, it must have items associated with every index between $ 0 $ and $ k - 1 $. Trying to modify or access in any way the element of index $ k $ in a list which currently does not have such an element generates an `IndexError`.\n",
    "\n",
    "__Example:__"
   ]
  },
  {
   "cell_type": "code",
   "execution_count": null,
   "metadata": {},
   "outputs": [
    {
     "ename": "IndexError",
     "evalue": "list index out of range",
     "output_type": "error",
     "traceback": [
      "\u001b[0;31m---------------------------------------------------------------------------\u001b[0m\n",
      "\u001b[0;31mIndexError\u001b[0m                                Traceback (most recent call last)\n",
      "Input \u001b[0;32mIn [40]\u001b[0m, in \u001b[0;36m<cell line: 2>\u001b[0;34m()\u001b[0m\n",
      "\u001b[1;32m      1\u001b[0m drinks \u001b[38;5;241m=\u001b[39m [\u001b[38;5;124m\"\u001b[39m\u001b[38;5;124mcoffee\u001b[39m\u001b[38;5;124m\"\u001b[39m, \u001b[38;5;124m\"\u001b[39m\u001b[38;5;124mtea\u001b[39m\u001b[38;5;124m\"\u001b[39m, \u001b[38;5;124m\"\u001b[39m\u001b[38;5;124mwater\u001b[39m\u001b[38;5;124m\"\u001b[39m]\n",
      "\u001b[0;32m----> 2\u001b[0m \u001b[38;5;28mprint\u001b[39m(\u001b[43mdrinks\u001b[49m\u001b[43m[\u001b[49m\u001b[38;5;241;43m3\u001b[39;49m\u001b[43m]\u001b[49m)\n",
      "\n",
      "\u001b[0;31mIndexError\u001b[0m: list index out of range"
     ]
    }
   ],
   "source": [
    "drinks = [\"coffee\", \"tea\", \"water\"]\n",
    "print(drinks[3])"
   ]
  },
  {
   "cell_type": "code",
   "execution_count": null,
   "metadata": {},
   "outputs": [
    {
     "ename": "IndexError",
     "evalue": "list assignment index out of range",
     "output_type": "error",
     "traceback": [
      "\u001b[0;31m---------------------------------------------------------------------------\u001b[0m\n",
      "\u001b[0;31mIndexError\u001b[0m                                Traceback (most recent call last)\n",
      "Input \u001b[0;32mIn [41]\u001b[0m, in \u001b[0;36m<cell line: 2>\u001b[0;34m()\u001b[0m\n",
      "\u001b[1;32m      1\u001b[0m drinks \u001b[38;5;241m=\u001b[39m [\u001b[38;5;124m\"\u001b[39m\u001b[38;5;124mcoffee\u001b[39m\u001b[38;5;124m\"\u001b[39m, \u001b[38;5;124m\"\u001b[39m\u001b[38;5;124mtea\u001b[39m\u001b[38;5;124m\"\u001b[39m, \u001b[38;5;124m\"\u001b[39m\u001b[38;5;124mwater\u001b[39m\u001b[38;5;124m\"\u001b[39m]\n",
      "\u001b[0;32m----> 2\u001b[0m drinks[\u001b[38;5;241m3\u001b[39m] \u001b[38;5;241m=\u001b[39m \u001b[38;5;124m\"\u001b[39m\u001b[38;5;124morange juice\u001b[39m\u001b[38;5;124m\"\u001b[39m\n",
      "\n",
      "\u001b[0;31mIndexError\u001b[0m: list assignment index out of range"
     ]
    }
   ],
   "source": [
    "drinks = [\"coffee\", \"tea\", \"water\"]\n",
    "drinks[3] = \"orange juice\""
   ]
  },
  {
   "attachments": {},
   "cell_type": "markdown",
   "metadata": {},
   "source": [
    "### $ 2.3 $ Some methods defined on lists\n",
    "\n",
    "Lists also support several methods (a **method** is a function associated with a specific class or type). Here are examples of how some of them are used.\n",
    "\n",
    "__Example:__"
   ]
  },
  {
   "cell_type": "code",
   "execution_count": null,
   "metadata": {},
   "outputs": [
    {
     "name": "stdout",
     "output_type": "stream",
     "text": [
      "['avocado', 'apricot', 'acai', 'apple', 'apple']\n",
      "['strawberry', 'avocado', 'apricot', 'acai', 'apple', 'apple']\n",
      "['strawberry', 'avocado', 'apricot', 'acai', 'apple']\n",
      "['strawberry', 'avocado', 'acai', 'apple']\n",
      "['strawberry', 'avocado', 'acai']\n",
      "apricot apple\n",
      "['acai', 'avocado', 'strawberry']\n"
     ]
    }
   ],
   "source": [
    "fruits = [\"avocado\", 'apricot', \"acai\", 'apple']\n",
    "\n",
    "fruits.append('apple')            # Append an element to the end of a list.\n",
    "print(fruits)\n",
    "\n",
    "fruits.insert(0, \"strawberry\")    # Insert an element in a specified position.\n",
    "print(fruits)\n",
    "\n",
    "fruits.remove('apple')            # Remove the _first occurrence_ of an element.\n",
    "print(fruits)\n",
    "\n",
    "a = fruits.pop(2)                 # Remove the element having the specified index               \n",
    "print(fruits)                     # and return it as output. \n",
    "\n",
    "b = fruits.pop()                  # Use 'pop' without any arguments to remove the\n",
    "print(fruits)                     # last item of a list and return it as output.\n",
    "\n",
    "print(a, b)\n",
    "\n",
    "fruits.sort()\n",
    "print(fruits)"
   ]
  },
  {
   "attachments": {},
   "cell_type": "markdown",
   "metadata": {},
   "source": [
    "Note that, in each case, the name of the list appears before the method, and is separated from it by a period (`.`). More formally:\n",
    "\n",
    "* `append(x)` can be used to append an element $ x $ to the _end_ of a list.\n",
    "* `insert(i, x)` is used to insert an element $ x $ in an arbitrary position $ i $ of a list. Elements having indices $ < i $ remain in their original position, while those having indices $ \\ge i $ are shifted one position to the right.\n",
    "* `remove(x)` is used to remove the *first occurrence* of an item $ x $ of a list. If the list does not contain any instances of this element, then the interpreter throws a `TypeError`.\n",
    "* `sort(lst)` is used to **sort** the elements of a list _lst_ in ascending order, provided this makes sense.\n",
    "* `pop(i)` removes the item of the list at index $ i $.\n",
    "\n",
    "📝 The first four of these methods modify the list as described, _but they return_ `None` as output. However, `pop` returns the popped element as output.\n",
    "\n",
    "__Example:__"
   ]
  },
  {
   "cell_type": "code",
   "execution_count": null,
   "metadata": {},
   "outputs": [
    {
     "name": "stdout",
     "output_type": "stream",
     "text": [
      "None\n",
      "None\n",
      "['acai', 'avocado', 'banana', 'strawberry']\n"
     ]
    }
   ],
   "source": [
    "a = fruits.insert(0, \"banana\")\n",
    "print(a)\n",
    "\n",
    "b = fruits.sort()\n",
    "print(b)\n",
    "print(fruits)"
   ]
  },
  {
   "attachments": {},
   "cell_type": "markdown",
   "metadata": {},
   "source": [
    "<div class=\"alert alert-warning\">If $ x $ stores a <i>mutable</i> object, then the assignment <code>y = x</code> does not result in a new <i>object</i> named $ y $; instead, this just makes $ y $ a new pointer to the object stored by $ x $. Because of this, any modification of the value of $ x $ will affect $ y $, and vice-versa.</div>\n",
    "\n",
    "__Example:__"
   ]
  },
  {
   "cell_type": "code",
   "execution_count": null,
   "metadata": {},
   "outputs": [
    {
     "data": {
      "text/plain": [
       "[0, 1]"
      ]
     },
     "metadata": {},
     "output_type": "display_data"
    }
   ],
   "source": [
    "x = [0, 1, 2]\n",
    "y = x\n",
    "\n",
    "x.pop()         # Popping an element from x also affects y,\n",
    "y               # since they refer to the same object!"
   ]
  },
  {
   "cell_type": "code",
   "execution_count": null,
   "metadata": {},
   "outputs": [
    {
     "data": {
      "text/plain": [
       "[0, 1, 2]"
      ]
     },
     "metadata": {},
     "output_type": "display_data"
    }
   ],
   "source": [
    "x = [0, 1, 2]    # To create an independent copy of x, use a complete slice:\n",
    "y = x[:]\n",
    "\n",
    "x.pop()\n",
    "y                # y has not been affected by the modification of x."
   ]
  },
  {
   "attachments": {},
   "cell_type": "markdown",
   "metadata": {},
   "source": [
    "## $ \\S 3 $ Tuples\n",
    "\n",
    "### $ 3.1 $ The `tuple` type\n",
    "\n",
    "Another sequential data type is `tuple`, the type of __tuples__. Like a list, a tuple is a sequence of non-negative length of objects of arbitrary types, separated by commas. However, tuples are enclosed by _parentheses_ `()` instead of brackets. Also, tuples are __immutable__ (like strings), so that their individual elements _cannot_ be modified.\n",
    "\n",
    "### $ 3.2 $ Operations on tuples\n",
    "\n",
    "As for the other sequential types that we have considered (strings and lists), tuples can be concatenated with `+`, their length can be retrieved using `len`, and their elements and slices can be accessed using `[]` and the `:` operator.\n",
    "\n",
    "__Example:__"
   ]
  },
  {
   "cell_type": "code",
   "execution_count": null,
   "metadata": {},
   "outputs": [
    {
     "name": "stdout",
     "output_type": "stream",
     "text": [
      "<class 'tuple'>\n",
      "Albert\n",
      "chemist\n",
      "England\n"
     ]
    }
   ],
   "source": [
    "# Each of the following tuples records some data about famous scientists:\n",
    "record_1 = ('Albert', 'Einstein', 'physicist', 26, 'Germany')\n",
    "record_2 = ('Marie', 'Curie', 'chemist', 32, 'Poland')\n",
    "record_3 = ('Charles', 'Darwin', 'biologist', 50, 'England')\n",
    "\n",
    "# Each of them is indeed of type 'tuple':\n",
    "print(type(record_1))\n",
    "\n",
    "# Accessing individual elements:\n",
    "print(record_1[0])\n",
    "print(record_2[2])\n",
    "print(record_3[-1])"
   ]
  },
  {
   "cell_type": "code",
   "execution_count": null,
   "metadata": {},
   "outputs": [
    {
     "name": "stdout",
     "output_type": "stream",
     "text": [
      "('Albert', 'Einstein')\n"
     ]
    }
   ],
   "source": [
    "# Slicing:\n",
    "full_name = record_1[:2]\n",
    "print(full_name)"
   ]
  },
  {
   "cell_type": "code",
   "execution_count": null,
   "metadata": {},
   "outputs": [
    {
     "name": "stdout",
     "output_type": "stream",
     "text": [
      "['Albert', 'Einstein', 'physicist', 26, 'Germany'] <class 'list'>\n",
      "('Plato', 'Aristotle', 'Seneca', 'Socrates') <class 'tuple'>\n"
     ]
    }
   ],
   "source": [
    "# To convert a tuple to a list, use 'list' as a function:\n",
    "data = list(record_1)\n",
    "print(data, type(data))\n",
    "\n",
    "# Similarly, to convert a list to a tuple, use 'tuple' as a function:\n",
    "philosophers = [\"Plato\", \"Aristotle\", \"Seneca\", \"Socrates\"]\n",
    "tuple_of_philosophers = tuple(philosophers)\n",
    "print(tuple_of_philosophers, type(tuple_of_philosophers))"
   ]
  },
  {
   "attachments": {},
   "cell_type": "markdown",
   "metadata": {},
   "source": [
    "### $ 3.3 $ Some warnings"
   ]
  },
  {
   "cell_type": "markdown",
   "metadata": {},
   "source": [
    "⚠️ To define a tuple consisting of a single item, a comma must still be used, so that the tuple can be disambiguated from an expression surrounded by parentheses:"
   ]
  },
  {
   "cell_type": "code",
   "execution_count": null,
   "metadata": {},
   "outputs": [
    {
     "name": "stdout",
     "output_type": "stream",
     "text": [
      "('Sindarin',) <class 'tuple'>\n",
      "Sindarin <class 'str'>\n"
     ]
    }
   ],
   "source": [
    "language = ('Sindarin', )         # To define a tuple, we must include a comma!\n",
    "print(language, type(language))\n",
    "\n",
    "lang = ('Sindarin')               # This is not a tuple, but rather a string;\n",
    "print(lang, type(lang))           # the parentheses play no role in this case.\n"
   ]
  },
  {
   "cell_type": "markdown",
   "metadata": {},
   "source": [
    "🚫 Since a tuple is _immutable_, an attempt to modify one or more of its elements results in a `TypeError`:"
   ]
  },
  {
   "cell_type": "code",
   "execution_count": null,
   "metadata": {},
   "outputs": [
    {
     "ename": "TypeError",
     "evalue": "'tuple' object does not support item assignment",
     "output_type": "error",
     "traceback": [
      "\u001b[0;31m---------------------------------------------------------------------------\u001b[0m\n",
      "\u001b[0;31mTypeError\u001b[0m                                 Traceback (most recent call last)\n",
      "Input \u001b[0;32mIn [50]\u001b[0m, in \u001b[0;36m<cell line: 2>\u001b[0;34m()\u001b[0m\n",
      "\u001b[1;32m      1\u001b[0m coordinates \u001b[38;5;241m=\u001b[39m (\u001b[38;5;241m1.234\u001b[39m, \u001b[38;5;241m5.678\u001b[39m)\n",
      "\u001b[0;32m----> 2\u001b[0m coordinates[\u001b[38;5;241m0\u001b[39m] \u001b[38;5;241m=\u001b[39m \u001b[38;5;241m0.123\u001b[39m\n",
      "\n",
      "\u001b[0;31mTypeError\u001b[0m: 'tuple' object does not support item assignment"
     ]
    }
   ],
   "source": [
    "coordinates = (1.234, 5.678)\n",
    "coordinates[0] = 0.123"
   ]
  },
  {
   "cell_type": "markdown",
   "metadata": {},
   "source": [
    "⚠️ We emphasize that even if $ x $ and $ y $ are two tuples or lists of the same length and whose items are  of the same numerical type, `x + y` is *not* obtained by summing their respective elements; it is instead the *concatenation* of $ x $ and $ y $. Similarly, if $ a $ is a scalar, then `a * x` is *not* obtained by multiplying each item of $ x $ by $ a $, even if $ a $ is an integer."
   ]
  },
  {
   "cell_type": "markdown",
   "metadata": {},
   "source": [
    "<div class=\"alert alert-warning\">Neither lists nor tuples are adequate data structures to represent <b>vectors</b> (in the sense of linear algebra). The most adequate type for this task is an <b>array</b> (type: <code>array</code>, provided by the <a href=\"https://scipy.github.io/old-wiki/pages/Numpy_Example_List.html\"><b>NumPy</b></a> module), which we will consider later.</div>"
   ]
  },
  {
   "cell_type": "markdown",
   "metadata": {},
   "source": [
    "📝 **Question:** Do we really need both lists and tuples? \n",
    "\n",
    "*Answer:* No, strictly speaking we could always get by using only one of them. However, the versatility has many advantages.\n",
    "\n",
    "📝 **Question:** What is the difference between lists and tuples?\n",
    "\n",
    "*Answer:* The main difference is that lists are _mutable_ while tuples are _immutable_. In particular:\n",
    "* We cannot modify the value of individual elements of a tuple as we can with lists.\n",
    "* We cannot remove or add elements to a tuple. Tuples have no methods equivalent to `append`, `pop`, `insert`, `remove`, etc.. In particular, tuples have a fixed length. Even though it is possible to assign a tuple to a variable and then assign another tuple of different length to the same variable, this is not the same operation as modifying the original tuple.\n",
    "* Tuples are generally a bit 'faster' than lists.\n",
    "* Because tuples are immutable, they offer a better choice when storing information which should be protected from modification to avoid unforeseen behavior.\n",
    "\n"
   ]
  },
  {
   "cell_type": "code",
   "execution_count": null,
   "metadata": {},
   "outputs": [],
   "source": []
  }
 ],
 "metadata": {
  "kernelspec": {
   "display_name": "Python 3",
   "language": "python",
   "name": "python3"
  },
  "language_info": {
   "codemirror_mode": {
    "name": "ipython",
    "version": 3
   },
   "file_extension": ".py",
   "mimetype": "text/x-python",
   "name": "python",
   "nbconvert_exporter": "python",
   "pygments_lexer": "ipython3",
   "version": "3.10.10"
  },
  "orig_nbformat": 4
 },
 "nbformat": 4,
 "nbformat_minor": 2
}
