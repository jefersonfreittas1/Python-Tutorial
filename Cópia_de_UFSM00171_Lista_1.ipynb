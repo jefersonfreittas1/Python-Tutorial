{
  "nbformat": 4,
  "nbformat_minor": 0,
  "metadata": {
    "colab": {
      "provenance": [],
      "include_colab_link": true
    },
    "kernelspec": {
      "name": "python3",
      "display_name": "Python 3"
    },
    "language_info": {
      "name": "python"
    }
  },
  "cells": [
    {
      "cell_type": "markdown",
      "metadata": {
        "id": "view-in-github",
        "colab_type": "text"
      },
      "source": [
        "<a href=\"https://colab.research.google.com/github/jefersonfreittas1/Python-Tutorial/blob/main/C%C3%B3pia_de_UFSM00171_Lista_1.ipynb\" target=\"_parent\"><img src=\"https://colab.research.google.com/assets/colab-badge.svg\" alt=\"Open In Colab\"/></a>"
      ]
    },
    {
      "cell_type": "markdown",
      "metadata": {
        "id": "b625c665"
      },
      "source": [
        "# Lista 1\n",
        "\n",
        "1. Crie variáveis para armazenar: idade, altura e nome. Depois imprima essas informações em uma sentença.\n",
        "\n"
      ]
    },
    {
      "cell_type": "code",
      "source": [
        "idade = int(input(\"Insira sua idade\"))\n",
        "altura = float(input(\"Digite sua altura\"))\n",
        "nome = str(input(\"Digite seu nome\"))\n",
        "print(\"Seu nome é {}, você tem {} anos e {} de altura\".format(nome,idade,altura))"
      ],
      "metadata": {
        "id": "_7cNh_O9WQNS"
      },
      "execution_count": null,
      "outputs": []
    },
    {
      "cell_type": "code",
      "source": [],
      "metadata": {
        "id": "hK7dOkDpq0xG"
      },
      "execution_count": null,
      "outputs": []
    },
    {
      "cell_type": "markdown",
      "source": [
        "2. Calcule a área de um círculo de raio de 7,5 m. Use `math.pi` para o valor de $π$."
      ],
      "metadata": {
        "id": "E0GhZyf7rAEO"
      }
    },
    {
      "cell_type": "code",
      "source": [
        "import math\n",
        "r = 7.5\n",
        "area = math.pi*r**2\n",
        "print(area)"
      ],
      "metadata": {
        "colab": {
          "base_uri": "https://localhost:8080/"
        },
        "id": "20FecpYjXIpM",
        "outputId": "b1d0f7a1-0e6e-4a23-f17b-b40943798ea3"
      },
      "execution_count": null,
      "outputs": [
        {
          "output_type": "stream",
          "name": "stdout",
          "text": [
            "176.71458676442586\n"
          ]
        }
      ]
    },
    {
      "cell_type": "code",
      "source": [],
      "metadata": {
        "id": "x4W2lxa8rBYa"
      },
      "execution_count": null,
      "outputs": []
    },
    {
      "cell_type": "markdown",
      "source": [
        "\n",
        "3. Escreva um programa em Python para converter temperatura de graus Celsius para Fahrenheit. Dado: Fahrenheit = (Celsius * 9/5) + 32."
      ],
      "metadata": {
        "id": "jqp9qEc2rB-u"
      }
    },
    {
      "cell_type": "code",
      "source": [
        "T = float(input(\"Digite a temperatura em °C \"))\n",
        "F = (T*(9/5))+32\n",
        "print(\"{}°C corresponde a {} F\".format(T,F))"
      ],
      "metadata": {
        "id": "qf3wxCdkYbf7"
      },
      "execution_count": null,
      "outputs": []
    },
    {
      "cell_type": "code",
      "source": [],
      "metadata": {
        "id": "E4la2ZTsrCiR"
      },
      "execution_count": null,
      "outputs": []
    },
    {
      "cell_type": "markdown",
      "source": [
        "4. Escreva um programa em que seja calculada a energia necessária para condensar e/ou resfriar 100 mols/s acetona de uma determinada temperatura até $25 ^\\circ C$ à pressão atmosférica. <br>\n",
        "Inclua um teste caso o usuário insira a temperatura inicial igual à temperatura de ebulição, perguntando em qual fase a acetona está.\n",
        "Dados: <br>\n",
        "Calor de vaporização: 30.2 kJ/mol <br>\n",
        "Ponto de ebulição: $56 ^\\circ C$ <br>\n",
        "$\\Delta \\hat{H} = \\int C_p(T) dT$ <br>\n",
        "$C_p(T) = a + bT + cT^2 + dT^3 \\left[ \\frac{J}{mol.K}\\right]$ <br>\n",
        "\n",
        "|Coeficiente|Vapor|Líquido|\n",
        "|---|---|---|\n",
        "|a|71,96e-3|1,23e-1|\n",
        "|b|20,10e-5|1,86e-4|\n",
        "|c|-12,78e-8|----|\n",
        "|d|34,76e-12|----|"
      ],
      "metadata": {
        "id": "VoAvIYqJgMwo"
      }
    },
    {
      "cell_type": "code",
      "source": [
        "import numpy as np\n",
        "from scipy.integrate import quad\n",
        "\n",
        "# Constantes\n",
        "T_ebulicao = 56\n",
        "T_final = 25\n",
        "n_mols = 100\n",
        "delta_H_vap = 30200\n",
        "\n",
        "# Coeficientes Cp (Vapor e Líquido) [J/mol.K]\n",
        "a_vapor = 71.96\n",
        "b_vapor = 20.10e-5\n",
        "c_vapor = -12.78e-8\n",
        "d_vapor = 34.76e-12\n",
        "\n",
        "a_liquido = 1.23e-1\n",
        "b_liquido = 1.86e-4\n",
        "\n",
        "# Funções de capacidade calorífica Cp(T) [Vapor e Líquido]\n",
        "def Cp_vapor(T):\n",
        "    return a_vapor + b_vapor * T + c_vapor * T**2 + d_vapor * T**3\n",
        "\n",
        "def Cp_liquido(T):\n",
        "    return a_liquido + b_liquido * T\n",
        "\n",
        "# Função para calculaar energia de resfriamento\n",
        "def calcular_energia_resfriamento(T_inicial, T_final):\n",
        "    if T_inicial > T_ebulicao:\n",
        "        # Fase 1\n",
        "        energia_vapor, _ = quad(Cp_vapor, T_ebulicao, T_inicial)\n",
        "\n",
        "        # Fase 2\n",
        "        energia_condensacao = delta_H_vap\n",
        "\n",
        "        # Fase 3\n",
        "        energia_liquido, _ = quad(Cp_liquido, T_final, T_ebulicao)\n",
        "\n",
        "        # Energiaa total\n",
        "        energia_total = (energia_vapor + energia_condensacao + energia_liquido) * n_mols\n",
        "    else:\n",
        "        # resfriamento\n",
        "        energia_liquido, _ = quad(Cp_liquido, T_final, T_inicial)\n",
        "        energia_total = energia_liquido * n_mols\n",
        "\n",
        "    return energia_total / 1000  # Converte J para kJ\n",
        "\n",
        "# Teste com T_inicial = 56°C\n",
        "T_inicial = float(input(\"Digite a temperatura inicial (°C): \"))\n",
        "energia = calcular_energia_resfriamento(T_inicial, T_final)\n",
        "\n",
        "print(\"A energia para resfriar {} mols de acetona de {}°C até {}°C é: {:.2f} kJ\".format(n_mols,T_inicial,T_final,energia))\n"
      ],
      "metadata": {
        "id": "rBIY9Y7iYroO",
        "colab": {
          "base_uri": "https://localhost:8080/"
        },
        "outputId": "7fd29110-9073-429f-ff68-9ae7321de933"
      },
      "execution_count": null,
      "outputs": [
        {
          "output_type": "stream",
          "name": "stdout",
          "text": [
            "Digite a temperatura inicial (°C): 100\n",
            "A energia para resfriar 100 mols de acetona de 100.0°C até 25°C é: 3337.09 kJ\n"
          ]
        }
      ]
    },
    {
      "cell_type": "markdown",
      "source": [
        "5. Escreva um programa em Python que verifique se um número é positivo, negativo ou zero."
      ],
      "metadata": {
        "id": "klmaN9F8Y2lN"
      }
    },
    {
      "cell_type": "code",
      "source": [
        "n = int(input(\"insira um número\"))\n",
        "if n < 0:\n",
        "  print(\"O número é negativo\")\n",
        "elif n == 0:\n",
        "  print(\"O número é zero\")\n",
        "else:\n",
        "  print(\"O número é positivo\")"
      ],
      "metadata": {
        "colab": {
          "base_uri": "https://localhost:8080/"
        },
        "id": "emqrITsVzKVG",
        "outputId": "9b886331-6010-42c4-c9a9-479506585339"
      },
      "execution_count": null,
      "outputs": [
        {
          "output_type": "stream",
          "name": "stdout",
          "text": [
            "insira um número-1\n",
            "O número é negativo\n"
          ]
        }
      ]
    },
    {
      "cell_type": "code",
      "source": [],
      "metadata": {
        "id": "YppomBBqYgjz"
      },
      "execution_count": null,
      "outputs": []
    },
    {
      "cell_type": "code",
      "source": [],
      "metadata": {
        "id": "hQbUxwHBY4_l"
      },
      "execution_count": null,
      "outputs": []
    },
    {
      "cell_type": "markdown",
      "source": [
        "*6*. Crie um laço que imprima na tela os 10 primeiros múltiplos de 3."
      ],
      "metadata": {
        "id": "3x9XGKlMY6S5"
      }
    },
    {
      "cell_type": "code",
      "source": [
        "n = 3\n",
        "s = 1\n",
        "for i in range(1,11):\n",
        "  s = n*i\n",
        "  print(s)\n"
      ],
      "metadata": {
        "id": "ZqeDkVANz14l"
      },
      "execution_count": null,
      "outputs": []
    },
    {
      "cell_type": "code",
      "source": [],
      "metadata": {
        "id": "AWO1qOHbY8DV"
      },
      "execution_count": null,
      "outputs": []
    },
    {
      "cell_type": "markdown",
      "source": [
        "7. Modifique a estrutura de repetição do exercício anterior para pular o múltiplo `15` usando a declaração `continue`."
      ],
      "metadata": {
        "id": "S0AqKZGhY85Z"
      }
    },
    {
      "cell_type": "code",
      "source": [
        "n = 3\n",
        "s = 1\n",
        "for i in range(1,11):\n",
        "  if i*3 == 15:\n",
        "    continue\n",
        "  s = n*i\n",
        "  print(s)"
      ],
      "metadata": {
        "id": "KZEO_MHpZAHD",
        "colab": {
          "base_uri": "https://localhost:8080/"
        },
        "outputId": "670f5e0a-e78d-4de4-f1fe-64c3e0d47ff1"
      },
      "execution_count": null,
      "outputs": [
        {
          "output_type": "stream",
          "name": "stdout",
          "text": [
            "3\n",
            "6\n",
            "9\n",
            "12\n",
            "18\n",
            "21\n",
            "24\n",
            "27\n",
            "30\n"
          ]
        }
      ]
    },
    {
      "cell_type": "markdown",
      "source": [
        "8. Escreva um programa em Python que simule um timer de contagem regressiva de 10 para 1 e imprima \"Decolagem!\" ao final."
      ],
      "metadata": {
        "id": "HKy5Kxh4ZBEf"
      }
    },
    {
      "cell_type": "code",
      "source": [
        "import time\n",
        "print(\"CONTAGEM REGRESSIVA\")\n",
        "for i in range(10,0,-1):\n",
        "  print(i)\n",
        "  time.sleep(1)\n",
        "print(\"\\n🎈🎆🎇🧨🎉\")"
      ],
      "metadata": {
        "id": "9U2QfMFLCOfR"
      },
      "execution_count": null,
      "outputs": []
    },
    {
      "cell_type": "code",
      "source": [],
      "metadata": {
        "id": "dmuDKxMBZDXB"
      },
      "execution_count": null,
      "outputs": []
    },
    {
      "cell_type": "markdown",
      "source": [
        "9. Escreva um programa que peça um número `n` do usuário e compute a soma de todos os números naturais até `n` usando um laço `for`."
      ],
      "metadata": {
        "id": "ca4NT8kNZD4Y"
      }
    },
    {
      "cell_type": "code",
      "source": [
        "n = int(input(\"Digite um número\"))\n",
        "if n > 0:\n",
        "  s = 0\n",
        "  for i in range(1,n+1):\n",
        "    s = s+i\n",
        "  print(\"A soma dos numeros naturais é: {}\".format(s))\n",
        "else:\n",
        "  print(\"Digite um valor válido\")\n"
      ],
      "metadata": {
        "colab": {
          "base_uri": "https://localhost:8080/"
        },
        "id": "p-6apzrMDMs0",
        "outputId": "cdbe44ad-f926-4f29-a85d-7bd6343cc027"
      },
      "execution_count": null,
      "outputs": [
        {
          "output_type": "stream",
          "name": "stdout",
          "text": [
            "Digite um número0\n",
            "Digite um valor válido\n"
          ]
        }
      ]
    },
    {
      "cell_type": "code",
      "source": [],
      "metadata": {
        "id": "jtlQPLxxZRkl"
      },
      "execution_count": null,
      "outputs": []
    },
    {
      "cell_type": "markdown",
      "source": [
        "10. Escreva um programa que imprima na tela os primeiros `n` números de uma sequência Fibonacci usando um laço `while`."
      ],
      "metadata": {
        "id": "rXhFbFrgZSQp"
      }
    },
    {
      "cell_type": "code",
      "source": [
        "n = int(input(\"Digite o número de termos da sequência Fibonacci que deseja imprimir: \"))\n",
        "a=0\n",
        "b=1\n",
        "cont = 0\n",
        "\n",
        "while cont < n:\n",
        "    print(a)\n",
        "    a, b = b, a + b\n",
        "    cont = cont + 1\n",
        "\n"
      ],
      "metadata": {
        "id": "aYNpFxeMZVHk"
      },
      "execution_count": null,
      "outputs": []
    },
    {
      "cell_type": "markdown",
      "source": [
        "11. Escreva um programa que peça um número para o usuário e cheque se esse número é par ou ímpar utilizando estruturas `if-else`."
      ],
      "metadata": {
        "id": "fspyry5tZVwg"
      }
    },
    {
      "cell_type": "code",
      "source": [
        "n = int(input(\"Digite um número\"))\n",
        "if n % 2 ==0:\n",
        "  print(\"O número é par\")\n",
        "else:\n",
        "  print(\"O número é ímpar\")"
      ],
      "metadata": {
        "colab": {
          "base_uri": "https://localhost:8080/"
        },
        "id": "L-9HkMg7H3BP",
        "outputId": "9d2534a7-3145-4c79-908a-9c409f1edd8b"
      },
      "execution_count": null,
      "outputs": [
        {
          "output_type": "stream",
          "name": "stdout",
          "text": [
            "Digite um número-3\n",
            "O número é ímpar\n"
          ]
        }
      ]
    },
    {
      "cell_type": "code",
      "source": [],
      "metadata": {
        "id": "J5_AAt7gZX8W"
      },
      "execution_count": null,
      "outputs": []
    },
    {
      "cell_type": "markdown",
      "source": [
        "12. Escreva um programa que sorteie aleatoriamente 3 números e imprima na tela o mais alto deles utilizando `if`, `elif` e `else`."
      ],
      "metadata": {
        "id": "nE_8DXugZYyj"
      }
    },
    {
      "cell_type": "code",
      "source": [
        "import random\n",
        "s1 = random.randint(1,100)\n",
        "s2 = random.randint(1,100)\n",
        "s3 = random.randint(1,100)\n",
        "print(\"Números sorteados: {},{},{}\".format(s1,s2,s3))\n",
        "if s1>s2 and s1>s3:\n",
        "  print(\"{} é o maior número\".format(s1))\n",
        "elif s2>s1 and s2>s3:\n",
        "  print(\"{} é o maior número\".format(s2))\n",
        "else:\n",
        "  print(\"{} é o maior número\".format(s3))"
      ],
      "metadata": {
        "id": "NhaojKOwZbgM",
        "colab": {
          "base_uri": "https://localhost:8080/"
        },
        "outputId": "2460dc3f-b4b1-4c23-eff3-d2a8180818a7"
      },
      "execution_count": null,
      "outputs": [
        {
          "output_type": "stream",
          "name": "stdout",
          "text": [
            "Números sorteados: 22,51,97\n",
            "97 é o maior número\n"
          ]
        }
      ]
    },
    {
      "cell_type": "markdown",
      "source": [
        "13. Escreva um programa para checar se um dado número é primo ou não. Utilize as estruturas `for` e `if`."
      ],
      "metadata": {
        "id": "ZRP1knOOZcFN"
      }
    },
    {
      "cell_type": "code",
      "source": [
        "print(\"Verificação se o número é primo\")\n",
        "n = int(input(\"Digite um numero\"))\n",
        "tot = 0\n",
        "for p in range(1,n+1):\n",
        "  if n % p == 0:\n",
        "    tot = tot+1 #contador\n",
        "print(\"{} foi divisível {} vezes\".format(n,tot))\n",
        "if tot > 2: #Verifica se é primo\n",
        "  print(\"Portanto, {} não é primo\".format(n))\n",
        "else:\n",
        "  print(\"Portanto, {} não é primo\".format(n))"
      ],
      "metadata": {
        "id": "HioNC_vwZfsW",
        "colab": {
          "base_uri": "https://localhost:8080/"
        },
        "outputId": "a70889e5-e667-4ecc-89cf-b468b84f151e"
      },
      "execution_count": null,
      "outputs": [
        {
          "output_type": "stream",
          "name": "stdout",
          "text": [
            "Verificação se o número é primo\n",
            "Digite um numero10\n",
            "10 foi divisível 4 vezes\n",
            "Portanto, 10 não é primo\n"
          ]
        }
      ]
    },
    {
      "cell_type": "markdown",
      "source": [
        "14. Escreva um programa em que o usuário tenha que adivinhar um número inteiro de 1 a 10. O programa deve fornecer dicas se o palpite está muito alto ou muito baixo e deve parar quando o usuário acertar a resposta."
      ],
      "metadata": {
        "id": "ZCsxriqRZggz"
      }
    },
    {
      "cell_type": "code",
      "source": [
        "import random\n",
        "\n",
        "n = random.randint(1, 10)\n",
        "\n",
        "print(\"Adivinhe o número entre 1 e 10!\")\n",
        "\n",
        "while True:\n",
        "    palpite = int(input(\"Digite seu palpite: \"))\n",
        "    if palpite == n:\n",
        "        print(\"Parabéns! Você acertou!\")\n",
        "        break  # Sai do loop se o palpite estiver correto\n",
        "    elif palpite < n:\n",
        "        print(\"Muito baixo! Tente novamente.\")\n",
        "    else:\n",
        "        print(\"Muito alto! Tente novamente.\")\n"
      ],
      "metadata": {
        "id": "1jagxoBqZjn2",
        "colab": {
          "base_uri": "https://localhost:8080/"
        },
        "outputId": "7b501a33-d9ce-4643-d4a5-11b57e5d9e61"
      },
      "execution_count": null,
      "outputs": [
        {
          "output_type": "stream",
          "name": "stdout",
          "text": [
            "Adivinhe o número entre 1 e 10!\n",
            "Digite seu palpite: 5\n",
            "Muito baixo! Tente novamente.\n",
            "Digite seu palpite: 7\n",
            "Muito baixo! Tente novamente.\n",
            "Digite seu palpite: 8\n",
            "Muito baixo! Tente novamente.\n",
            "Digite seu palpite: 10\n",
            "Parabéns! Você acertou!\n"
          ]
        }
      ]
    },
    {
      "cell_type": "markdown",
      "source": [
        "*15*. Escreva um programa que calcule o fatorial de um número utilizando um laço `for`."
      ],
      "metadata": {
        "id": "JzV9jZ4lZlG6"
      }
    },
    {
      "cell_type": "code",
      "source": [
        "n = int(input(\"Digite um valor \"))\n",
        "f = 1\n",
        "for i in range(1,n+1):\n",
        "  f= f*i\n",
        "print(\"O fatorial de {} é {}\".format(n,f))\n"
      ],
      "metadata": {
        "colab": {
          "base_uri": "https://localhost:8080/"
        },
        "id": "AdL286EmMF1w",
        "outputId": "b9cf584e-df43-4c52-907e-2ae15062c33d"
      },
      "execution_count": null,
      "outputs": [
        {
          "output_type": "stream",
          "name": "stdout",
          "text": [
            "Digite um valor 5\n",
            "O fatorial de 5 é 120\n"
          ]
        }
      ]
    },
    {
      "cell_type": "code",
      "source": [],
      "metadata": {
        "id": "Nh7dMjTQZo09"
      },
      "execution_count": null,
      "outputs": []
    },
    {
      "cell_type": "markdown",
      "source": [
        "16. Escreva um programa que receba uma _string_ do usuário e conte o número de vogais utilizando estruturas `for`e `if`."
      ],
      "metadata": {
        "id": "UmSodTLoZp_5"
      }
    },
    {
      "cell_type": "code",
      "source": [
        "tx = str(input(\"Digite uma palavra\"))\n",
        "vogais = \"aeiouAEIOU\"\n",
        "s = 0\n",
        "for l in tx:\n",
        "  if l in vogais:\n",
        "    s = s+1\n",
        "print(\"A palavra {} tem {} vogais\".format(tx,s))"
      ],
      "metadata": {
        "colab": {
          "base_uri": "https://localhost:8080/"
        },
        "id": "94e3xXCOLQz8",
        "outputId": "d4207c5c-6ea1-4568-f8d7-d2198f4bd627"
      },
      "execution_count": null,
      "outputs": [
        {
          "output_type": "stream",
          "name": "stdout",
          "text": [
            "Digite uma palavrafdgfgjdfdfg\n",
            "A palavra fdgfgjdfdfg tem 0 vogais\n"
          ]
        }
      ]
    },
    {
      "cell_type": "code",
      "source": [],
      "metadata": {
        "id": "SiNGSPq0ZtIV"
      },
      "execution_count": null,
      "outputs": []
    },
    {
      "cell_type": "markdown",
      "source": [
        "17. Usando o Método da Biseção, calcule o volume molar do **n-pentano** a 500 kPa atm e 60°C usando:<br>\n",
        "a) Gás ideal; <br>\n",
        "b) van der Waals; <br>\n",
        "c) Redlich-Kwong; <br>\n",
        "d) Peng-Robinson. <br>"
      ],
      "metadata": {
        "id": "DjmjBzKnZt4s"
      }
    },
    {
      "cell_type": "code",
      "source": [
        "#Gás ideal\n",
        "R = 8.3144  # Constante dos gases em L·kPa/K·mol\n",
        "T = 333.15  # Temperatura\n",
        "P = 500  # Pressão em kPa\n",
        "\n",
        "# Volume molar para gás ideal\n",
        "V_gas_ideal = (R * T) / P\n",
        "print(\"Volume molar (gás ideal): {:.4f} L/mol\".format(V_gas_ideal))\n"
      ],
      "metadata": {
        "id": "h4Mv-7BJaYQU",
        "colab": {
          "base_uri": "https://localhost:8080/"
        },
        "outputId": "d22a7a90-8292-4f69-8a6e-71309f8f550f"
      },
      "execution_count": null,
      "outputs": [
        {
          "output_type": "stream",
          "name": "stdout",
          "text": [
            "Volume molar (gás ideal): 5.5399 L/mol\n"
          ]
        }
      ]
    },
    {
      "cell_type": "code",
      "source": [
        "#Van der walls\n",
        "\n",
        "T_c = 425.2  # K\n",
        "P_c = 3789  # kPa\n",
        "# Parâmetros de van der Waals\n",
        "a_vdw = (27 * (R**2) * (T_c**2)) / (64 * P_c)\n",
        "b_vdw = (R * T_c) / (8 * P_c)\n",
        "\n",
        "# Função para resolver van der Waals com bisseção\n",
        "def van_der_waals(P, T, R, a, b):\n",
        "    def f_vdw(V_m):\n",
        "        return (P + a / V_m**2) * (V_m - b) - R * T\n",
        "    V_min, V_max = 0.1, 50\n",
        "    while abs(V_max - V_min) > 1e-6:\n",
        "        V_mid = (V_min + V_max) / 2\n",
        "        if f_vdw(V_min) * f_vdw(V_mid) < 0:\n",
        "            V_max = V_mid\n",
        "        else:\n",
        "            V_min = V_mid\n",
        "    return (V_min + V_max) / 2\n",
        "\n",
        "V_vdw = van_der_waals(P, T, R, a_vdw, b_vdw)\n",
        "print(f\"Volume molar (van der Waals): {V_vdw:.4f} L/mol\")\n"
      ],
      "metadata": {
        "colab": {
          "base_uri": "https://localhost:8080/"
        },
        "id": "dbFrr5gZXCK4",
        "outputId": "cd29ec1c-3401-4b12-c899-a22d21afb9b0"
      },
      "execution_count": null,
      "outputs": [
        {
          "output_type": "stream",
          "name": "stdout",
          "text": [
            "Volume molar (van der Waals): 5.1259 L/mol\n"
          ]
        }
      ]
    },
    {
      "cell_type": "code",
      "source": [
        "#Redlich-Kwong\n",
        "import math\n",
        "def redlich_kwong(P, T, R, T_c, P_c):\n",
        "    # Parâmetros de Redlich-Kwong\n",
        "    a_rk = 0.42748 * (R**2 * T_c**2.5) / P_c\n",
        "    b_rk = 0.08664 * (R * T_c) / P_c\n",
        "\n",
        "    def f_rk(V_m):\n",
        "        if V_m <= b_rk:\n",
        "            return float('inf')  # Prevenindo divisão por zero ou valores muito pequenos\n",
        "        return P - ((R * T) / (V_m - b_rk) - a_rk / (math.sqrt(T) * V_m * (V_m + b_rk)))\n",
        "\n",
        "    # Limites de busca\n",
        "    V_min, V_max = 0.1, 50  # Intervalo inicial para V_m\n",
        "\n",
        "    # Método da bisseção\n",
        "    while abs(V_max - V_min) > 1e-6:\n",
        "        V_mid = (V_min + V_max) / 2\n",
        "        f_min = f_rk(V_min)\n",
        "        f_mid = f_rk(V_mid)\n",
        "\n",
        "        # Prevenindo problemas com valores muito pequenos\n",
        "        if abs(f_mid) < 1e-6:\n",
        "            return V_mid\n",
        "        elif f_min * f_mid < 0:\n",
        "            V_max = V_mid\n",
        "        else:\n",
        "            V_min = V_mid\n",
        "\n",
        "    return (V_min + V_max) / 2\n",
        "\n",
        "# Parâmetros de entrada\n",
        "R = 8.3144  # Constante dos gases em L·kPa/K·mol\n",
        "T = 333.15  # Temperatura em K\n",
        "P = 500  # Pressão em kPa\n",
        "T_c = 425.2  # Temperatura crítica em K\n",
        "P_c = 3789  # Pressão crítica em kPa\n",
        "\n",
        "# Chamando a função com os parâmetros fornecidos\n",
        "V_rk = redlich_kwong(P, T, R, T_c, P_c)\n",
        "print(\"Volume molar (Redlich-Kwong): {:.4f} L/mol\".format(V_rk))\n"
      ],
      "metadata": {
        "colab": {
          "base_uri": "https://localhost:8080/"
        },
        "id": "AIERNcsjXNQo",
        "outputId": "f062cf53-aafe-486a-fefa-977dd48aceab"
      },
      "execution_count": null,
      "outputs": [
        {
          "output_type": "stream",
          "name": "stdout",
          "text": [
            "Volume molar (Redlich-Kwong): 5.0043 L/mol\n"
          ]
        }
      ]
    },
    {
      "cell_type": "code",
      "source": [
        "#Peng\n",
        "import math\n",
        "\n",
        "# Constantes\n",
        "omega = 0.193\n",
        "kappa = 0.37464 + 1.54226 * omega - 0.26992 * omega**2\n",
        "T_r = T / T_c\n",
        "alpha = (1 + kappa * (1 - math.sqrt(T_r)))**2\n",
        "\n",
        "a_pr = 0.45724 * (R**2 * T_c**2) / P_c\n",
        "b_pr = 0.07780 * (R * T_c) / P_c\n",
        "\n",
        "def peng_robinson(P, T, R, T_c, P_c, alpha):\n",
        "    def f_pr(V_m):\n",
        "# Verificação para evitar divisões por zero\n",
        "        if V_m <= b_pr:\n",
        "            return float('inf')  # Prevenir divisão por zero\n",
        "\n",
        "# Equação de Peng-Robinson\n",
        "        return P - ((R * T) / (V_m - b_pr) - a_pr * alpha / (V_m * (V_m + b_pr) + b_pr * (V_m - b_pr)))\n",
        "\n",
        "# Limites de busca\n",
        "    V_min, V_max = 0.1, 50  # Intervalo inicial para V_m\n",
        "\n",
        "    # Método da bisseção\n",
        "    while abs(V_max - V_min) > 1e-6:\n",
        "        V_mid = (V_min + V_max) / 2\n",
        "        f_min = f_pr(V_min)\n",
        "        f_mid = f_pr(V_mid)\n",
        "\n",
        "        # Verificação se f_mid é muito pequeno\n",
        "        if abs(f_mid) < 1e-6:\n",
        "            return V_mid\n",
        "        elif f_min * f_mid < 0:\n",
        "            V_max = V_mid\n",
        "        else:\n",
        "            V_min = V_mid\n",
        "\n",
        "    return (V_min + V_max) / 2\n",
        "\n",
        "# Parâmetros de entrada\n",
        "R = 8.3144  # Constante dos gases em L·kPa/K·mol\n",
        "T = 333.15  # Temperatura em K\n",
        "P = 500  # Pressão em kPa\n",
        "T_c = 425.2  # Temperatura crítica em K\n",
        "P_c = 3789  # Pressão crítica em kPa\n",
        "\n",
        "# Chamando a função com os parâmetros fornecidos\n",
        "V_pr = peng_robinson(P, T, R, T_c, P_c, alpha)\n",
        "print(\"Volume molar (Peng-Robinson): {:.4f} L/mol\".format(V_pr))\n"
      ],
      "metadata": {
        "colab": {
          "base_uri": "https://localhost:8080/"
        },
        "id": "ucn12TpuXn_j",
        "outputId": "e7126cdc-9d8d-49fb-e0ea-8e05eeae9b1e"
      },
      "execution_count": null,
      "outputs": [
        {
          "output_type": "stream",
          "name": "stdout",
          "text": [
            "Volume molar (Peng-Robinson): 4.9349 L/mol\n"
          ]
        }
      ]
    },
    {
      "cell_type": "markdown",
      "source": [
        "18. 17. Usando o Método de Newton-Raphson, calcule o volume molar do **n-pentano** a 500 kPa atm e 60°C usando:<br>\n",
        "a) Gás ideal; <br>\n",
        "b) van der Waals; <br>\n",
        "c) Redlich-Kwong; <br>\n",
        "d) Peng-Robinson. <br>"
      ],
      "metadata": {
        "id": "IZnIgOY9aaxA"
      }
    },
    {
      "cell_type": "code",
      "source": [
        "#Gás ideal\n",
        "# Parâmetros\n",
        "R = 8.3144  # Constante dos gases em J/mol·K\n",
        "T = 333.15  # Temperatura em K (60°C)\n",
        "P = 500     # Pressão em kPa\n",
        "\n",
        "# Método de Newton-Raphson\n",
        "V_m = 0.1  # Chute inicial para o volume molar\n",
        "\n",
        "for _ in range(100):\n",
        "    f_ideal = P * V_m - R * T\n",
        "    df_ideal = P  # Derivada de f(V_m) = P\n",
        "    V_m_new = V_m - f_ideal / df_ideal  # Atualiza o valor do volume molar\n",
        "    if abs(V_m_new - V_m) < 1e-6:  # Critério de convergência\n",
        "        break\n",
        "    V_m = V_m_new\n",
        "\n",
        "print(\"Volume molar (Gás Ideal - Newton-Raphson): {:.4f} L/mol\".format(V_m))\n",
        "\n"
      ],
      "metadata": {
        "id": "DvKNYPG4aet2",
        "colab": {
          "base_uri": "https://localhost:8080/"
        },
        "outputId": "24863ab1-1634-4500-c378-2c052c61a0cc"
      },
      "execution_count": null,
      "outputs": [
        {
          "output_type": "stream",
          "name": "stdout",
          "text": [
            "Volume molar (Gás Ideal - Newton-Raphson): 5.5399 L/mol\n"
          ]
        }
      ]
    },
    {
      "cell_type": "code",
      "source": [
        "# Van der Waals\n",
        "import math\n",
        "\n",
        "# Parâmetros\n",
        "a = 17.85  # Cte\n",
        "b = 0.13   # Cte\n",
        "R = 8.3144  # cte L.kPa/K.mol\n",
        "T = 333.15  # T em K\n",
        "P = 500     # Pressão em kPa\n",
        "\n",
        "# Método de Newton\n",
        "V_m = 4  #Chute inicial\n",
        "\n",
        "for _ in range(100):\n",
        "    # Função de Van der Waals\n",
        "    f_vdw = P - (R * T) / (V_m - b) + a / V_m**2\n",
        "\n",
        "    # Derivada da função\n",
        "    df_vdw = (R * T) / (V_m - b)**2 - (2 * a) / V_m**3\n",
        "\n",
        "    # Atualizar o valor de V_m usando o método de Newton\n",
        "    V_m_new = V_m - f_vdw / df_vdw\n",
        "\n",
        "    # Verificar critério de convergência\n",
        "    if abs(V_m_new - V_m) < 1e-6:\n",
        "        V_m = V_m_new\n",
        "        break\n",
        "\n",
        "    V_m = V_m_new\n",
        "\n",
        "print(\"Volume molar (van der Waals): {:.4f} L/mol\".format(V_m))\n"
      ],
      "metadata": {
        "colab": {
          "base_uri": "https://localhost:8080/"
        },
        "id": "6R_iXuMUZ9EB",
        "outputId": "333e46c3-76e1-4c8f-eae8-58b1a4829ac1"
      },
      "execution_count": null,
      "outputs": [
        {
          "output_type": "stream",
          "name": "stdout",
          "text": [
            "Volume molar (van der Waals): 5.6637 L/mol\n"
          ]
        }
      ]
    },
    {
      "cell_type": "code",
      "source": [
        "import math\n",
        "\n",
        "# Parâmetros para Redlich-Kwong\n",
        "R = 8.3144  # Constante dos gases em L·kPa/(K·mol)\n",
        "T = 333.15  # Temperatura em K (60°C)\n",
        "P = 500     # Pressão em kPa\n",
        "T_c = 425.2 # Temperatura crítica do n-butano em K\n",
        "P_c = 3789  # Pressão crítica do n-butano em kPa\n",
        "\n",
        "# Cálculo das constantes a e b para Redlich-Kwong\n",
        "a_rk = 0.42748 * (R**2 * T_c**2.5) / P_c\n",
        "b_rk = 0.08664 * (R * T_c) / P_c\n",
        "\n",
        "# Método de Newton-Raphson\n",
        "V_m = 5.0  # Chute inicial ajustado para 5 L/mol\n",
        "\n",
        "for _ in range(100):\n",
        "    # Função de Redlich-Kwong\n",
        "    f_rk = P - (R * T / (V_m - b_rk)) + (a_rk / (math.sqrt(T) * V_m * (V_m + b_rk)))\n",
        "\n",
        "    # Derivada da função\n",
        "    df_rk = -(R * T / (V_m - b_rk)**2) + (a_rk * (2 * V_m + b_rk) / (math.sqrt(T) * V_m**2 * (V_m + b_rk)**2))\n",
        "\n",
        "    # Atualização do valor de V_m usando o método de Newton-Raphson\n",
        "    V_m_new = V_m - f_rk / df_rk\n",
        "\n",
        "    # Verificar critério de convergência\n",
        "    if abs(V_m_new - V_m) < 1e-6:\n",
        "        V_m = V_m_new\n",
        "        break\n",
        "\n",
        "    V_m = V_m_new\n",
        "\n",
        "print(\"Volume molar (Redlich-Kwong): {:.4f} L/mol\".format(V_m))\n"
      ],
      "metadata": {
        "colab": {
          "base_uri": "https://localhost:8080/"
        },
        "id": "KrExQ0e1aIrB",
        "outputId": "0eded984-f68a-4354-b0d4-1fc879671dee"
      },
      "execution_count": null,
      "outputs": [
        {
          "output_type": "stream",
          "name": "stdout",
          "text": [
            "Volume molar (Redlich-Kwong): 0.0808 L/mol\n"
          ]
        }
      ]
    },
    {
      "cell_type": "code",
      "source": [
        "#Peng\n",
        "import math\n",
        "\n",
        "# Parâmetros para Peng-Robinson\n",
        "R = 8.3144     # Constante dos gases\n",
        "T = 333.15     # Temperatura em K (60°C)\n",
        "P = 500        # Pressão em kPa\n",
        "T_c = 469.7    # Temperatura crítica do n-pentano (exemplo)\n",
        "P_c = 3370     # Pressão crítica do n-pentano (exemplo)\n",
        "omega = 0.193  # Fator acêntrico\n",
        "\n",
        "kappa = 0.37464 + 1.54226 * omega - 0.26992 * omega**2\n",
        "T_r = T / T_c\n",
        "alpha = (1 + kappa * (1 - math.sqrt(T_r)))**2\n",
        "\n",
        "a_pr = 0.45724 * (R**2 * T_c**2) / P_c\n",
        "b_pr = 0.07780 * (R * T_c) / P_c\n",
        "\n",
        "# Método de Newton-Raphson\n",
        "V_m = 0.1  # Chute inicial\n",
        "\n",
        "for _ in range(100):\n",
        "    f_pr = P - (R * T / (V_m - b_pr)) + a_pr * alpha / (V_m * (V_m + b_pr) + b_pr * (V_m - b_pr))\n",
        "    df_pr = -(R * T / (V_m - b_pr)**2) + a_pr * alpha * (2 * V_m + b_pr) / (V_m**2 * (V_m + b_pr)**2 + b_pr * (V_m - b_pr)**2)\n",
        "    V_m_new = V_m - f_pr / df_pr\n",
        "    if abs(V_m_new - V_m) < 1e-6:\n",
        "        break\n",
        "    V_m = V_m_new\n",
        "\n",
        "print(\"Volume molar (Peng-Robinson): {:.4f} L/mol\".format(V_m))\n"
      ],
      "metadata": {
        "colab": {
          "base_uri": "https://localhost:8080/"
        },
        "id": "db3sOkZDaRHf",
        "outputId": "d51f5634-7efc-43f9-ac89-93a41dc3d772"
      },
      "execution_count": null,
      "outputs": [
        {
          "output_type": "stream",
          "name": "stdout",
          "text": [
            "Volume molar (Peng-Robinson): 0.0902 L/mol\n"
          ]
        }
      ]
    }
  ]
}